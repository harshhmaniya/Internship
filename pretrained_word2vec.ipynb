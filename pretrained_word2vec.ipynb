{
 "cells": [
  {
   "cell_type": "code",
   "execution_count": 1,
   "metadata": {
    "id": "CC9T1lNeuPCR"
   },
   "outputs": [],
   "source": [
    "import gensim\n",
    "import gensim.downloader as api"
   ]
  },
  {
   "cell_type": "code",
   "execution_count": 2,
   "metadata": {
    "colab": {
     "base_uri": "https://localhost:8080/"
    },
    "id": "_yG-WqhG1uMb",
    "outputId": "5d91119c-4dcb-4bae-effe-2d6c4d5833b3"
   },
   "outputs": [
    {
     "data": {
      "text/plain": [
       "dict_keys(['fasttext-wiki-news-subwords-300', 'conceptnet-numberbatch-17-06-300', 'word2vec-ruscorpora-300', 'word2vec-google-news-300', 'glove-wiki-gigaword-50', 'glove-wiki-gigaword-100', 'glove-wiki-gigaword-200', 'glove-wiki-gigaword-300', 'glove-twitter-25', 'glove-twitter-50', 'glove-twitter-100', 'glove-twitter-200', '__testing_word2vec-matrix-synopsis'])"
      ]
     },
     "execution_count": 2,
     "metadata": {},
     "output_type": "execute_result"
    }
   ],
   "source": [
    "api.info()['models'].keys()"
   ]
  },
  {
   "cell_type": "markdown",
   "metadata": {
    "id": "fQwmNJDm2jpJ"
   },
   "source": [
    "## glove-wiki-gigaword-50 Model"
   ]
  },
  {
   "cell_type": "code",
   "execution_count": 15,
   "metadata": {
    "id": "ZR4GqPyG2qB5"
   },
   "outputs": [],
   "source": [
    "wiki_50_glove = api.load('glove-wiki-gigaword-50')"
   ]
  },
  {
   "cell_type": "code",
   "execution_count": 16,
   "metadata": {
    "colab": {
     "base_uri": "https://localhost:8080/"
    },
    "id": "j7TtoqsH2xiD",
    "outputId": "fdb7adf1-fca4-46c5-ea0d-735969126dcd"
   },
   "outputs": [
    {
     "data": {
      "text/plain": [
       "[('products', 0.7984759211540222),\n",
       " ('coffee', 0.7853199243545532),\n",
       " ('supplies', 0.7699311375617981),\n",
       " ('meat', 0.769260823726654),\n",
       " ('foods', 0.7517945766448975),\n",
       " ('supply', 0.7429676651954651),\n",
       " ('goods', 0.7426424026489258),\n",
       " ('items', 0.7383918166160583),\n",
       " ('vegetables', 0.7383119463920593),\n",
       " ('medicines', 0.7366275787353516)]"
      ]
     },
     "execution_count": 16,
     "metadata": {},
     "output_type": "execute_result"
    }
   ],
   "source": [
    "wiki_50_glove.most_similar('food', topn = 10)"
   ]
  },
  {
   "cell_type": "markdown",
   "metadata": {
    "id": "MM6t5Rp53nr-"
   },
   "source": [
    "## glove-wiki-gigaword-200 Model"
   ]
  },
  {
   "cell_type": "code",
   "execution_count": 17,
   "metadata": {
    "id": "84KTuktf3fBD"
   },
   "outputs": [],
   "source": [
    "wiki_200_glove = api.load('glove-wiki-gigaword-200')"
   ]
  },
  {
   "cell_type": "code",
   "execution_count": 18,
   "metadata": {
    "colab": {
     "base_uri": "https://localhost:8080/"
    },
    "id": "avJWH-UZ4O5u",
    "outputId": "861aedf6-011d-4553-905e-faa128adadfc"
   },
   "outputs": [
    {
     "data": {
      "text/plain": [
       "[('foods', 0.7071868181228638),\n",
       " ('supplies', 0.6728929877281189),\n",
       " ('products', 0.6317433714866638),\n",
       " ('eating', 0.6229158639907837),\n",
       " ('eat', 0.6227813363075256),\n",
       " ('meat', 0.6220186352729797),\n",
       " ('vegetables', 0.6154162883758545),\n",
       " ('foodstuffs', 0.6085902452468872),\n",
       " ('meals', 0.6050760746002197),\n",
       " ('nutrition', 0.6017112731933594)]"
      ]
     },
     "execution_count": 18,
     "metadata": {},
     "output_type": "execute_result"
    }
   ],
   "source": [
    "wiki_200_glove.most_similar('food', topn = 10)"
   ]
  },
  {
   "cell_type": "markdown",
   "metadata": {
    "id": "6GsY8aDi32xX"
   },
   "source": [
    "## glove-wiki-gigaword-300 Model"
   ]
  },
  {
   "cell_type": "code",
   "execution_count": 19,
   "metadata": {
    "id": "z-NTexA331M6"
   },
   "outputs": [],
   "source": [
    "wiki_300_glove = api.load('glove-wiki-gigaword-300')"
   ]
  },
  {
   "cell_type": "code",
   "execution_count": 20,
   "metadata": {
    "colab": {
     "base_uri": "https://localhost:8080/"
    },
    "id": "sWUbMev_3-_J",
    "outputId": "a6e16626-ecc6-4738-aa05-b1820e3dcc09"
   },
   "outputs": [
    {
     "data": {
      "text/plain": [
       "[('foods', 0.6694071292877197),\n",
       " ('supplies', 0.6068812608718872),\n",
       " ('eat', 0.5903003215789795),\n",
       " ('meat', 0.5677605271339417),\n",
       " ('eating', 0.5674231052398682),\n",
       " ('meals', 0.5671917200088501),\n",
       " ('products', 0.5494305491447449),\n",
       " ('meal', 0.5464715957641602),\n",
       " ('vegetables', 0.5447412133216858),\n",
       " ('nutrition', 0.5385703444480896)]"
      ]
     },
     "execution_count": 20,
     "metadata": {},
     "output_type": "execute_result"
    }
   ],
   "source": [
    "wiki_300_glove.most_similar('food', topn = 10)"
   ]
  },
  {
   "cell_type": "markdown",
   "metadata": {
    "id": "W3U1XVOc4w09"
   },
   "source": [
    "## word2vec-google-news-300 Model"
   ]
  },
  {
   "cell_type": "code",
   "execution_count": 10,
   "metadata": {
    "colab": {
     "base_uri": "https://localhost:8080/"
    },
    "id": "9ZMSDb2F4geo",
    "outputId": "0b850705-d3e9-4261-b38f-753b682661f0"
   },
   "outputs": [
    {
     "name": "stdout",
     "output_type": "stream",
     "text": [
      "[==================================================] 100.0% 1662.8/1662.8MB downloaded\n"
     ]
    }
   ],
   "source": [
    "google_news_300_w2v = api.load('word2vec-google-news-300')"
   ]
  },
  {
   "cell_type": "code",
   "execution_count": 12,
   "metadata": {
    "colab": {
     "base_uri": "https://localhost:8080/"
    },
    "id": "e3f7lE6P4--Q",
    "outputId": "c8444e9d-763b-44e1-fed0-cccfe22044a9"
   },
   "outputs": [
    {
     "data": {
      "text/plain": [
       "[('foods', 0.6804922819137573),\n",
       " ('Food', 0.6538903713226318),\n",
       " ('foodstuffs', 0.642582893371582),\n",
       " ('meals', 0.616668701171875),\n",
       " ('food_stuffs', 0.5928642153739929),\n",
       " ('nourishing_meals', 0.5847609043121338),\n",
       " ('foodstuff', 0.5835224986076355),\n",
       " ('staple_foods', 0.5535788536071777),\n",
       " ('nutritious', 0.5466451644897461),\n",
       " ('meal', 0.5433712601661682)]"
      ]
     },
     "execution_count": 12,
     "metadata": {},
     "output_type": "execute_result"
    }
   ],
   "source": [
    "google_news_300_w2v.most_similar('food', topn = 10)"
   ]
  },
  {
   "cell_type": "code",
   "execution_count": 14,
   "metadata": {
    "colab": {
     "base_uri": "https://localhost:8080/"
    },
    "id": "rIUIGfc67owE",
    "outputId": "a1130251-c81a-4c0b-a1cc-b7a336f06675"
   },
   "outputs": [
    {
     "data": {
      "text/plain": [
       "[('wars', 0.748465895652771),\n",
       " ('War', 0.6410670280456543),\n",
       " ('invasion', 0.5892109870910645),\n",
       " ('Persian_Gulf_War', 0.5890660285949707),\n",
       " ('Vietnam_War', 0.5886474847793579),\n",
       " ('Iraq', 0.5885995030403137),\n",
       " ('unwinnable_quagmire', 0.5681803226470947),\n",
       " ('un_winnable', 0.5606350302696228),\n",
       " ('occupation', 0.5506216883659363),\n",
       " ('conflict', 0.5506188869476318)]"
      ]
     },
     "execution_count": 14,
     "metadata": {},
     "output_type": "execute_result"
    }
   ],
   "source": [
    "google_news_300_w2v.most_similar('war', topn = 10)"
   ]
  },
  {
   "cell_type": "code",
   "execution_count": null,
   "metadata": {
    "id": "-oPKa06F7url"
   },
   "outputs": [],
   "source": []
  }
 ],
 "metadata": {
  "accelerator": "GPU",
  "colab": {
   "gpuType": "T4",
   "provenance": []
  },
  "kernelspec": {
   "display_name": "Python 3 (ipykernel)",
   "language": "python",
   "name": "python3"
  },
  "language_info": {
   "codemirror_mode": {
    "name": "ipython",
    "version": 3
   },
   "file_extension": ".py",
   "mimetype": "text/x-python",
   "name": "python",
   "nbconvert_exporter": "python",
   "pygments_lexer": "ipython3",
   "version": "3.12.4"
  }
 },
 "nbformat": 4,
 "nbformat_minor": 4
}
