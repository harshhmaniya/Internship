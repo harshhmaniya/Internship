{
 "cells": [
  {
   "cell_type": "code",
   "execution_count": 78,
   "id": "e829e39a-d9a1-4514-b119-36e887eb21ed",
   "metadata": {},
   "outputs": [],
   "source": [
    "import numpy as np\n",
    "import pandas as pd\n",
    "import matplotlib.pyplot as plt\n",
    "import seaborn as sns"
   ]
  },
  {
   "cell_type": "markdown",
   "id": "e3f2b956-4d0e-4a4f-9f19-3bef0f930619",
   "metadata": {},
   "source": [
    "<h2>Descriptive Statistic</h2>"
   ]
  },
  {
   "cell_type": "markdown",
   "id": "9d2b1cf1-3df7-4c21-8794-eded6af454e2",
   "metadata": {},
   "source": [
    "<h3>Measures of Central Tendency</h3>"
   ]
  },
  {
   "cell_type": "markdown",
   "id": "cbb5f356-aefd-4bb6-999e-b79bee1ebfee",
   "metadata": {},
   "source": [
    "<h4>Mean</h4>"
   ]
  },
  {
   "cell_type": "markdown",
   "id": "519ab2c6-1d0f-40ef-8480-30175015e5da",
   "metadata": {},
   "source": [
    "List / Array"
   ]
  },
  {
   "cell_type": "code",
   "execution_count": 3,
   "id": "69d8e285-57d4-484c-8b4b-67ed386ef4b9",
   "metadata": {},
   "outputs": [],
   "source": [
    "lst = [23, 78, 1, 90, 36, 82]"
   ]
  },
  {
   "cell_type": "code",
   "execution_count": 4,
   "id": "902db60f-7ab2-4a2c-b2e9-1859b899c5bc",
   "metadata": {},
   "outputs": [
    {
     "data": {
      "text/plain": [
       "51.666666666666664"
      ]
     },
     "execution_count": 4,
     "metadata": {},
     "output_type": "execute_result"
    }
   ],
   "source": [
    "mean = np.mean(lst)\n",
    "mean"
   ]
  },
  {
   "cell_type": "markdown",
   "id": "65fbe844-df71-4446-a8d4-dc0e5625a0cd",
   "metadata": {},
   "source": [
    "DataFrame"
   ]
  },
  {
   "cell_type": "code",
   "execution_count": 5,
   "id": "395d7e73-f876-42c6-8443-eee096323a4f",
   "metadata": {},
   "outputs": [],
   "source": [
    "df = pd.read_csv('real_estate_dataset.csv')"
   ]
  },
  {
   "cell_type": "code",
   "execution_count": 6,
   "id": "6e648a95-a291-493f-ac1b-dd0601da4ed6",
   "metadata": {},
   "outputs": [
    {
     "data": {
      "text/html": [
       "<div>\n",
       "<style scoped>\n",
       "    .dataframe tbody tr th:only-of-type {\n",
       "        vertical-align: middle;\n",
       "    }\n",
       "\n",
       "    .dataframe tbody tr th {\n",
       "        vertical-align: top;\n",
       "    }\n",
       "\n",
       "    .dataframe thead th {\n",
       "        text-align: right;\n",
       "    }\n",
       "</style>\n",
       "<table border=\"1\" class=\"dataframe\">\n",
       "  <thead>\n",
       "    <tr style=\"text-align: right;\">\n",
       "      <th></th>\n",
       "      <th>ID</th>\n",
       "      <th>Square_Feet</th>\n",
       "      <th>Num_Bedrooms</th>\n",
       "      <th>Num_Bathrooms</th>\n",
       "      <th>Num_Floors</th>\n",
       "      <th>Year_Built</th>\n",
       "      <th>Has_Garden</th>\n",
       "      <th>Has_Pool</th>\n",
       "      <th>Garage_Size</th>\n",
       "      <th>Location_Score</th>\n",
       "      <th>Distance_to_Center</th>\n",
       "      <th>Price</th>\n",
       "    </tr>\n",
       "  </thead>\n",
       "  <tbody>\n",
       "    <tr>\n",
       "      <th>0</th>\n",
       "      <td>1</td>\n",
       "      <td>143.635030</td>\n",
       "      <td>1</td>\n",
       "      <td>3</td>\n",
       "      <td>3</td>\n",
       "      <td>1967</td>\n",
       "      <td>1</td>\n",
       "      <td>1</td>\n",
       "      <td>48</td>\n",
       "      <td>8.297631</td>\n",
       "      <td>5.935734</td>\n",
       "      <td>602134.816747</td>\n",
       "    </tr>\n",
       "    <tr>\n",
       "      <th>1</th>\n",
       "      <td>2</td>\n",
       "      <td>287.678577</td>\n",
       "      <td>1</td>\n",
       "      <td>2</td>\n",
       "      <td>1</td>\n",
       "      <td>1949</td>\n",
       "      <td>0</td>\n",
       "      <td>1</td>\n",
       "      <td>37</td>\n",
       "      <td>6.061466</td>\n",
       "      <td>10.827392</td>\n",
       "      <td>591425.135386</td>\n",
       "    </tr>\n",
       "    <tr>\n",
       "      <th>2</th>\n",
       "      <td>3</td>\n",
       "      <td>232.998485</td>\n",
       "      <td>1</td>\n",
       "      <td>3</td>\n",
       "      <td>2</td>\n",
       "      <td>1923</td>\n",
       "      <td>1</td>\n",
       "      <td>0</td>\n",
       "      <td>14</td>\n",
       "      <td>2.911442</td>\n",
       "      <td>6.904599</td>\n",
       "      <td>464478.696880</td>\n",
       "    </tr>\n",
       "    <tr>\n",
       "      <th>3</th>\n",
       "      <td>4</td>\n",
       "      <td>199.664621</td>\n",
       "      <td>5</td>\n",
       "      <td>2</td>\n",
       "      <td>2</td>\n",
       "      <td>1918</td>\n",
       "      <td>0</td>\n",
       "      <td>0</td>\n",
       "      <td>17</td>\n",
       "      <td>2.070949</td>\n",
       "      <td>8.284019</td>\n",
       "      <td>583105.655996</td>\n",
       "    </tr>\n",
       "    <tr>\n",
       "      <th>4</th>\n",
       "      <td>5</td>\n",
       "      <td>89.004660</td>\n",
       "      <td>4</td>\n",
       "      <td>3</td>\n",
       "      <td>3</td>\n",
       "      <td>1999</td>\n",
       "      <td>1</td>\n",
       "      <td>0</td>\n",
       "      <td>34</td>\n",
       "      <td>1.523278</td>\n",
       "      <td>14.648277</td>\n",
       "      <td>619879.142523</td>\n",
       "    </tr>\n",
       "  </tbody>\n",
       "</table>\n",
       "</div>"
      ],
      "text/plain": [
       "   ID  Square_Feet  Num_Bedrooms  Num_Bathrooms  Num_Floors  Year_Built  \\\n",
       "0   1   143.635030             1              3           3        1967   \n",
       "1   2   287.678577             1              2           1        1949   \n",
       "2   3   232.998485             1              3           2        1923   \n",
       "3   4   199.664621             5              2           2        1918   \n",
       "4   5    89.004660             4              3           3        1999   \n",
       "\n",
       "   Has_Garden  Has_Pool  Garage_Size  Location_Score  Distance_to_Center  \\\n",
       "0           1         1           48        8.297631            5.935734   \n",
       "1           0         1           37        6.061466           10.827392   \n",
       "2           1         0           14        2.911442            6.904599   \n",
       "3           0         0           17        2.070949            8.284019   \n",
       "4           1         0           34        1.523278           14.648277   \n",
       "\n",
       "           Price  \n",
       "0  602134.816747  \n",
       "1  591425.135386  \n",
       "2  464478.696880  \n",
       "3  583105.655996  \n",
       "4  619879.142523  "
      ]
     },
     "execution_count": 6,
     "metadata": {},
     "output_type": "execute_result"
    }
   ],
   "source": [
    "df.head()"
   ]
  },
  {
   "cell_type": "code",
   "execution_count": 8,
   "id": "8e2a1b4d-37ea-4a80-80b3-a6b7be634408",
   "metadata": {},
   "outputs": [
    {
     "data": {
      "text/plain": [
       "582209.6295285609"
      ]
     },
     "execution_count": 8,
     "metadata": {},
     "output_type": "execute_result"
    }
   ],
   "source": [
    "mean = np.mean(df['Price'])\n",
    "mean"
   ]
  },
  {
   "cell_type": "code",
   "execution_count": 9,
   "id": "53c448b6-1e2e-4522-ac76-8b3a736240c8",
   "metadata": {},
   "outputs": [
    {
     "data": {
      "text/plain": [
       "582209.6295285609"
      ]
     },
     "execution_count": 9,
     "metadata": {},
     "output_type": "execute_result"
    }
   ],
   "source": [
    "mn = df['Price'].mean()\n",
    "mn"
   ]
  },
  {
   "cell_type": "code",
   "execution_count": 12,
   "id": "6870a9dd-2638-4ddd-9195-000cfc7e40a8",
   "metadata": {
    "scrolled": true
   },
   "outputs": [
    {
     "data": {
      "text/plain": [
       "ID                       250.500000\n",
       "Square_Feet              174.640428\n",
       "Num_Bedrooms               2.958000\n",
       "Num_Bathrooms              1.976000\n",
       "Num_Floors                 1.964000\n",
       "Year_Built              1957.604000\n",
       "Has_Garden                 0.536000\n",
       "Has_Pool                   0.492000\n",
       "Garage_Size               30.174000\n",
       "Location_Score             5.164410\n",
       "Distance_to_Center        10.469641\n",
       "Price                 582209.629529\n",
       "dtype: float64"
      ]
     },
     "execution_count": 12,
     "metadata": {},
     "output_type": "execute_result"
    }
   ],
   "source": [
    "df.mean()"
   ]
  },
  {
   "cell_type": "code",
   "execution_count": 13,
   "id": "299444cb-e49c-41d0-ac22-482250e995bd",
   "metadata": {},
   "outputs": [
    {
     "data": {
      "text/html": [
       "<div>\n",
       "<style scoped>\n",
       "    .dataframe tbody tr th:only-of-type {\n",
       "        vertical-align: middle;\n",
       "    }\n",
       "\n",
       "    .dataframe tbody tr th {\n",
       "        vertical-align: top;\n",
       "    }\n",
       "\n",
       "    .dataframe thead th {\n",
       "        text-align: right;\n",
       "    }\n",
       "</style>\n",
       "<table border=\"1\" class=\"dataframe\">\n",
       "  <thead>\n",
       "    <tr style=\"text-align: right;\">\n",
       "      <th></th>\n",
       "      <th>ID</th>\n",
       "      <th>Square_Feet</th>\n",
       "      <th>Num_Bedrooms</th>\n",
       "      <th>Num_Bathrooms</th>\n",
       "      <th>Num_Floors</th>\n",
       "      <th>Year_Built</th>\n",
       "      <th>Has_Garden</th>\n",
       "      <th>Has_Pool</th>\n",
       "      <th>Garage_Size</th>\n",
       "      <th>Location_Score</th>\n",
       "      <th>Distance_to_Center</th>\n",
       "      <th>Price</th>\n",
       "    </tr>\n",
       "  </thead>\n",
       "  <tbody>\n",
       "    <tr>\n",
       "      <th>count</th>\n",
       "      <td>500.000000</td>\n",
       "      <td>500.000000</td>\n",
       "      <td>500.000000</td>\n",
       "      <td>500.000000</td>\n",
       "      <td>500.000000</td>\n",
       "      <td>500.000000</td>\n",
       "      <td>500.000000</td>\n",
       "      <td>500.000000</td>\n",
       "      <td>500.000000</td>\n",
       "      <td>500.000000</td>\n",
       "      <td>500.000000</td>\n",
       "      <td>500.000000</td>\n",
       "    </tr>\n",
       "    <tr>\n",
       "      <th>mean</th>\n",
       "      <td>250.500000</td>\n",
       "      <td>174.640428</td>\n",
       "      <td>2.958000</td>\n",
       "      <td>1.976000</td>\n",
       "      <td>1.964000</td>\n",
       "      <td>1957.604000</td>\n",
       "      <td>0.536000</td>\n",
       "      <td>0.492000</td>\n",
       "      <td>30.174000</td>\n",
       "      <td>5.164410</td>\n",
       "      <td>10.469641</td>\n",
       "      <td>582209.629529</td>\n",
       "    </tr>\n",
       "    <tr>\n",
       "      <th>std</th>\n",
       "      <td>144.481833</td>\n",
       "      <td>74.672102</td>\n",
       "      <td>1.440968</td>\n",
       "      <td>0.820225</td>\n",
       "      <td>0.802491</td>\n",
       "      <td>35.491781</td>\n",
       "      <td>0.499202</td>\n",
       "      <td>0.500437</td>\n",
       "      <td>11.582575</td>\n",
       "      <td>2.853489</td>\n",
       "      <td>5.588197</td>\n",
       "      <td>122273.390345</td>\n",
       "    </tr>\n",
       "    <tr>\n",
       "      <th>min</th>\n",
       "      <td>1.000000</td>\n",
       "      <td>51.265396</td>\n",
       "      <td>1.000000</td>\n",
       "      <td>1.000000</td>\n",
       "      <td>1.000000</td>\n",
       "      <td>1900.000000</td>\n",
       "      <td>0.000000</td>\n",
       "      <td>0.000000</td>\n",
       "      <td>10.000000</td>\n",
       "      <td>0.004428</td>\n",
       "      <td>0.062818</td>\n",
       "      <td>276892.470136</td>\n",
       "    </tr>\n",
       "    <tr>\n",
       "      <th>25%</th>\n",
       "      <td>125.750000</td>\n",
       "      <td>110.319923</td>\n",
       "      <td>2.000000</td>\n",
       "      <td>1.000000</td>\n",
       "      <td>1.000000</td>\n",
       "      <td>1926.000000</td>\n",
       "      <td>0.000000</td>\n",
       "      <td>0.000000</td>\n",
       "      <td>20.000000</td>\n",
       "      <td>2.760650</td>\n",
       "      <td>6.066754</td>\n",
       "      <td>503080.344140</td>\n",
       "    </tr>\n",
       "    <tr>\n",
       "      <th>50%</th>\n",
       "      <td>250.500000</td>\n",
       "      <td>178.290937</td>\n",
       "      <td>3.000000</td>\n",
       "      <td>2.000000</td>\n",
       "      <td>2.000000</td>\n",
       "      <td>1959.000000</td>\n",
       "      <td>1.000000</td>\n",
       "      <td>0.000000</td>\n",
       "      <td>30.000000</td>\n",
       "      <td>5.206518</td>\n",
       "      <td>10.886066</td>\n",
       "      <td>574724.113347</td>\n",
       "    </tr>\n",
       "    <tr>\n",
       "      <th>75%</th>\n",
       "      <td>375.250000</td>\n",
       "      <td>239.031220</td>\n",
       "      <td>4.000000</td>\n",
       "      <td>3.000000</td>\n",
       "      <td>3.000000</td>\n",
       "      <td>1988.000000</td>\n",
       "      <td>1.000000</td>\n",
       "      <td>1.000000</td>\n",
       "      <td>41.000000</td>\n",
       "      <td>7.732933</td>\n",
       "      <td>15.072590</td>\n",
       "      <td>665942.301274</td>\n",
       "    </tr>\n",
       "    <tr>\n",
       "      <th>max</th>\n",
       "      <td>500.000000</td>\n",
       "      <td>298.241199</td>\n",
       "      <td>5.000000</td>\n",
       "      <td>3.000000</td>\n",
       "      <td>3.000000</td>\n",
       "      <td>2022.000000</td>\n",
       "      <td>1.000000</td>\n",
       "      <td>1.000000</td>\n",
       "      <td>49.000000</td>\n",
       "      <td>9.995439</td>\n",
       "      <td>19.927966</td>\n",
       "      <td>960678.274291</td>\n",
       "    </tr>\n",
       "  </tbody>\n",
       "</table>\n",
       "</div>"
      ],
      "text/plain": [
       "               ID  Square_Feet  Num_Bedrooms  Num_Bathrooms  Num_Floors  \\\n",
       "count  500.000000   500.000000    500.000000     500.000000  500.000000   \n",
       "mean   250.500000   174.640428      2.958000       1.976000    1.964000   \n",
       "std    144.481833    74.672102      1.440968       0.820225    0.802491   \n",
       "min      1.000000    51.265396      1.000000       1.000000    1.000000   \n",
       "25%    125.750000   110.319923      2.000000       1.000000    1.000000   \n",
       "50%    250.500000   178.290937      3.000000       2.000000    2.000000   \n",
       "75%    375.250000   239.031220      4.000000       3.000000    3.000000   \n",
       "max    500.000000   298.241199      5.000000       3.000000    3.000000   \n",
       "\n",
       "        Year_Built  Has_Garden    Has_Pool  Garage_Size  Location_Score  \\\n",
       "count   500.000000  500.000000  500.000000   500.000000      500.000000   \n",
       "mean   1957.604000    0.536000    0.492000    30.174000        5.164410   \n",
       "std      35.491781    0.499202    0.500437    11.582575        2.853489   \n",
       "min    1900.000000    0.000000    0.000000    10.000000        0.004428   \n",
       "25%    1926.000000    0.000000    0.000000    20.000000        2.760650   \n",
       "50%    1959.000000    1.000000    0.000000    30.000000        5.206518   \n",
       "75%    1988.000000    1.000000    1.000000    41.000000        7.732933   \n",
       "max    2022.000000    1.000000    1.000000    49.000000        9.995439   \n",
       "\n",
       "       Distance_to_Center          Price  \n",
       "count          500.000000     500.000000  \n",
       "mean            10.469641  582209.629529  \n",
       "std              5.588197  122273.390345  \n",
       "min              0.062818  276892.470136  \n",
       "25%              6.066754  503080.344140  \n",
       "50%             10.886066  574724.113347  \n",
       "75%             15.072590  665942.301274  \n",
       "max             19.927966  960678.274291  "
      ]
     },
     "execution_count": 13,
     "metadata": {},
     "output_type": "execute_result"
    }
   ],
   "source": [
    "df.describe()"
   ]
  },
  {
   "cell_type": "markdown",
   "id": "cf0cd0bc-3a6d-413a-922c-b93fd527f68f",
   "metadata": {},
   "source": [
    "<h4>Mode</h4>"
   ]
  },
  {
   "cell_type": "code",
   "execution_count": 18,
   "id": "f26667bd-b759-47ff-a4ec-f9afce902f83",
   "metadata": {},
   "outputs": [
    {
     "data": {
      "text/plain": [
       "0    1920\n",
       "1    1959\n",
       "Name: Year_Built, dtype: int64"
      ]
     },
     "execution_count": 18,
     "metadata": {},
     "output_type": "execute_result"
    }
   ],
   "source": [
    "mode = df['Year_Built'].mode()\n",
    "mode"
   ]
  },
  {
   "cell_type": "code",
   "execution_count": 19,
   "id": "96385d73-c998-42ec-bf24-1c0cd2d23076",
   "metadata": {},
   "outputs": [
    {
     "data": {
      "text/plain": [
       "0    1\n",
       "Name: Num_Bedrooms, dtype: int64"
      ]
     },
     "execution_count": 19,
     "metadata": {},
     "output_type": "execute_result"
    }
   ],
   "source": [
    "df['Num_Bedrooms'].mode()"
   ]
  },
  {
   "cell_type": "code",
   "execution_count": 37,
   "id": "3e1fd8a0-ce9a-45d6-845f-e3a649ec7590",
   "metadata": {},
   "outputs": [
    {
     "data": {
      "text/plain": [
       "Year_Built\n",
       "1959    12\n",
       "1920    12\n",
       "1901    10\n",
       "1935     9\n",
       "1907     9\n",
       "        ..\n",
       "1952     1\n",
       "1939     1\n",
       "1936     1\n",
       "1955     1\n",
       "1993     1\n",
       "Name: count, Length: 121, dtype: int64"
      ]
     },
     "execution_count": 37,
     "metadata": {},
     "output_type": "execute_result"
    }
   ],
   "source": [
    "df['Year_Built'].value_counts()"
   ]
  },
  {
   "cell_type": "code",
   "execution_count": 20,
   "id": "11ff8886-8bb1-4936-a9c3-447d35e82db9",
   "metadata": {},
   "outputs": [
    {
     "data": {
      "text/plain": [
       "array([1, 5, 4, 3, 2], dtype=int64)"
      ]
     },
     "execution_count": 20,
     "metadata": {},
     "output_type": "execute_result"
    }
   ],
   "source": [
    "df['Num_Bedrooms'].unique()"
   ]
  },
  {
   "cell_type": "code",
   "execution_count": 21,
   "id": "fb9e185a-a3c2-479c-a7ca-262a71eea745",
   "metadata": {},
   "outputs": [
    {
     "data": {
      "text/html": [
       "<div>\n",
       "<style scoped>\n",
       "    .dataframe tbody tr th:only-of-type {\n",
       "        vertical-align: middle;\n",
       "    }\n",
       "\n",
       "    .dataframe tbody tr th {\n",
       "        vertical-align: top;\n",
       "    }\n",
       "\n",
       "    .dataframe thead th {\n",
       "        text-align: right;\n",
       "    }\n",
       "</style>\n",
       "<table border=\"1\" class=\"dataframe\">\n",
       "  <thead>\n",
       "    <tr style=\"text-align: right;\">\n",
       "      <th></th>\n",
       "      <th>ID</th>\n",
       "      <th>Square_Feet</th>\n",
       "      <th>Num_Bedrooms</th>\n",
       "      <th>Num_Bathrooms</th>\n",
       "      <th>Num_Floors</th>\n",
       "      <th>Year_Built</th>\n",
       "      <th>Has_Garden</th>\n",
       "      <th>Has_Pool</th>\n",
       "      <th>Garage_Size</th>\n",
       "      <th>Location_Score</th>\n",
       "      <th>Distance_to_Center</th>\n",
       "      <th>Price</th>\n",
       "    </tr>\n",
       "  </thead>\n",
       "  <tbody>\n",
       "    <tr>\n",
       "      <th>0</th>\n",
       "      <td>1</td>\n",
       "      <td>51.265396</td>\n",
       "      <td>1.0</td>\n",
       "      <td>1.0</td>\n",
       "      <td>2.0</td>\n",
       "      <td>1920.0</td>\n",
       "      <td>1.0</td>\n",
       "      <td>0.0</td>\n",
       "      <td>26.0</td>\n",
       "      <td>0.004428</td>\n",
       "      <td>0.062818</td>\n",
       "      <td>276892.470136</td>\n",
       "    </tr>\n",
       "    <tr>\n",
       "      <th>1</th>\n",
       "      <td>2</td>\n",
       "      <td>51.380529</td>\n",
       "      <td>NaN</td>\n",
       "      <td>NaN</td>\n",
       "      <td>NaN</td>\n",
       "      <td>1959.0</td>\n",
       "      <td>NaN</td>\n",
       "      <td>NaN</td>\n",
       "      <td>46.0</td>\n",
       "      <td>0.020185</td>\n",
       "      <td>0.106923</td>\n",
       "      <td>280166.110934</td>\n",
       "    </tr>\n",
       "    <tr>\n",
       "      <th>2</th>\n",
       "      <td>3</td>\n",
       "      <td>51.738033</td>\n",
       "      <td>NaN</td>\n",
       "      <td>NaN</td>\n",
       "      <td>NaN</td>\n",
       "      <td>NaN</td>\n",
       "      <td>NaN</td>\n",
       "      <td>NaN</td>\n",
       "      <td>NaN</td>\n",
       "      <td>0.066821</td>\n",
       "      <td>0.114372</td>\n",
       "      <td>291630.925913</td>\n",
       "    </tr>\n",
       "    <tr>\n",
       "      <th>3</th>\n",
       "      <td>4</td>\n",
       "      <td>52.299263</td>\n",
       "      <td>NaN</td>\n",
       "      <td>NaN</td>\n",
       "      <td>NaN</td>\n",
       "      <td>NaN</td>\n",
       "      <td>NaN</td>\n",
       "      <td>NaN</td>\n",
       "      <td>NaN</td>\n",
       "      <td>0.079644</td>\n",
       "      <td>0.128704</td>\n",
       "      <td>298871.665267</td>\n",
       "    </tr>\n",
       "    <tr>\n",
       "      <th>4</th>\n",
       "      <td>5</td>\n",
       "      <td>52.709413</td>\n",
       "      <td>NaN</td>\n",
       "      <td>NaN</td>\n",
       "      <td>NaN</td>\n",
       "      <td>NaN</td>\n",
       "      <td>NaN</td>\n",
       "      <td>NaN</td>\n",
       "      <td>NaN</td>\n",
       "      <td>0.100906</td>\n",
       "      <td>0.174123</td>\n",
       "      <td>299387.116387</td>\n",
       "    </tr>\n",
       "    <tr>\n",
       "      <th>...</th>\n",
       "      <td>...</td>\n",
       "      <td>...</td>\n",
       "      <td>...</td>\n",
       "      <td>...</td>\n",
       "      <td>...</td>\n",
       "      <td>...</td>\n",
       "      <td>...</td>\n",
       "      <td>...</td>\n",
       "      <td>...</td>\n",
       "      <td>...</td>\n",
       "      <td>...</td>\n",
       "      <td>...</td>\n",
       "    </tr>\n",
       "    <tr>\n",
       "      <th>495</th>\n",
       "      <td>496</td>\n",
       "      <td>296.659895</td>\n",
       "      <td>NaN</td>\n",
       "      <td>NaN</td>\n",
       "      <td>NaN</td>\n",
       "      <td>NaN</td>\n",
       "      <td>NaN</td>\n",
       "      <td>NaN</td>\n",
       "      <td>NaN</td>\n",
       "      <td>9.903618</td>\n",
       "      <td>19.734582</td>\n",
       "      <td>867558.296769</td>\n",
       "    </tr>\n",
       "    <tr>\n",
       "      <th>496</th>\n",
       "      <td>497</td>\n",
       "      <td>296.721734</td>\n",
       "      <td>NaN</td>\n",
       "      <td>NaN</td>\n",
       "      <td>NaN</td>\n",
       "      <td>NaN</td>\n",
       "      <td>NaN</td>\n",
       "      <td>NaN</td>\n",
       "      <td>NaN</td>\n",
       "      <td>9.924423</td>\n",
       "      <td>19.770433</td>\n",
       "      <td>875352.545188</td>\n",
       "    </tr>\n",
       "    <tr>\n",
       "      <th>497</th>\n",
       "      <td>498</td>\n",
       "      <td>297.513463</td>\n",
       "      <td>NaN</td>\n",
       "      <td>NaN</td>\n",
       "      <td>NaN</td>\n",
       "      <td>NaN</td>\n",
       "      <td>NaN</td>\n",
       "      <td>NaN</td>\n",
       "      <td>NaN</td>\n",
       "      <td>9.949814</td>\n",
       "      <td>19.784355</td>\n",
       "      <td>885909.215276</td>\n",
       "    </tr>\n",
       "    <tr>\n",
       "      <th>498</th>\n",
       "      <td>499</td>\n",
       "      <td>297.626286</td>\n",
       "      <td>NaN</td>\n",
       "      <td>NaN</td>\n",
       "      <td>NaN</td>\n",
       "      <td>NaN</td>\n",
       "      <td>NaN</td>\n",
       "      <td>NaN</td>\n",
       "      <td>NaN</td>\n",
       "      <td>9.962623</td>\n",
       "      <td>19.835458</td>\n",
       "      <td>909199.560366</td>\n",
       "    </tr>\n",
       "    <tr>\n",
       "      <th>499</th>\n",
       "      <td>500</td>\n",
       "      <td>298.241199</td>\n",
       "      <td>NaN</td>\n",
       "      <td>NaN</td>\n",
       "      <td>NaN</td>\n",
       "      <td>NaN</td>\n",
       "      <td>NaN</td>\n",
       "      <td>NaN</td>\n",
       "      <td>NaN</td>\n",
       "      <td>9.995439</td>\n",
       "      <td>19.927966</td>\n",
       "      <td>960678.274291</td>\n",
       "    </tr>\n",
       "  </tbody>\n",
       "</table>\n",
       "<p>500 rows × 12 columns</p>\n",
       "</div>"
      ],
      "text/plain": [
       "      ID  Square_Feet  Num_Bedrooms  Num_Bathrooms  Num_Floors  Year_Built  \\\n",
       "0      1    51.265396           1.0            1.0         2.0      1920.0   \n",
       "1      2    51.380529           NaN            NaN         NaN      1959.0   \n",
       "2      3    51.738033           NaN            NaN         NaN         NaN   \n",
       "3      4    52.299263           NaN            NaN         NaN         NaN   \n",
       "4      5    52.709413           NaN            NaN         NaN         NaN   \n",
       "..   ...          ...           ...            ...         ...         ...   \n",
       "495  496   296.659895           NaN            NaN         NaN         NaN   \n",
       "496  497   296.721734           NaN            NaN         NaN         NaN   \n",
       "497  498   297.513463           NaN            NaN         NaN         NaN   \n",
       "498  499   297.626286           NaN            NaN         NaN         NaN   \n",
       "499  500   298.241199           NaN            NaN         NaN         NaN   \n",
       "\n",
       "     Has_Garden  Has_Pool  Garage_Size  Location_Score  Distance_to_Center  \\\n",
       "0           1.0       0.0         26.0        0.004428            0.062818   \n",
       "1           NaN       NaN         46.0        0.020185            0.106923   \n",
       "2           NaN       NaN          NaN        0.066821            0.114372   \n",
       "3           NaN       NaN          NaN        0.079644            0.128704   \n",
       "4           NaN       NaN          NaN        0.100906            0.174123   \n",
       "..          ...       ...          ...             ...                 ...   \n",
       "495         NaN       NaN          NaN        9.903618           19.734582   \n",
       "496         NaN       NaN          NaN        9.924423           19.770433   \n",
       "497         NaN       NaN          NaN        9.949814           19.784355   \n",
       "498         NaN       NaN          NaN        9.962623           19.835458   \n",
       "499         NaN       NaN          NaN        9.995439           19.927966   \n",
       "\n",
       "             Price  \n",
       "0    276892.470136  \n",
       "1    280166.110934  \n",
       "2    291630.925913  \n",
       "3    298871.665267  \n",
       "4    299387.116387  \n",
       "..             ...  \n",
       "495  867558.296769  \n",
       "496  875352.545188  \n",
       "497  885909.215276  \n",
       "498  909199.560366  \n",
       "499  960678.274291  \n",
       "\n",
       "[500 rows x 12 columns]"
      ]
     },
     "execution_count": 21,
     "metadata": {},
     "output_type": "execute_result"
    }
   ],
   "source": [
    "df.mode()"
   ]
  },
  {
   "cell_type": "code",
   "execution_count": 22,
   "id": "4e7ce821-825b-41f2-8b53-3c0c8e3cc149",
   "metadata": {},
   "outputs": [],
   "source": [
    "df2 = pd.read_csv('gender_classification_v7.csv')"
   ]
  },
  {
   "cell_type": "code",
   "execution_count": 23,
   "id": "e22f5bc9-bdb3-4e0e-ac56-a2e427ff5ebf",
   "metadata": {},
   "outputs": [
    {
     "data": {
      "text/html": [
       "<div>\n",
       "<style scoped>\n",
       "    .dataframe tbody tr th:only-of-type {\n",
       "        vertical-align: middle;\n",
       "    }\n",
       "\n",
       "    .dataframe tbody tr th {\n",
       "        vertical-align: top;\n",
       "    }\n",
       "\n",
       "    .dataframe thead th {\n",
       "        text-align: right;\n",
       "    }\n",
       "</style>\n",
       "<table border=\"1\" class=\"dataframe\">\n",
       "  <thead>\n",
       "    <tr style=\"text-align: right;\">\n",
       "      <th></th>\n",
       "      <th>long_hair</th>\n",
       "      <th>forehead_width_cm</th>\n",
       "      <th>forehead_height_cm</th>\n",
       "      <th>nose_wide</th>\n",
       "      <th>nose_long</th>\n",
       "      <th>lips_thin</th>\n",
       "      <th>distance_nose_to_lip_long</th>\n",
       "      <th>gender</th>\n",
       "    </tr>\n",
       "  </thead>\n",
       "  <tbody>\n",
       "    <tr>\n",
       "      <th>0</th>\n",
       "      <td>1</td>\n",
       "      <td>11.8</td>\n",
       "      <td>6.1</td>\n",
       "      <td>1</td>\n",
       "      <td>0</td>\n",
       "      <td>1</td>\n",
       "      <td>1</td>\n",
       "      <td>Male</td>\n",
       "    </tr>\n",
       "    <tr>\n",
       "      <th>1</th>\n",
       "      <td>0</td>\n",
       "      <td>14.0</td>\n",
       "      <td>5.4</td>\n",
       "      <td>0</td>\n",
       "      <td>0</td>\n",
       "      <td>1</td>\n",
       "      <td>0</td>\n",
       "      <td>Female</td>\n",
       "    </tr>\n",
       "    <tr>\n",
       "      <th>2</th>\n",
       "      <td>0</td>\n",
       "      <td>11.8</td>\n",
       "      <td>6.3</td>\n",
       "      <td>1</td>\n",
       "      <td>1</td>\n",
       "      <td>1</td>\n",
       "      <td>1</td>\n",
       "      <td>Male</td>\n",
       "    </tr>\n",
       "    <tr>\n",
       "      <th>3</th>\n",
       "      <td>0</td>\n",
       "      <td>14.4</td>\n",
       "      <td>6.1</td>\n",
       "      <td>0</td>\n",
       "      <td>1</td>\n",
       "      <td>1</td>\n",
       "      <td>1</td>\n",
       "      <td>Male</td>\n",
       "    </tr>\n",
       "    <tr>\n",
       "      <th>4</th>\n",
       "      <td>1</td>\n",
       "      <td>13.5</td>\n",
       "      <td>5.9</td>\n",
       "      <td>0</td>\n",
       "      <td>0</td>\n",
       "      <td>0</td>\n",
       "      <td>0</td>\n",
       "      <td>Female</td>\n",
       "    </tr>\n",
       "  </tbody>\n",
       "</table>\n",
       "</div>"
      ],
      "text/plain": [
       "   long_hair  forehead_width_cm  forehead_height_cm  nose_wide  nose_long  \\\n",
       "0          1               11.8                 6.1          1          0   \n",
       "1          0               14.0                 5.4          0          0   \n",
       "2          0               11.8                 6.3          1          1   \n",
       "3          0               14.4                 6.1          0          1   \n",
       "4          1               13.5                 5.9          0          0   \n",
       "\n",
       "   lips_thin  distance_nose_to_lip_long  gender  \n",
       "0          1                          1    Male  \n",
       "1          1                          0  Female  \n",
       "2          1                          1    Male  \n",
       "3          1                          1    Male  \n",
       "4          0                          0  Female  "
      ]
     },
     "execution_count": 23,
     "metadata": {},
     "output_type": "execute_result"
    }
   ],
   "source": [
    "df2.head()"
   ]
  },
  {
   "cell_type": "code",
   "execution_count": 24,
   "id": "8653ad85-0ddc-413b-9397-e31b984a2e79",
   "metadata": {},
   "outputs": [
    {
     "data": {
      "text/plain": [
       "0    12.0\n",
       "Name: forehead_width_cm, dtype: float64"
      ]
     },
     "execution_count": 24,
     "metadata": {},
     "output_type": "execute_result"
    }
   ],
   "source": [
    "df2['forehead_width_cm'].mode()"
   ]
  },
  {
   "cell_type": "markdown",
   "id": "0fb2f8e1-b974-417d-855c-28eb99df71cb",
   "metadata": {},
   "source": [
    "<h4>Median</h4>"
   ]
  },
  {
   "cell_type": "code",
   "execution_count": 25,
   "id": "dcd0a923-9985-4af7-9bfd-187f35bd5ea1",
   "metadata": {},
   "outputs": [
    {
     "data": {
      "text/plain": [
       "1959.0"
      ]
     },
     "execution_count": 25,
     "metadata": {},
     "output_type": "execute_result"
    }
   ],
   "source": [
    "df['Year_Built'].median()"
   ]
  },
  {
   "cell_type": "code",
   "execution_count": 27,
   "id": "7a0f52be-f2e4-4e5b-b460-71e39ab612b2",
   "metadata": {},
   "outputs": [
    {
     "data": {
      "text/plain": [
       "57.0"
      ]
     },
     "execution_count": 27,
     "metadata": {},
     "output_type": "execute_result"
    }
   ],
   "source": [
    "np.median(lst)"
   ]
  },
  {
   "cell_type": "code",
   "execution_count": 35,
   "id": "2090da70-86c2-447a-bd2c-5852e02cac70",
   "metadata": {},
   "outputs": [
    {
     "data": {
      "text/plain": [
       "ID                       250.500000\n",
       "Square_Feet              178.290937\n",
       "Num_Bedrooms               3.000000\n",
       "Num_Bathrooms              2.000000\n",
       "Num_Floors                 2.000000\n",
       "Year_Built              1959.000000\n",
       "Has_Garden                 1.000000\n",
       "Has_Pool                   0.000000\n",
       "Garage_Size               30.000000\n",
       "Location_Score             5.206518\n",
       "Distance_to_Center        10.886066\n",
       "Price                 574724.113347\n",
       "dtype: float64"
      ]
     },
     "execution_count": 35,
     "metadata": {},
     "output_type": "execute_result"
    }
   ],
   "source": [
    "df.median()"
   ]
  },
  {
   "cell_type": "markdown",
   "id": "b2a18474-33a8-45a3-847e-30122635c892",
   "metadata": {},
   "source": [
    "<h3>Measure of Variability</h3>"
   ]
  },
  {
   "cell_type": "markdown",
   "id": "5ed0bde3-084e-4284-835f-6c81e5e4f70f",
   "metadata": {},
   "source": [
    "<h4>Range</h4>"
   ]
  },
  {
   "cell_type": "code",
   "execution_count": 45,
   "id": "1ec614a4-563b-4bd8-8e4c-2930e9b72c3b",
   "metadata": {},
   "outputs": [
    {
     "name": "stdout",
     "output_type": "stream",
     "text": [
      "Range of Year : 122\n"
     ]
    }
   ],
   "source": [
    "print('Range of Year :', max(df['Year_Built']) - min(df['Year_Built']))"
   ]
  },
  {
   "cell_type": "code",
   "execution_count": 48,
   "id": "35b1e28d-3881-42a6-8192-abac5c41d89c",
   "metadata": {},
   "outputs": [
    {
     "name": "stdout",
     "output_type": "stream",
     "text": [
      "Range of Year : 122\n"
     ]
    }
   ],
   "source": [
    "print('Range of Year :', df['Year_Built'].max() - df['Year_Built'].min())"
   ]
  },
  {
   "cell_type": "code",
   "execution_count": 49,
   "id": "c8e3fc35-6da8-4537-b8c5-44285ff7920c",
   "metadata": {},
   "outputs": [
    {
     "name": "stdout",
     "output_type": "stream",
     "text": [
      "Range of Bedrooms : 4\n"
     ]
    }
   ],
   "source": [
    "print('Range of Bedrooms :', df['Num_Bedrooms'].max() - df['Num_Bedrooms'].min())"
   ]
  },
  {
   "cell_type": "markdown",
   "id": "eb328c8f-2d21-4e06-b315-3370e2af0bf6",
   "metadata": {},
   "source": [
    "<h4>Variance</h4>"
   ]
  },
  {
   "cell_type": "code",
   "execution_count": 60,
   "id": "65c694b3-f63b-49b5-9b4c-0eb599c902a3",
   "metadata": {},
   "outputs": [
    {
     "name": "stdout",
     "output_type": "stream",
     "text": [
      "Sample variance : 14950781986.482094\n"
     ]
    }
   ],
   "source": [
    "h = df['Price'].var()          # pandas dataframe calculates sample variance by default meaning in the denominator (N - 1) is used.\n",
    "print('Sample variance :', h)  # sample variance is used for large dataset\n",
    "                               # To calculate population variance --> df['Price'].var(ddof = 0)"
   ]
  },
  {
   "cell_type": "code",
   "execution_count": 59,
   "id": "97e53a87-8e46-43a1-a2ab-e9c88dc03960",
   "metadata": {},
   "outputs": [
    {
     "name": "stdout",
     "output_type": "stream",
     "text": [
      "Population variance : 14920880422.509129\n"
     ]
    }
   ],
   "source": [
    "p = df['Price'].var(ddof = 0)\n",
    "print('Population variance :', p)"
   ]
  },
  {
   "cell_type": "code",
   "execution_count": 54,
   "id": "a56ec382-380e-4610-b249-7cdb57ad17a0",
   "metadata": {},
   "outputs": [
    {
     "data": {
      "text/plain": [
       "14920880422.509129"
      ]
     },
     "execution_count": 54,
     "metadata": {},
     "output_type": "execute_result"
    }
   ],
   "source": [
    "np.var(df['Price'])  # numpy calculates population variance by default meaning in the denominator (N) is used.\n",
    "                     # To calculate sample variance --> np.var(df['Price'], ddof = 1)"
   ]
  },
  {
   "cell_type": "code",
   "execution_count": 57,
   "id": "462e9c52-f4b4-4b25-b891-27e1bc6632ee",
   "metadata": {},
   "outputs": [
    {
     "data": {
      "text/plain": [
       "14950781986.482094"
      ]
     },
     "execution_count": 57,
     "metadata": {},
     "output_type": "execute_result"
    }
   ],
   "source": [
    "np.var(df['Price'], ddof = 1)"
   ]
  },
  {
   "cell_type": "markdown",
   "id": "6361e0e2-7fdd-483f-aea6-5657f372227d",
   "metadata": {},
   "source": [
    "<h4>Standard Deviation</h4>"
   ]
  },
  {
   "cell_type": "code",
   "execution_count": 72,
   "id": "341b8306-e574-468e-b560-59ffb7695117",
   "metadata": {},
   "outputs": [
    {
     "name": "stdout",
     "output_type": "stream",
     "text": [
      "Population : 33.45976024354561\n",
      "Sample     : 36.653330908208964\n"
     ]
    }
   ],
   "source": [
    "print('Population :', np.std(lst))\n",
    "print('Sample     :', np.std(lst, ddof = 1))"
   ]
  },
  {
   "cell_type": "code",
   "execution_count": 73,
   "id": "1da84095-c5bc-4e45-97ef-4cf5130b676d",
   "metadata": {},
   "outputs": [
    {
     "name": "stdout",
     "output_type": "stream",
     "text": [
      "Sample Standard Deviation     : 122273.39034508732\n",
      "Population Standard Deviation : 122151.05575683384\n"
     ]
    }
   ],
   "source": [
    "print('Sample Standard Deviation     :', df['Price'].std())          # sample Standard Deviation (Default)\n",
    "print('Population Standard Deviation :', df['Price'].std(ddof = 0))  # Population Standard Deviation"
   ]
  },
  {
   "cell_type": "code",
   "execution_count": 74,
   "id": "573f45ef-c126-4505-8744-b7d5afaca611",
   "metadata": {},
   "outputs": [
    {
     "name": "stdout",
     "output_type": "stream",
     "text": [
      "Population Standard Deviation : 122151.05575683384\n",
      "Sample Standard Deviation     : 122273.39034508732\n"
     ]
    }
   ],
   "source": [
    "print('Population Standard Deviation :', np.std(df['Price']))            # Population Standard Deviation (Default)\n",
    "print('Sample Standard Deviation     :', np.std(df['Price'], ddof = 1))  # sample Standard Deviation"
   ]
  },
  {
   "cell_type": "markdown",
   "id": "88baf89b-f9e2-4042-9f26-1c620bcda8c1",
   "metadata": {},
   "source": [
    "<h4>Skewness</h4>"
   ]
  },
  {
   "cell_type": "code",
   "execution_count": 77,
   "id": "f3bd9ae5-d825-4d72-89c6-f4a33a3879a4",
   "metadata": {},
   "outputs": [
    {
     "data": {
      "text/plain": [
       "0.20860884190692716"
      ]
     },
     "execution_count": 77,
     "metadata": {},
     "output_type": "execute_result"
    }
   ],
   "source": [
    "df['Price'].skew()"
   ]
  },
  {
   "cell_type": "code",
   "execution_count": 83,
   "id": "386a7520-e9ab-461d-8722-dad9afc3958f",
   "metadata": {},
   "outputs": [
    {
     "data": {
      "text/plain": [
       "0.05817114466569298"
      ]
     },
     "execution_count": 83,
     "metadata": {},
     "output_type": "execute_result"
    }
   ],
   "source": [
    "df['Year_Built'].skew()"
   ]
  },
  {
   "cell_type": "markdown",
   "id": "89accd6f-1e70-447f-a86e-018895f59a3c",
   "metadata": {},
   "source": [
    "<h4>Kurtosis</h4>"
   ]
  },
  {
   "cell_type": "code",
   "execution_count": 87,
   "id": "8cfd4c86-7cd6-47b6-aa6d-0998b5f4805e",
   "metadata": {},
   "outputs": [
    {
     "data": {
      "text/plain": [
       "-0.15354674728688567"
      ]
     },
     "execution_count": 87,
     "metadata": {},
     "output_type": "execute_result"
    }
   ],
   "source": [
    "df['Price'].kurt()"
   ]
  },
  {
   "cell_type": "code",
   "execution_count": 90,
   "id": "0338dc90-840f-4aa5-91ed-2b91ba6cd8cc",
   "metadata": {},
   "outputs": [
    {
     "data": {
      "text/plain": [
       "-1.2388754892468503"
      ]
     },
     "execution_count": 90,
     "metadata": {},
     "output_type": "execute_result"
    }
   ],
   "source": [
    "df['Year_Built'].kurt()"
   ]
  },
  {
   "cell_type": "code",
   "execution_count": 93,
   "id": "4ea46f3f-97a0-456e-9c59-b62e2bf7bfea",
   "metadata": {},
   "outputs": [
    {
     "data": {
      "text/plain": [
       "Num_Floors\n",
       "2    0.356\n",
       "1    0.340\n",
       "3    0.304\n",
       "Name: proportion, dtype: float64"
      ]
     },
     "execution_count": 93,
     "metadata": {},
     "output_type": "execute_result"
    }
   ],
   "source": [
    "df['Num_Floors'].value_counts(normalize = True)"
   ]
  },
  {
   "cell_type": "markdown",
   "id": "bf6fbc0f-8d76-4628-949c-c49a43b6c6e5",
   "metadata": {},
   "source": [
    "<h4>Quartiles"
   ]
  },
  {
   "cell_type": "code",
   "execution_count": 94,
   "id": "065b4a54-85d2-4cf7-a383-0f940eecb062",
   "metadata": {},
   "outputs": [
    {
     "data": {
      "text/html": [
       "<div>\n",
       "<style scoped>\n",
       "    .dataframe tbody tr th:only-of-type {\n",
       "        vertical-align: middle;\n",
       "    }\n",
       "\n",
       "    .dataframe tbody tr th {\n",
       "        vertical-align: top;\n",
       "    }\n",
       "\n",
       "    .dataframe thead th {\n",
       "        text-align: right;\n",
       "    }\n",
       "</style>\n",
       "<table border=\"1\" class=\"dataframe\">\n",
       "  <thead>\n",
       "    <tr style=\"text-align: right;\">\n",
       "      <th></th>\n",
       "      <th>ID</th>\n",
       "      <th>Square_Feet</th>\n",
       "      <th>Num_Bedrooms</th>\n",
       "      <th>Num_Bathrooms</th>\n",
       "      <th>Num_Floors</th>\n",
       "      <th>Year_Built</th>\n",
       "      <th>Has_Garden</th>\n",
       "      <th>Has_Pool</th>\n",
       "      <th>Garage_Size</th>\n",
       "      <th>Location_Score</th>\n",
       "      <th>Distance_to_Center</th>\n",
       "      <th>Price</th>\n",
       "    </tr>\n",
       "  </thead>\n",
       "  <tbody>\n",
       "    <tr>\n",
       "      <th>count</th>\n",
       "      <td>500.000000</td>\n",
       "      <td>500.000000</td>\n",
       "      <td>500.000000</td>\n",
       "      <td>500.000000</td>\n",
       "      <td>500.000000</td>\n",
       "      <td>500.000000</td>\n",
       "      <td>500.000000</td>\n",
       "      <td>500.000000</td>\n",
       "      <td>500.000000</td>\n",
       "      <td>500.000000</td>\n",
       "      <td>500.000000</td>\n",
       "      <td>500.000000</td>\n",
       "    </tr>\n",
       "    <tr>\n",
       "      <th>mean</th>\n",
       "      <td>250.500000</td>\n",
       "      <td>174.640428</td>\n",
       "      <td>2.958000</td>\n",
       "      <td>1.976000</td>\n",
       "      <td>1.964000</td>\n",
       "      <td>1957.604000</td>\n",
       "      <td>0.536000</td>\n",
       "      <td>0.492000</td>\n",
       "      <td>30.174000</td>\n",
       "      <td>5.164410</td>\n",
       "      <td>10.469641</td>\n",
       "      <td>582209.629529</td>\n",
       "    </tr>\n",
       "    <tr>\n",
       "      <th>std</th>\n",
       "      <td>144.481833</td>\n",
       "      <td>74.672102</td>\n",
       "      <td>1.440968</td>\n",
       "      <td>0.820225</td>\n",
       "      <td>0.802491</td>\n",
       "      <td>35.491781</td>\n",
       "      <td>0.499202</td>\n",
       "      <td>0.500437</td>\n",
       "      <td>11.582575</td>\n",
       "      <td>2.853489</td>\n",
       "      <td>5.588197</td>\n",
       "      <td>122273.390345</td>\n",
       "    </tr>\n",
       "    <tr>\n",
       "      <th>min</th>\n",
       "      <td>1.000000</td>\n",
       "      <td>51.265396</td>\n",
       "      <td>1.000000</td>\n",
       "      <td>1.000000</td>\n",
       "      <td>1.000000</td>\n",
       "      <td>1900.000000</td>\n",
       "      <td>0.000000</td>\n",
       "      <td>0.000000</td>\n",
       "      <td>10.000000</td>\n",
       "      <td>0.004428</td>\n",
       "      <td>0.062818</td>\n",
       "      <td>276892.470136</td>\n",
       "    </tr>\n",
       "    <tr>\n",
       "      <th>25%</th>\n",
       "      <td>125.750000</td>\n",
       "      <td>110.319923</td>\n",
       "      <td>2.000000</td>\n",
       "      <td>1.000000</td>\n",
       "      <td>1.000000</td>\n",
       "      <td>1926.000000</td>\n",
       "      <td>0.000000</td>\n",
       "      <td>0.000000</td>\n",
       "      <td>20.000000</td>\n",
       "      <td>2.760650</td>\n",
       "      <td>6.066754</td>\n",
       "      <td>503080.344140</td>\n",
       "    </tr>\n",
       "    <tr>\n",
       "      <th>50%</th>\n",
       "      <td>250.500000</td>\n",
       "      <td>178.290937</td>\n",
       "      <td>3.000000</td>\n",
       "      <td>2.000000</td>\n",
       "      <td>2.000000</td>\n",
       "      <td>1959.000000</td>\n",
       "      <td>1.000000</td>\n",
       "      <td>0.000000</td>\n",
       "      <td>30.000000</td>\n",
       "      <td>5.206518</td>\n",
       "      <td>10.886066</td>\n",
       "      <td>574724.113347</td>\n",
       "    </tr>\n",
       "    <tr>\n",
       "      <th>75%</th>\n",
       "      <td>375.250000</td>\n",
       "      <td>239.031220</td>\n",
       "      <td>4.000000</td>\n",
       "      <td>3.000000</td>\n",
       "      <td>3.000000</td>\n",
       "      <td>1988.000000</td>\n",
       "      <td>1.000000</td>\n",
       "      <td>1.000000</td>\n",
       "      <td>41.000000</td>\n",
       "      <td>7.732933</td>\n",
       "      <td>15.072590</td>\n",
       "      <td>665942.301274</td>\n",
       "    </tr>\n",
       "    <tr>\n",
       "      <th>max</th>\n",
       "      <td>500.000000</td>\n",
       "      <td>298.241199</td>\n",
       "      <td>5.000000</td>\n",
       "      <td>3.000000</td>\n",
       "      <td>3.000000</td>\n",
       "      <td>2022.000000</td>\n",
       "      <td>1.000000</td>\n",
       "      <td>1.000000</td>\n",
       "      <td>49.000000</td>\n",
       "      <td>9.995439</td>\n",
       "      <td>19.927966</td>\n",
       "      <td>960678.274291</td>\n",
       "    </tr>\n",
       "  </tbody>\n",
       "</table>\n",
       "</div>"
      ],
      "text/plain": [
       "               ID  Square_Feet  Num_Bedrooms  Num_Bathrooms  Num_Floors  \\\n",
       "count  500.000000   500.000000    500.000000     500.000000  500.000000   \n",
       "mean   250.500000   174.640428      2.958000       1.976000    1.964000   \n",
       "std    144.481833    74.672102      1.440968       0.820225    0.802491   \n",
       "min      1.000000    51.265396      1.000000       1.000000    1.000000   \n",
       "25%    125.750000   110.319923      2.000000       1.000000    1.000000   \n",
       "50%    250.500000   178.290937      3.000000       2.000000    2.000000   \n",
       "75%    375.250000   239.031220      4.000000       3.000000    3.000000   \n",
       "max    500.000000   298.241199      5.000000       3.000000    3.000000   \n",
       "\n",
       "        Year_Built  Has_Garden    Has_Pool  Garage_Size  Location_Score  \\\n",
       "count   500.000000  500.000000  500.000000   500.000000      500.000000   \n",
       "mean   1957.604000    0.536000    0.492000    30.174000        5.164410   \n",
       "std      35.491781    0.499202    0.500437    11.582575        2.853489   \n",
       "min    1900.000000    0.000000    0.000000    10.000000        0.004428   \n",
       "25%    1926.000000    0.000000    0.000000    20.000000        2.760650   \n",
       "50%    1959.000000    1.000000    0.000000    30.000000        5.206518   \n",
       "75%    1988.000000    1.000000    1.000000    41.000000        7.732933   \n",
       "max    2022.000000    1.000000    1.000000    49.000000        9.995439   \n",
       "\n",
       "       Distance_to_Center          Price  \n",
       "count          500.000000     500.000000  \n",
       "mean            10.469641  582209.629529  \n",
       "std              5.588197  122273.390345  \n",
       "min              0.062818  276892.470136  \n",
       "25%              6.066754  503080.344140  \n",
       "50%             10.886066  574724.113347  \n",
       "75%             15.072590  665942.301274  \n",
       "max             19.927966  960678.274291  "
      ]
     },
     "execution_count": 94,
     "metadata": {},
     "output_type": "execute_result"
    }
   ],
   "source": [
    "df.describe()"
   ]
  },
  {
   "cell_type": "code",
   "execution_count": 100,
   "id": "c18ac368-aabd-44de-831d-845dc25ea86f",
   "metadata": {},
   "outputs": [
    {
     "data": {
      "text/plain": [
       "15.072589813326317"
      ]
     },
     "execution_count": 100,
     "metadata": {},
     "output_type": "execute_result"
    }
   ],
   "source": [
    "df['Distance_to_Center'].quantile(.75)"
   ]
  },
  {
   "cell_type": "code",
   "execution_count": 103,
   "id": "7fa40f0a-c377-4d0a-ac9b-be3731756d76",
   "metadata": {},
   "outputs": [
    {
     "data": {
      "text/plain": [
       "10.886066135359119"
      ]
     },
     "execution_count": 103,
     "metadata": {},
     "output_type": "execute_result"
    }
   ],
   "source": [
    "df['Distance_to_Center'].quantile(.50)"
   ]
  },
  {
   "cell_type": "markdown",
   "id": "680e9ac1-296b-4f34-8af4-3b78bbd956d2",
   "metadata": {},
   "source": [
    "<h4>Outliers</h4>"
   ]
  },
  {
   "cell_type": "code",
   "execution_count": 108,
   "id": "45c2dcf2-2e98-40dc-852d-6c89688c8d88",
   "metadata": {},
   "outputs": [
    {
     "data": {
      "text/plain": [
       "162861.95713419002"
      ]
     },
     "execution_count": 108,
     "metadata": {},
     "output_type": "execute_result"
    }
   ],
   "source": [
    "iqr = df['Price'].quantile(.75) - df['Price'].quantile(.25)\n",
    "iqr"
   ]
  },
  {
   "cell_type": "code",
   "execution_count": 109,
   "id": "e70a8ef1-dcd7-4e06-b1dd-151fd0808595",
   "metadata": {},
   "outputs": [],
   "source": [
    "q1 = df['Price'].quantile(.25)"
   ]
  },
  {
   "cell_type": "code",
   "execution_count": 110,
   "id": "752f3e97-5aeb-47fe-89cb-647c7aed251f",
   "metadata": {},
   "outputs": [],
   "source": [
    "q3 = df['Price'].quantile(.75)"
   ]
  },
  {
   "cell_type": "code",
   "execution_count": 111,
   "id": "7672c937-e794-4fc4-9c19-3f782e1a56fb",
   "metadata": {},
   "outputs": [
    {
     "name": "stdout",
     "output_type": "stream",
     "text": [
      "1\n"
     ]
    }
   ],
   "source": [
    "count = 0\n",
    "for x in df['Price'] :\n",
    "   if x < (q1 - 1.5 * iqr) or x > (q3 + 1.5 * iqr):\n",
    "       count = count + 1\n",
    "print(count)"
   ]
  },
  {
   "cell_type": "code",
   "execution_count": null,
   "id": "5c269037-0aa7-43aa-a149-26d488235f6b",
   "metadata": {},
   "outputs": [],
   "source": []
  }
 ],
 "metadata": {
  "kernelspec": {
   "display_name": "Python 3 (ipykernel)",
   "language": "python",
   "name": "python3"
  },
  "language_info": {
   "codemirror_mode": {
    "name": "ipython",
    "version": 3
   },
   "file_extension": ".py",
   "mimetype": "text/x-python",
   "name": "python",
   "nbconvert_exporter": "python",
   "pygments_lexer": "ipython3",
   "version": "3.12.4"
  }
 },
 "nbformat": 4,
 "nbformat_minor": 5
}
