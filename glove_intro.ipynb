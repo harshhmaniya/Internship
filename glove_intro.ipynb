{
 "cells": [
  {
   "cell_type": "code",
   "execution_count": 1,
   "id": "6bf30738-529a-4bf7-bd95-a149c73a2cf9",
   "metadata": {},
   "outputs": [
    {
     "name": "stderr",
     "output_type": "stream",
     "text": [
      "C:\\Users\\kalat\\AppData\\Local\\Temp\\ipykernel_3000\\3080480907.py:6: DeprecationWarning: Call to deprecated `glove2word2vec` (KeyedVectors.load_word2vec_format(.., binary=False, no_header=True) loads GLoVE text vectors.).\n",
      "  glove2word2vec(glove_input_file, word2vec_output_file)\n"
     ]
    },
    {
     "data": {
      "text/plain": [
       "(400000, 100)"
      ]
     },
     "execution_count": 1,
     "metadata": {},
     "output_type": "execute_result"
    }
   ],
   "source": [
    "from gensim.scripts.glove2word2vec import glove2word2vec\n",
    "\n",
    "glove_input_file = 'glove.6B.100d.txt'\n",
    "word2vec_output_file = 'glove.6B.100d.txt'\n",
    "\n",
    "glove2word2vec(glove_input_file, word2vec_output_file)"
   ]
  },
  {
   "cell_type": "code",
   "execution_count": 3,
   "id": "95000e12-fc26-4fd6-be3d-3d1be442aa4c",
   "metadata": {},
   "outputs": [],
   "source": [
    "from gensim.models import KeyedVectors\n",
    "\n",
    "filename = 'glove.6B.100d.txt'\n",
    "model = KeyedVectors.load_word2vec_format(filename, binary=False)"
   ]
  },
  {
   "cell_type": "code",
   "execution_count": 25,
   "id": "96f34bfe-b15b-4408-8aba-c805c79446b0",
   "metadata": {},
   "outputs": [
    {
     "data": {
      "text/plain": [
       "[('pakistan', 0.8370323777198792),\n",
       " ('indian', 0.780203104019165),\n",
       " ('delhi', 0.7712195515632629),\n",
       " ('bangladesh', 0.7661641240119934),\n",
       " ('lanka', 0.7639288306236267)]"
      ]
     },
     "execution_count": 25,
     "metadata": {},
     "output_type": "execute_result"
    }
   ],
   "source": [
    "model.most_similar('india', topn = 5)"
   ]
  },
  {
   "cell_type": "code",
   "execution_count": 26,
   "id": "bb3f80c7-534a-468b-a199-6e77681fd912",
   "metadata": {},
   "outputs": [
    {
     "data": {
      "text/plain": [
       "[('india', 0.7802029252052307),\n",
       " ('pakistani', 0.7459748983383179),\n",
       " ('lankan', 0.671988844871521),\n",
       " ('sri', 0.6649523377418518),\n",
       " ('tamil', 0.6608704924583435),\n",
       " ('pakistan', 0.650149941444397),\n",
       " ('indonesian', 0.6334138512611389),\n",
       " ('malaysian', 0.6329551339149475),\n",
       " ('bangladeshi', 0.6325674653053284),\n",
       " ('delhi', 0.6219141483306885)]"
      ]
     },
     "execution_count": 26,
     "metadata": {},
     "output_type": "execute_result"
    }
   ],
   "source": [
    "model.most_similar('indian')"
   ]
  },
  {
   "cell_type": "code",
   "execution_count": 27,
   "id": "72b1a783-b3aa-4c41-9ad6-41a5cab29a15",
   "metadata": {},
   "outputs": [
    {
     "data": {
      "text/plain": [
       "[('barack', 0.9372164607048035),\n",
       " ('bush', 0.927285373210907),\n",
       " ('clinton', 0.8960004448890686),\n",
       " ('mccain', 0.8875633478164673),\n",
       " ('gore', 0.8000321388244629),\n",
       " ('hillary', 0.7933662533760071),\n",
       " ('dole', 0.7851964831352234),\n",
       " ('rodham', 0.7518897652626038),\n",
       " ('romney', 0.7488929629325867),\n",
       " ('kerry', 0.7472624182701111)]"
      ]
     },
     "execution_count": 27,
     "metadata": {},
     "output_type": "execute_result"
    }
   ],
   "source": [
    "model.most_similar('obama')"
   ]
  },
  {
   "cell_type": "code",
   "execution_count": 28,
   "id": "974fd528-8e61-46e5-96f6-535a1cece74a",
   "metadata": {},
   "outputs": [
    {
     "data": {
      "text/plain": [
       "[('mahadev', 0.6862365007400513),\n",
       " ('hanuman', 0.6521645784378052),\n",
       " ('kavu', 0.6397583484649658),\n",
       " ('kovil', 0.6323766708374023),\n",
       " ('ashram', 0.6163662672042847),\n",
       " ('durga', 0.6065189242362976),\n",
       " ('vidya', 0.6024773716926575),\n",
       " ('shri', 0.6013579964637756),\n",
       " ('shree', 0.5905124545097351),\n",
       " ('perumal', 0.5879754424095154)]"
      ]
     },
     "execution_count": 28,
     "metadata": {},
     "output_type": "execute_result"
    }
   ],
   "source": [
    "model.most_similar('mandir')"
   ]
  },
  {
   "cell_type": "code",
   "execution_count": 29,
   "id": "73169a52-c592-4b9a-a0d4-8ab8fc4e836d",
   "metadata": {},
   "outputs": [
    {
     "data": {
      "text/plain": [
       "[('mb', 0.6237691044807434),\n",
       " ('megabytes', 0.5777544975280762),\n",
       " ('gopal', 0.5704103708267212),\n",
       " ('narayan', 0.5389869213104248),\n",
       " ('rom', 0.5347330570220947),\n",
       " ('babu', 0.5345158576965332),\n",
       " ('prakash', 0.5263607501983643),\n",
       " ('cpu', 0.5207217931747437),\n",
       " ('shri', 0.5196481347084045),\n",
       " ('máel', 0.5172913670539856)]"
      ]
     },
     "execution_count": 29,
     "metadata": {},
     "output_type": "execute_result"
    }
   ],
   "source": [
    "model.most_similar('ram')"
   ]
  },
  {
   "cell_type": "code",
   "execution_count": 37,
   "id": "d35840b8-61ca-4f11-8208-2b6178d2d08d",
   "metadata": {},
   "outputs": [
    {
     "data": {
      "text/plain": [
       "0.41460517"
      ]
     },
     "execution_count": 37,
     "metadata": {},
     "output_type": "execute_result"
    }
   ],
   "source": [
    "model.similarity('ram', 'mandir')"
   ]
  },
  {
   "cell_type": "code",
   "execution_count": 30,
   "id": "e6120bee-bbcf-47b9-9ac6-1c384c0eb7ac",
   "metadata": {},
   "outputs": [
    {
     "data": {
      "text/plain": [
       "[('narendra', 0.7561360001564026),\n",
       " ('alkatiri', 0.6231592297554016),\n",
       " ('lalit', 0.6148896813392639),\n",
       " ('gujarat', 0.6068905591964722),\n",
       " ('nawaz', 0.5941664576530457),\n",
       " ('bjp', 0.5920787453651428),\n",
       " ('samak', 0.5841799378395081),\n",
       " ('somchai', 0.5836262106895447),\n",
       " ('advani', 0.5665984749794006),\n",
       " ('zia', 0.5625712871551514)]"
      ]
     },
     "execution_count": 30,
     "metadata": {},
     "output_type": "execute_result"
    }
   ],
   "source": [
    "model.most_similar('modi')"
   ]
  },
  {
   "cell_type": "code",
   "execution_count": 31,
   "id": "e0c3c84f-f86b-467d-a5a5-b015c8b1dfa7",
   "metadata": {},
   "outputs": [
    {
     "data": {
      "text/plain": [
       "[('malayalam', 0.6783681511878967),\n",
       " ('film', 0.6606241464614868),\n",
       " ('films', 0.6603192090988159),\n",
       " ('hindi', 0.6582645773887634),\n",
       " ('movie', 0.6446917653083801),\n",
       " ('tollywood', 0.6382278203964233),\n",
       " ('telugu', 0.6253119111061096),\n",
       " ('movies', 0.6220956444740295),\n",
       " ('actresses', 0.6136147379875183),\n",
       " ('amitabh', 0.6102945804595947)]"
      ]
     },
     "execution_count": 31,
     "metadata": {},
     "output_type": "execute_result"
    }
   ],
   "source": [
    "model.most_similar('bollywood')"
   ]
  },
  {
   "cell_type": "code",
   "execution_count": 36,
   "id": "57d57a23-7525-47da-a719-c3ac25dde8b7",
   "metadata": {},
   "outputs": [
    {
     "data": {
      "text/plain": [
       "0.33196557"
      ]
     },
     "execution_count": 36,
     "metadata": {},
     "output_type": "execute_result"
    }
   ],
   "source": [
    "model.similarity('bollywood', 'salman')"
   ]
  },
  {
   "cell_type": "code",
   "execution_count": 34,
   "id": "99d3b5c1-74cc-405a-b24f-2c41dc13a0d2",
   "metadata": {},
   "outputs": [
    {
     "data": {
      "text/plain": [
       "0.24366982"
      ]
     },
     "execution_count": 34,
     "metadata": {},
     "output_type": "execute_result"
    }
   ],
   "source": [
    "model.similarity('ambani', 'modi')"
   ]
  },
  {
   "cell_type": "code",
   "execution_count": null,
   "id": "40e833df-de21-46f2-b57c-a2c393848a51",
   "metadata": {},
   "outputs": [],
   "source": []
  }
 ],
 "metadata": {
  "kernelspec": {
   "display_name": "Python 3 (ipykernel)",
   "language": "python",
   "name": "python3"
  },
  "language_info": {
   "codemirror_mode": {
    "name": "ipython",
    "version": 3
   },
   "file_extension": ".py",
   "mimetype": "text/x-python",
   "name": "python",
   "nbconvert_exporter": "python",
   "pygments_lexer": "ipython3",
   "version": "3.12.4"
  }
 },
 "nbformat": 4,
 "nbformat_minor": 5
}
