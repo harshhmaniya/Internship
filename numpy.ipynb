{
 "cells": [
  {
   "cell_type": "markdown",
   "id": "007db2f6-f01b-4cd4-bcc1-1432dbe116d0",
   "metadata": {},
   "source": [
    "<h2>Installing and Importing</h2>"
   ]
  },
  {
   "cell_type": "code",
   "execution_count": 150,
   "id": "877a202f-3a34-463e-928a-992887eff9cb",
   "metadata": {},
   "outputs": [
    {
     "name": "stdout",
     "output_type": "stream",
     "text": [
      "Requirement already satisfied: numpy in c:\\users\\kalat\\anaconda3\\lib\\site-packages (1.26.4)\n",
      "Note: you may need to restart the kernel to use updated packages.\n"
     ]
    }
   ],
   "source": [
    "pip install numpy"
   ]
  },
  {
   "cell_type": "code",
   "execution_count": 151,
   "id": "2b685f09-b4b5-489f-a443-d46f0828a7fc",
   "metadata": {},
   "outputs": [
    {
     "name": "stdout",
     "output_type": "stream",
     "text": [
      "1.26.4\n"
     ]
    }
   ],
   "source": [
    "import numpy as np\n",
    "\n",
    "print(np.__version__)"
   ]
  },
  {
   "cell_type": "code",
   "execution_count": 208,
   "id": "b4374810-9c43-4653-9996-037f1c0c7bb4",
   "metadata": {},
   "outputs": [
    {
     "name": "stdout",
     "output_type": "stream",
     "text": [
      "[1 2 3 4 5]\n",
      "<class 'numpy.ndarray'>\n"
     ]
    }
   ],
   "source": [
    "import numpy as np\n",
    "\n",
    "arr = np.array([1, 2, 3, 4, 5])\n",
    "\n",
    "print(arr)\n",
    "\n",
    "print(type(arr))"
   ]
  },
  {
   "cell_type": "markdown",
   "id": "ec9a305d-5519-492d-940a-f9588932fddf",
   "metadata": {},
   "source": [
    "<h3>List to Numpy Array</h3>"
   ]
  },
  {
   "cell_type": "code",
   "execution_count": 152,
   "id": "7b9f6f71-1e07-48d9-989a-081d9bea8daa",
   "metadata": {},
   "outputs": [
    {
     "data": {
      "text/plain": [
       "list"
      ]
     },
     "execution_count": 152,
     "metadata": {},
     "output_type": "execute_result"
    }
   ],
   "source": [
    "list = [1,2,3,4]\n",
    "type(list)"
   ]
  },
  {
   "cell_type": "code",
   "execution_count": 153,
   "id": "ede90e1b-2691-46f8-b9e2-293f55a3be90",
   "metadata": {},
   "outputs": [
    {
     "data": {
      "text/plain": [
       "numpy.ndarray"
      ]
     },
     "execution_count": 153,
     "metadata": {},
     "output_type": "execute_result"
    }
   ],
   "source": [
    "arr = np.array(list)\n",
    "type(arr)"
   ]
  },
  {
   "cell_type": "code",
   "execution_count": 211,
   "id": "9bde3979-6fb2-4fd2-920a-e008f093c14b",
   "metadata": {},
   "outputs": [
    {
     "data": {
      "text/plain": [
       "array([[[[[1, 2, 3, 4]]]]])"
      ]
     },
     "execution_count": 211,
     "metadata": {},
     "output_type": "execute_result"
    }
   ],
   "source": [
    "arr2 = np.array(list, ndmin=5)\n",
    "arr2"
   ]
  },
  {
   "cell_type": "code",
   "execution_count": 210,
   "id": "a6edbad8-72da-49e5-8d28-eab9869734f9",
   "metadata": {},
   "outputs": [
    {
     "data": {
      "text/plain": [
       "array([[[[[1, 2, 3, 4]]]]])"
      ]
     },
     "execution_count": 210,
     "metadata": {},
     "output_type": "execute_result"
    }
   ],
   "source": [
    "arr2"
   ]
  },
  {
   "cell_type": "markdown",
   "id": "98300228-bec4-400b-81d6-a7a827f5900f",
   "metadata": {},
   "source": [
    "<h3>Arrange Function</h3>"
   ]
  },
  {
   "cell_type": "code",
   "execution_count": 156,
   "id": "d2acf40c-c7f7-4c97-816d-f27137a3a138",
   "metadata": {},
   "outputs": [
    {
     "data": {
      "text/plain": [
       "array([1, 2, 3, 4, 5, 6, 7, 8, 9])"
      ]
     },
     "execution_count": 156,
     "metadata": {},
     "output_type": "execute_result"
    }
   ],
   "source": [
    "np.arange(1,10)"
   ]
  },
  {
   "cell_type": "markdown",
   "id": "7d066d11-01ac-47a8-b5fa-f4e5fa7d5130",
   "metadata": {},
   "source": [
    "<h3>MultiDimensional Array</h3>"
   ]
  },
  {
   "cell_type": "code",
   "execution_count": 157,
   "id": "09c1f80b-fd18-4ec5-bff1-7e74ff60c4fc",
   "metadata": {},
   "outputs": [],
   "source": [
    "arr = np.array([[1,2,3],[4,5,6],[7,8,9],[10,11,12]])"
   ]
  },
  {
   "cell_type": "code",
   "execution_count": 158,
   "id": "9555f7b5-e319-4fe1-a4c1-656686b30189",
   "metadata": {},
   "outputs": [
    {
     "data": {
      "text/plain": [
       "array([[ 1,  2,  3],\n",
       "       [ 4,  5,  6],\n",
       "       [ 7,  8,  9],\n",
       "       [10, 11, 12]])"
      ]
     },
     "execution_count": 158,
     "metadata": {},
     "output_type": "execute_result"
    }
   ],
   "source": [
    "arr"
   ]
  },
  {
   "cell_type": "markdown",
   "id": "03762f61-c03f-44a9-ab4c-185cbf002626",
   "metadata": {},
   "source": [
    "<h3>Size</h3>"
   ]
  },
  {
   "cell_type": "code",
   "execution_count": 159,
   "id": "2ba61518-049d-400a-96a4-99af94114269",
   "metadata": {},
   "outputs": [
    {
     "data": {
      "text/plain": [
       "12"
      ]
     },
     "execution_count": 159,
     "metadata": {},
     "output_type": "execute_result"
    }
   ],
   "source": [
    "arr.size"
   ]
  },
  {
   "cell_type": "code",
   "execution_count": 160,
   "id": "55071b2a-a8b3-4d7b-afe1-e90b5e61c945",
   "metadata": {},
   "outputs": [
    {
     "name": "stdout",
     "output_type": "stream",
     "text": [
      "Total Size     :  12\n",
      "No. of Rows    :  4\n",
      "No. of Columns :  3\n"
     ]
    }
   ],
   "source": [
    "print('Total Size     : ',arr.size)\n",
    "print('No. of Rows    : ',np.size(arr,0))\n",
    "print('No. of Columns : ',np.size(arr,1))"
   ]
  },
  {
   "cell_type": "markdown",
   "id": "e36e5301-37b3-4b63-8e8d-e11454eb9ca0",
   "metadata": {},
   "source": [
    "<h3>Shape</h3>"
   ]
  },
  {
   "cell_type": "code",
   "execution_count": 161,
   "id": "15e987cc-df11-4227-8ebc-f43eca1ed266",
   "metadata": {},
   "outputs": [
    {
     "data": {
      "text/plain": [
       "(4, 3)"
      ]
     },
     "execution_count": 161,
     "metadata": {},
     "output_type": "execute_result"
    }
   ],
   "source": [
    "arr.shape"
   ]
  },
  {
   "cell_type": "markdown",
   "id": "d33c0295-8733-47ce-81c0-2df04898e1e8",
   "metadata": {},
   "source": [
    "<h3>dtype function</h3>"
   ]
  },
  {
   "cell_type": "code",
   "execution_count": 162,
   "id": "e9a89b4d-57bb-459f-b064-89292920815c",
   "metadata": {},
   "outputs": [
    {
     "data": {
      "text/plain": [
       "dtype('int32')"
      ]
     },
     "execution_count": 162,
     "metadata": {},
     "output_type": "execute_result"
    }
   ],
   "source": [
    "arr.dtype"
   ]
  },
  {
   "cell_type": "code",
   "execution_count": 163,
   "id": "eb1c96e0-5395-4804-9a71-475c4e315320",
   "metadata": {},
   "outputs": [],
   "source": [
    "arr2 = np.array([1.3,4.7,34.1,67.1])"
   ]
  },
  {
   "cell_type": "code",
   "execution_count": 164,
   "id": "4ea12e51-75e5-45db-9fb4-a3b4854a4ff6",
   "metadata": {},
   "outputs": [
    {
     "data": {
      "text/plain": [
       "dtype('float64')"
      ]
     },
     "execution_count": 164,
     "metadata": {},
     "output_type": "execute_result"
    }
   ],
   "source": [
    "arr2.dtype"
   ]
  },
  {
   "cell_type": "markdown",
   "id": "097dc114-518a-42ea-8a3d-6b178095ebbf",
   "metadata": {},
   "source": [
    "<h3>Ndim Function</h3>"
   ]
  },
  {
   "cell_type": "code",
   "execution_count": 165,
   "id": "1e76b78b-806f-453f-a447-792d7aae7900",
   "metadata": {},
   "outputs": [
    {
     "data": {
      "text/plain": [
       "2"
      ]
     },
     "execution_count": 165,
     "metadata": {},
     "output_type": "execute_result"
    }
   ],
   "source": [
    "arr.ndim"
   ]
  },
  {
   "cell_type": "code",
   "execution_count": 166,
   "id": "e4d78faa-8493-4871-9dc3-a7d7fa0028f0",
   "metadata": {},
   "outputs": [
    {
     "data": {
      "text/plain": [
       "1"
      ]
     },
     "execution_count": 166,
     "metadata": {},
     "output_type": "execute_result"
    }
   ],
   "source": [
    "arr2.ndim"
   ]
  },
  {
   "cell_type": "markdown",
   "id": "0c63ad46-b7ff-4c92-85b5-77023eee6acb",
   "metadata": {},
   "source": [
    "<h3>Zeros and Ones Function</h3>"
   ]
  },
  {
   "cell_type": "code",
   "execution_count": 167,
   "id": "07088bc2-0635-4531-84a1-a55e2f0b6737",
   "metadata": {},
   "outputs": [
    {
     "data": {
      "text/plain": [
       "array([[0., 0., 0., 0.],\n",
       "       [0., 0., 0., 0.],\n",
       "       [0., 0., 0., 0.]])"
      ]
     },
     "execution_count": 167,
     "metadata": {},
     "output_type": "execute_result"
    }
   ],
   "source": [
    "arr1 = np.zeros(shape = (3,4))\n",
    "arr1"
   ]
  },
  {
   "cell_type": "code",
   "execution_count": 168,
   "id": "ffc84761-21f9-4cdf-9e4f-f1c16f383b34",
   "metadata": {},
   "outputs": [
    {
     "data": {
      "text/plain": [
       "array([[0, 0, 0, 0],\n",
       "       [0, 0, 0, 0],\n",
       "       [0, 0, 0, 0]])"
      ]
     },
     "execution_count": 168,
     "metadata": {},
     "output_type": "execute_result"
    }
   ],
   "source": [
    "arr2 = np.zeros(shape = (3,4), dtype=int)\n",
    "arr2"
   ]
  },
  {
   "cell_type": "code",
   "execution_count": 169,
   "id": "56c0fecf-e339-4d0c-8dcf-e3d0ddf099f7",
   "metadata": {},
   "outputs": [
    {
     "data": {
      "text/plain": [
       "array([[1., 1., 1., 1., 1.],\n",
       "       [1., 1., 1., 1., 1.]])"
      ]
     },
     "execution_count": 169,
     "metadata": {},
     "output_type": "execute_result"
    }
   ],
   "source": [
    "arr3 = np.ones(shape = (2,5))\n",
    "arr3"
   ]
  },
  {
   "cell_type": "code",
   "execution_count": 170,
   "id": "c4cdb6b4-46b6-4e44-b3ce-1e675e86d7d8",
   "metadata": {},
   "outputs": [
    {
     "data": {
      "text/plain": [
       "array([[1, 1, 1, 1, 1],\n",
       "       [1, 1, 1, 1, 1]])"
      ]
     },
     "execution_count": 170,
     "metadata": {},
     "output_type": "execute_result"
    }
   ],
   "source": [
    "arr4 = np.ones(shape = (2,5), dtype=int)\n",
    "arr4"
   ]
  },
  {
   "cell_type": "markdown",
   "id": "f803576b-d671-4def-8737-202fad9b7050",
   "metadata": {},
   "source": [
    "<h3>Identity matrix</h3>"
   ]
  },
  {
   "cell_type": "code",
   "execution_count": 171,
   "id": "d514b2d1-c172-49c2-a4bb-2bf17e9fd326",
   "metadata": {},
   "outputs": [
    {
     "data": {
      "text/plain": [
       "array([[1., 0., 0.],\n",
       "       [0., 1., 0.],\n",
       "       [0., 0., 1.]])"
      ]
     },
     "execution_count": 171,
     "metadata": {},
     "output_type": "execute_result"
    }
   ],
   "source": [
    "np.eye(3)"
   ]
  },
  {
   "cell_type": "code",
   "execution_count": 172,
   "id": "15367293-8b03-4a62-8eff-2701d57e38dd",
   "metadata": {},
   "outputs": [
    {
     "data": {
      "text/plain": [
       "array([[1, 0, 0, 0],\n",
       "       [0, 1, 0, 0],\n",
       "       [0, 0, 1, 0],\n",
       "       [0, 0, 0, 1]])"
      ]
     },
     "execution_count": 172,
     "metadata": {},
     "output_type": "execute_result"
    }
   ],
   "source": [
    "np.eye(4, dtype=int)"
   ]
  },
  {
   "cell_type": "markdown",
   "id": "dcb1c096-feae-477e-8643-5deefbed9fef",
   "metadata": {},
   "source": [
    "<h2>Random Functions</h2>"
   ]
  },
  {
   "cell_type": "code",
   "execution_count": 173,
   "id": "27363b21-2a23-4711-920f-4f4135b38adc",
   "metadata": {},
   "outputs": [
    {
     "data": {
      "text/plain": [
       "array([[0.6020039 , 0.28131643, 0.38828615, 0.34578559, 0.84516989],\n",
       "       [0.12075078, 0.95843193, 0.01710649, 0.58053048, 0.84111537],\n",
       "       [0.86015426, 0.36213258, 0.07581099, 0.46654113, 0.79665434]])"
      ]
     },
     "execution_count": 173,
     "metadata": {},
     "output_type": "execute_result"
    }
   ],
   "source": [
    "np.random.rand(3,5)"
   ]
  },
  {
   "cell_type": "code",
   "execution_count": 174,
   "id": "684f4e71-7f73-4826-abf5-c94ca2bdead3",
   "metadata": {},
   "outputs": [
    {
     "data": {
      "text/plain": [
       "array([218,  18,  48,  27, 299])"
      ]
     },
     "execution_count": 174,
     "metadata": {},
     "output_type": "execute_result"
    }
   ],
   "source": [
    "np.random.randint(1,1000,5)"
   ]
  },
  {
   "cell_type": "code",
   "execution_count": 232,
   "id": "66fb0608-fa8a-47e1-bb0f-ea7b952f1387",
   "metadata": {},
   "outputs": [
    {
     "data": {
      "text/plain": [
       "array([-0.49756012,  0.01953276, -0.46028472,  0.83638821,  1.10319109,\n",
       "        0.97988431,  0.14999249,  1.03148145,  0.8291002 ,  1.24573555])"
      ]
     },
     "execution_count": 232,
     "metadata": {},
     "output_type": "execute_result"
    }
   ],
   "source": [
    "np.random.randn(10)"
   ]
  },
  {
   "cell_type": "code",
   "execution_count": 176,
   "id": "b459a20d-903c-4192-97c3-ba9bbe066e33",
   "metadata": {},
   "outputs": [
    {
     "data": {
      "image/png": "[encoded data removed]",
      "text/plain": [
       "<Figure size 640x480 with 1 Axes>"
      ]
     },
     "metadata": {},
     "output_type": "display_data"
    }
   ],
   "source": [
    "import matplotlib.pyplot as plt\n",
    "\n",
    "plt.hist(np.random.randn(1000000),1000);"
   ]
  },
  {
   "cell_type": "markdown",
   "id": "fb6c55fe-1043-4f55-9299-1f504524f45f",
   "metadata": {},
   "source": [
    "<h3>Reshape Function</h3>"
   ]
  },
  {
   "cell_type": "code",
   "execution_count": 177,
   "id": "66aacacd-2bab-4edf-82d3-16c3b6860a85",
   "metadata": {},
   "outputs": [],
   "source": [
    "arr = np.random.randint(1,15,(5,4))"
   ]
  },
  {
   "cell_type": "code",
   "execution_count": 178,
   "id": "83d0ec98-6788-4cd7-8ce0-a0bb82550887",
   "metadata": {},
   "outputs": [
    {
     "data": {
      "text/plain": [
       "array([[ 6,  6, 13,  4],\n",
       "       [14,  7,  7,  2],\n",
       "       [13,  4, 11,  4],\n",
       "       [14, 11, 10,  7],\n",
       "       [ 1,  8,  1,  2]])"
      ]
     },
     "execution_count": 178,
     "metadata": {},
     "output_type": "execute_result"
    }
   ],
   "source": [
    "arr"
   ]
  },
  {
   "cell_type": "code",
   "execution_count": 179,
   "id": "502f6efb-7d3a-430d-83c7-8a1a3199830b",
   "metadata": {},
   "outputs": [
    {
     "data": {
      "text/plain": [
       "array([[ 6,  6, 13,  4, 14],\n",
       "       [ 7,  7,  2, 13,  4],\n",
       "       [11,  4, 14, 11, 10],\n",
       "       [ 7,  1,  8,  1,  2]])"
      ]
     },
     "execution_count": 179,
     "metadata": {},
     "output_type": "execute_result"
    }
   ],
   "source": [
    "arr.reshape(4,5)"
   ]
  },
  {
   "cell_type": "code",
   "execution_count": 180,
   "id": "b77c7c1f-68ca-46bd-9cf7-0933abde7e21",
   "metadata": {},
   "outputs": [
    {
     "data": {
      "text/plain": [
       "array([[ 6,  6, 13,  4, 14,  7,  7,  2, 13,  4],\n",
       "       [11,  4, 14, 11, 10,  7,  1,  8,  1,  2]])"
      ]
     },
     "execution_count": 180,
     "metadata": {},
     "output_type": "execute_result"
    }
   ],
   "source": [
    "arr.reshape(2,10)"
   ]
  },
  {
   "cell_type": "markdown",
   "id": "51059dc2-2642-4bfe-a297-12f7aae168d4",
   "metadata": {},
   "source": [
    "<h3>Min, Max, Sum</h3>"
   ]
  },
  {
   "cell_type": "code",
   "execution_count": 181,
   "id": "1410418f-35f1-4293-a268-5cae93011a77",
   "metadata": {},
   "outputs": [
    {
     "data": {
      "text/plain": [
       "array([[ 5, 10, 12,  5],\n",
       "       [ 4,  7,  5, 10],\n",
       "       [ 2,  6,  7,  5],\n",
       "       [ 9,  2,  4, 10],\n",
       "       [ 4,  7,  2, 10]])"
      ]
     },
     "execution_count": 181,
     "metadata": {},
     "output_type": "execute_result"
    }
   ],
   "source": [
    "arr = np.random.randint(1,15,(5,4))\n",
    "arr"
   ]
  },
  {
   "cell_type": "code",
   "execution_count": 182,
   "id": "b871537a-c229-4082-9a50-16b19f8e674c",
   "metadata": {},
   "outputs": [
    {
     "data": {
      "text/plain": [
       "12"
      ]
     },
     "execution_count": 182,
     "metadata": {},
     "output_type": "execute_result"
    }
   ],
   "source": [
    "arr.max()"
   ]
  },
  {
   "cell_type": "code",
   "execution_count": 183,
   "id": "ac45d17e-350b-4daa-bea2-989ffb875640",
   "metadata": {},
   "outputs": [
    {
     "data": {
      "text/plain": [
       "2"
      ]
     },
     "execution_count": 183,
     "metadata": {},
     "output_type": "execute_result"
    }
   ],
   "source": [
    "arr.min()"
   ]
  },
  {
   "cell_type": "code",
   "execution_count": 184,
   "id": "5ffbb85b-93f1-453e-9596-a343b26952de",
   "metadata": {},
   "outputs": [
    {
     "data": {
      "text/plain": [
       "126"
      ]
     },
     "execution_count": 184,
     "metadata": {},
     "output_type": "execute_result"
    }
   ],
   "source": [
    "arr.sum()"
   ]
  },
  {
   "cell_type": "code",
   "execution_count": 185,
   "id": "a503f125-dbf5-426b-af43-9c40443af493",
   "metadata": {},
   "outputs": [
    {
     "name": "stdout",
     "output_type": "stream",
     "text": [
      "[12 10  7 10 10]\n",
      "[5 4 2 2 2]\n",
      "[32 26 20 25 23]\n"
     ]
    }
   ],
   "source": [
    "print(arr.max(1))\n",
    "print(arr.min(1))\n",
    "print(arr.sum(1))"
   ]
  },
  {
   "cell_type": "code",
   "execution_count": 186,
   "id": "4854ff99-371a-4605-a15d-2589e6ab56bc",
   "metadata": {},
   "outputs": [
    {
     "name": "stdout",
     "output_type": "stream",
     "text": [
      "[ 9 10 12 10]\n",
      "[2 2 2 5]\n",
      "[24 32 30 40]\n"
     ]
    }
   ],
   "source": [
    "print(arr.max(0))\n",
    "print(arr.min(0))\n",
    "print(arr.sum(0))"
   ]
  },
  {
   "cell_type": "code",
   "execution_count": 187,
   "id": "6d611afd-35ef-4960-b8e2-9b0a60213090",
   "metadata": {},
   "outputs": [
    {
     "data": {
      "text/plain": [
       "array([[10, 14,  5,  1],\n",
       "       [ 2, 12, 13, 10],\n",
       "       [14,  1, 14,  2],\n",
       "       [11,  9, 10,  1],\n",
       "       [11,  9,  7,  5]])"
      ]
     },
     "execution_count": 187,
     "metadata": {},
     "output_type": "execute_result"
    }
   ],
   "source": [
    "np.random.seed(10)\n",
    "arr2 = np.random.randint(1,15,(5,4))\n",
    "arr2"
   ]
  },
  {
   "cell_type": "markdown",
   "id": "b9afa035-2a2b-4631-bcaa-ab2939754794",
   "metadata": {},
   "source": [
    "<h3>Sorting</h3>"
   ]
  },
  {
   "cell_type": "code",
   "execution_count": 188,
   "id": "e5585228-f758-4510-83e0-59805a06bfb9",
   "metadata": {},
   "outputs": [
    {
     "data": {
      "text/plain": [
       "array([[ 1,  5, 10, 14],\n",
       "       [ 2, 10, 12, 13],\n",
       "       [ 1,  2, 14, 14],\n",
       "       [ 1,  9, 10, 11],\n",
       "       [ 5,  7,  9, 11]])"
      ]
     },
     "execution_count": 188,
     "metadata": {},
     "output_type": "execute_result"
    }
   ],
   "source": [
    "np.sort(arr2)"
   ]
  },
  {
   "cell_type": "code",
   "execution_count": 189,
   "id": "2d503334-eae2-41c3-b1e2-387f1765db30",
   "metadata": {},
   "outputs": [
    {
     "data": {
      "text/plain": [
       "array([[ 1,  5, 10, 14],\n",
       "       [ 2, 10, 12, 13],\n",
       "       [ 1,  2, 14, 14],\n",
       "       [ 1,  9, 10, 11],\n",
       "       [ 5,  7,  9, 11]])"
      ]
     },
     "execution_count": 189,
     "metadata": {},
     "output_type": "execute_result"
    }
   ],
   "source": [
    "np.sort(arr2,1)"
   ]
  },
  {
   "cell_type": "code",
   "execution_count": 190,
   "id": "08c495b8-489b-4072-93dc-7e9b7a37c2e2",
   "metadata": {},
   "outputs": [
    {
     "data": {
      "text/plain": [
       "array([[ 2,  1,  5,  1],\n",
       "       [10,  9,  7,  1],\n",
       "       [11,  9, 10,  2],\n",
       "       [11, 12, 13,  5],\n",
       "       [14, 14, 14, 10]])"
      ]
     },
     "execution_count": 190,
     "metadata": {},
     "output_type": "execute_result"
    }
   ],
   "source": [
    "np.sort(arr2,0)"
   ]
  },
  {
   "cell_type": "code",
   "execution_count": 191,
   "id": "61d25cf0-8139-4210-8d6d-a99c70284363",
   "metadata": {},
   "outputs": [],
   "source": [
    "ar5 = arr2"
   ]
  },
  {
   "cell_type": "code",
   "execution_count": 192,
   "id": "a32810bb-27ef-47e0-ae56-82f44ac9dcfa",
   "metadata": {},
   "outputs": [
    {
     "data": {
      "text/plain": [
       "array([[ 1,  5, 10, 14],\n",
       "       [ 2, 10, 12, 13],\n",
       "       [ 1,  2, 14, 14],\n",
       "       [ 1,  9, 10, 11],\n",
       "       [ 5,  7,  9, 11]])"
      ]
     },
     "execution_count": 192,
     "metadata": {},
     "output_type": "execute_result"
    }
   ],
   "source": [
    "np.sort(ar5,kind='mergesort')"
   ]
  },
  {
   "cell_type": "markdown",
   "id": "bb3581e1-2193-4ccf-9bcf-bd8cff4f5db3",
   "metadata": {},
   "source": [
    "<h3>Maths</h3>"
   ]
  },
  {
   "cell_type": "code",
   "execution_count": 193,
   "id": "fd25ad57-07bb-408b-8478-98c1054f0dea",
   "metadata": {},
   "outputs": [
    {
     "data": {
      "text/plain": [
       "array([[11,  5,  4,  3],\n",
       "       [ 5,  7,  4, 12],\n",
       "       [ 6, 12,  9, 10],\n",
       "       [ 7,  3,  4,  5],\n",
       "       [12, 14, 10,  4]])"
      ]
     },
     "execution_count": 193,
     "metadata": {},
     "output_type": "execute_result"
    }
   ],
   "source": [
    "np.random.seed(1524)\n",
    "arr = np.random.randint(1,15,(5,4))\n",
    "arr"
   ]
  },
  {
   "cell_type": "code",
   "execution_count": 194,
   "id": "d9425feb-e0f3-4501-840c-b10407868a56",
   "metadata": {},
   "outputs": [
    {
     "name": "stdout",
     "output_type": "stream",
     "text": [
      "[[12  6  5  4]\n",
      " [ 6  8  5 13]\n",
      " [ 7 13 10 11]\n",
      " [ 8  4  5  6]\n",
      " [13 15 11  5]]\n",
      "********************\n",
      "[[10  4  3  2]\n",
      " [ 4  6  3 11]\n",
      " [ 5 11  8  9]\n",
      " [ 6  2  3  4]\n",
      " [11 13  9  3]]\n",
      "********************\n",
      "[[22 10  8  6]\n",
      " [10 14  8 24]\n",
      " [12 24 18 20]\n",
      " [14  6  8 10]\n",
      " [24 28 20  8]]\n",
      "********************\n",
      "[[5.5 2.5 2.  1.5]\n",
      " [2.5 3.5 2.  6. ]\n",
      " [3.  6.  4.5 5. ]\n",
      " [3.5 1.5 2.  2.5]\n",
      " [6.  7.  5.  2. ]]\n",
      "********************\n",
      "[[5 2 2 1]\n",
      " [2 3 2 6]\n",
      " [3 6 4 5]\n",
      " [3 1 2 2]\n",
      " [6 7 5 2]]\n",
      "********************\n"
     ]
    }
   ],
   "source": [
    "print(arr+1)\n",
    "print('*'*20)\n",
    "print(arr-1)\n",
    "print('*'*20)\n",
    "print(arr*2)\n",
    "print('*'*20)\n",
    "print(arr/2)\n",
    "print('*'*20)\n",
    "print(arr//2)\n",
    "print('*'*20)"
   ]
  },
  {
   "cell_type": "code",
   "execution_count": 195,
   "id": "645f7447-df14-412e-83f3-bd98d31ef747",
   "metadata": {},
   "outputs": [
    {
     "data": {
      "text/plain": [
       "array([[ 1,  8,  2, 10, 11],\n",
       "       [ 9, 10,  1,  8, 12],\n",
       "       [ 4,  6,  1, 11, 13],\n",
       "       [11, 10,  3, 14, 14]])"
      ]
     },
     "execution_count": 195,
     "metadata": {},
     "output_type": "execute_result"
    }
   ],
   "source": [
    "arr3 = np.random.randint(1,15,(4,5))\n",
    "arr3"
   ]
  },
  {
   "cell_type": "code",
   "execution_count": 196,
   "id": "ddace304-f7d5-4e00-a308-27f0d64cfa29",
   "metadata": {},
   "outputs": [
    {
     "name": "stdout",
     "output_type": "stream",
     "text": [
      "[[105 192  40 236 275]\n",
      " [216 254  57 318 359]\n",
      " [260 322  63 395 467]\n",
      " [105 160  36 208 235]\n",
      " [222 336  60 398 486]]\n"
     ]
    }
   ],
   "source": [
    "print(arr.dot(arr3))"
   ]
  },
  {
   "cell_type": "code",
   "execution_count": 197,
   "id": "960dba50-e161-4fe0-8eeb-26f0c501f2af",
   "metadata": {},
   "outputs": [
    {
     "name": "stdout",
     "output_type": "stream",
     "text": [
      "[[121  25  16   9]\n",
      " [ 25  49  16 144]\n",
      " [ 36 144  81 100]\n",
      " [ 49   9  16  25]\n",
      " [144 196 100  16]]\n"
     ]
    }
   ],
   "source": [
    "print(arr**2)"
   ]
  },
  {
   "cell_type": "code",
   "execution_count": 198,
   "id": "78a69bc7-89e5-4678-a49c-7324bbc3cd1e",
   "metadata": {},
   "outputs": [
    {
     "name": "stdout",
     "output_type": "stream",
     "text": [
      "[5 5 6 1 1 5 4 3 5 1]\n",
      "Mean               :  3.6\n",
      "Standard Deviation :  1.8547236990991407\n",
      "Variance           :  3.44\n"
     ]
    }
   ],
   "source": [
    "ar3 = np.random.randint(1,10,10)\n",
    "print(ar3)\n",
    "\n",
    "print(\"Mean               : \",ar3.mean())\n",
    "print(\"Standard Deviation : \",ar3.std())\n",
    "print(\"Variance           : \",ar3.var())"
   ]
  },
  {
   "cell_type": "markdown",
   "id": "13f39cff-cdff-4bcb-86c2-b89efe76eeaa",
   "metadata": {},
   "source": [
    "<h3>Filtering an numpy array</h3>"
   ]
  },
  {
   "cell_type": "code",
   "execution_count": 199,
   "id": "643a8bf4-13f7-4cc3-8819-6dd95f085b2f",
   "metadata": {},
   "outputs": [],
   "source": [
    "arr = np.random.randint(1,50,10)"
   ]
  },
  {
   "cell_type": "code",
   "execution_count": 200,
   "id": "89ae0803-4eed-4348-8977-29bd032ebd61",
   "metadata": {},
   "outputs": [
    {
     "data": {
      "text/plain": [
       "array([16, 26, 12, 46, 22, 36, 45, 47,  6, 22])"
      ]
     },
     "execution_count": 200,
     "metadata": {},
     "output_type": "execute_result"
    }
   ],
   "source": [
    "arr"
   ]
  },
  {
   "cell_type": "code",
   "execution_count": 201,
   "id": "67d12789-1fa0-4997-87b4-9ca6d26c9ffe",
   "metadata": {},
   "outputs": [
    {
     "name": "stdout",
     "output_type": "stream",
     "text": [
      "[26 46 22 36 45 47 22]\n"
     ]
    }
   ],
   "source": [
    "print(arr[arr>20])"
   ]
  },
  {
   "cell_type": "code",
   "execution_count": 202,
   "id": "2232e397-5921-49f2-bd1d-b379a81621bf",
   "metadata": {},
   "outputs": [],
   "source": [
    "arr2 = np.random.randint(1,50,(3,4))"
   ]
  },
  {
   "cell_type": "code",
   "execution_count": 203,
   "id": "8e2a740c-5dd8-4c3b-8b1c-1ac83b597818",
   "metadata": {},
   "outputs": [
    {
     "data": {
      "text/plain": [
       "array([[ 3,  9, 15, 14],\n",
       "       [24, 44, 28, 19],\n",
       "       [47,  2, 25, 30]])"
      ]
     },
     "execution_count": 203,
     "metadata": {},
     "output_type": "execute_result"
    }
   ],
   "source": [
    "arr2"
   ]
  },
  {
   "cell_type": "code",
   "execution_count": 204,
   "id": "6d6efdd3-5a9f-48e9-b533-f1d9c775e85b",
   "metadata": {},
   "outputs": [
    {
     "data": {
      "text/plain": [
       "array([[ 3, 24, 47],\n",
       "       [ 9, 44,  2],\n",
       "       [15, 28, 25],\n",
       "       [14, 19, 30]])"
      ]
     },
     "execution_count": 204,
     "metadata": {},
     "output_type": "execute_result"
    }
   ],
   "source": [
    "arr2.T"
   ]
  },
  {
   "cell_type": "markdown",
   "id": "4c0cee30-e697-4031-a7cb-4da032bf9e65",
   "metadata": {},
   "source": [
    "<h3>Merging Arrays</h3>"
   ]
  },
  {
   "cell_type": "code",
   "execution_count": 205,
   "id": "d6ac331f-3989-44b1-8fee-a8b3368686be",
   "metadata": {},
   "outputs": [],
   "source": [
    "arr = np.random.randint(1,50,(3,3))\n",
    "arr2 = np.random.randint(1,100,(3,3))\n",
    "\n",
    "ar5 = np.concatenate((arr,arr2),0)"
   ]
  },
  {
   "cell_type": "code",
   "execution_count": 206,
   "id": "9b885c87-55ec-4317-9276-8081712bdb2d",
   "metadata": {},
   "outputs": [
    {
     "data": {
      "text/plain": [
       "array([[24, 32,  3],\n",
       "       [45, 49, 36],\n",
       "       [43, 49, 44],\n",
       "       [39, 84, 78],\n",
       "       [37, 26, 31],\n",
       "       [63, 31, 82]])"
      ]
     },
     "execution_count": 206,
     "metadata": {},
     "output_type": "execute_result"
    }
   ],
   "source": [
    "ar5"
   ]
  },
  {
   "cell_type": "code",
   "execution_count": 207,
   "id": "76d0c180-9d48-41d5-a937-56a424e27054",
   "metadata": {},
   "outputs": [
    {
     "data": {
      "text/plain": [
       "array([[24, 32,  3, 39, 84, 78],\n",
       "       [45, 49, 36, 37, 26, 31],\n",
       "       [43, 49, 44, 63, 31, 82]])"
      ]
     },
     "execution_count": 207,
     "metadata": {},
     "output_type": "execute_result"
    }
   ],
   "source": [
    "ar6 =  np.concatenate((arr,arr2),1)\n",
    "ar6"
   ]
  },
  {
   "cell_type": "code",
   "execution_count": 215,
   "id": "6df8e000-a11d-4134-888a-fb73de6881b0",
   "metadata": {},
   "outputs": [
    {
     "name": "stdout",
     "output_type": "stream",
     "text": [
      "2\n"
     ]
    }
   ],
   "source": [
    "arr = np.array([1, 2, 3, 4])\n",
    "print(arr[1])"
   ]
  },
  {
   "cell_type": "code",
   "execution_count": 219,
   "id": "663eea12-ba66-45f9-aadb-0b1739abefb6",
   "metadata": {},
   "outputs": [
    {
     "name": "stdout",
     "output_type": "stream",
     "text": [
      "2nd element on 1st row:  2\n"
     ]
    }
   ],
   "source": [
    "arr = np.array([[1,2,3,4,5], [6,7,8,9,10]])\n",
    "print('2nd element on 1st row: ', arr[0, 1])"
   ]
  },
  {
   "cell_type": "code",
   "execution_count": 217,
   "id": "115e824f-a7b6-44dd-b464-160795befa1d",
   "metadata": {},
   "outputs": [
    {
     "name": "stdout",
     "output_type": "stream",
     "text": [
      "6\n"
     ]
    }
   ],
   "source": [
    "arr = np.array([[[1, 2, 3], [4, 5, 6]], [[7, 8, 9], [10, 11, 12]]])\n",
    "print(arr[0, 1, 2])"
   ]
  },
  {
   "cell_type": "code",
   "execution_count": 220,
   "id": "40f06b13-abb1-4821-81ec-2829f8d67166",
   "metadata": {},
   "outputs": [
    {
     "name": "stdout",
     "output_type": "stream",
     "text": [
      "Last element from 2nd dim:  10\n"
     ]
    }
   ],
   "source": [
    "print('Last element from 2nd dim: ', arr[1, -1])"
   ]
  },
  {
   "cell_type": "code",
   "execution_count": 222,
   "id": "5fb56a49-3646-4b1e-b7f0-d24b8669d62e",
   "metadata": {},
   "outputs": [
    {
     "name": "stdout",
     "output_type": "stream",
     "text": [
      "[2 3 4 5]\n",
      "[5 6 7]\n",
      "[1 2 3 4]\n"
     ]
    }
   ],
   "source": [
    "arr = np.array([1, 2, 3, 4, 5, 6, 7])\n",
    "print(arr[1:5])\n",
    "print(arr[4:])\n",
    "print(arr[:4])"
   ]
  },
  {
   "cell_type": "code",
   "execution_count": 223,
   "id": "48aba40a-e2fd-441c-9f55-234f2d0c5de5",
   "metadata": {},
   "outputs": [
    {
     "name": "stdout",
     "output_type": "stream",
     "text": [
      "[5 6]\n",
      "[2 4]\n",
      "[1 3 5 7]\n"
     ]
    }
   ],
   "source": [
    "arr = np.array([1, 2, 3, 4, 5, 6, 7])\n",
    "\n",
    "print(arr[-3:-1])\n",
    "print(arr[1:5:2])\n",
    "print(arr[::2])"
   ]
  },
  {
   "cell_type": "code",
   "execution_count": 224,
   "id": "bca68a1a-fd02-4d36-ae94-fae71f866bcd",
   "metadata": {},
   "outputs": [
    {
     "name": "stdout",
     "output_type": "stream",
     "text": [
      "[1 2 3]\n",
      "int32\n"
     ]
    }
   ],
   "source": [
    "arr = np.array([1.1, 2.1, 3.1])\n",
    "\n",
    "newarr = arr.astype('i')\n",
    "\n",
    "print(newarr)\n",
    "print(newarr.dtype)"
   ]
  },
  {
   "cell_type": "code",
   "execution_count": 225,
   "id": "46a708f8-58d5-4ebb-b40d-0debb4f601f7",
   "metadata": {},
   "outputs": [
    {
     "name": "stdout",
     "output_type": "stream",
     "text": [
      "1\n",
      "2\n",
      "3\n"
     ]
    }
   ],
   "source": [
    "arr = np.array([1, 2, 3])\n",
    "\n",
    "for x in arr:\n",
    "  print(x)"
   ]
  },
  {
   "cell_type": "code",
   "execution_count": 228,
   "id": "fa13add6-d0fd-45c0-a70a-8c8e4341710e",
   "metadata": {},
   "outputs": [
    {
     "name": "stdout",
     "output_type": "stream",
     "text": [
      "[1 2 3]\n",
      "[4 5 6]\n"
     ]
    }
   ],
   "source": [
    "import numpy as np\n",
    "\n",
    "arr = np.array([[1, 2, 3], [4, 5, 6]])\n",
    "\n",
    "for x in arr:\n",
    "  print(x)"
   ]
  },
  {
   "cell_type": "code",
   "execution_count": 230,
   "id": "371a8b04-88ab-46b5-804a-f1372b5c270e",
   "metadata": {},
   "outputs": [
    {
     "name": "stdout",
     "output_type": "stream",
     "text": [
      "(0,) 1\n",
      "(1,) 2\n",
      "(2,) 3\n"
     ]
    }
   ],
   "source": [
    "arr = np.array([1, 2, 3])\n",
    "\n",
    "for idx, x in np.ndenumerate(arr):\n",
    "  print(idx, x)"
   ]
  },
  {
   "cell_type": "code",
   "execution_count": 231,
   "id": "70f0952d-ab85-4c08-9335-375c65c5d60a",
   "metadata": {},
   "outputs": [
    {
     "name": "stdout",
     "output_type": "stream",
     "text": [
      "(array([3, 5, 6], dtype=int64),)\n"
     ]
    }
   ],
   "source": [
    "arr = np.array([1, 2, 3, 4, 5, 4, 4])\n",
    "\n",
    "x = np.where(arr == 4)\n",
    "print(x)"
   ]
  },
  {
   "cell_type": "markdown",
   "id": "fc0869fd-ae0a-44f5-aacd-593437c9ecb8",
   "metadata": {},
   "source": [
    "<h3>ufunc</h3>"
   ]
  },
  {
   "cell_type": "code",
   "execution_count": 233,
   "id": "09120a7d-c49a-4f6b-8493-86be16809828",
   "metadata": {},
   "outputs": [
    {
     "name": "stdout",
     "output_type": "stream",
     "text": [
      "[6 8 10 12]\n"
     ]
    }
   ],
   "source": [
    "def myadd(x, y):\n",
    "  return x+y\n",
    "\n",
    "myadd = np.frompyfunc(myadd, 2, 1)\n",
    "\n",
    "print(myadd([1, 2, 3, 4], [5, 6, 7, 8]))"
   ]
  },
  {
   "cell_type": "code",
   "execution_count": 234,
   "id": "77c92d73-01a3-4d51-9b6d-956f971edcd1",
   "metadata": {},
   "outputs": [
    {
     "name": "stdout",
     "output_type": "stream",
     "text": [
      "<class 'numpy.ufunc'>\n"
     ]
    }
   ],
   "source": [
    "print(type(np.add))"
   ]
  },
  {
   "cell_type": "code",
   "execution_count": 235,
   "id": "b73599d6-dd4d-4918-9492-df0d998db14f",
   "metadata": {},
   "outputs": [
    {
     "name": "stdout",
     "output_type": "stream",
     "text": [
      "3\n"
     ]
    }
   ],
   "source": [
    "num1 = 6\n",
    "num2 = 9\n",
    "\n",
    "x = np.gcd(num1, num2)\n",
    "\n",
    "print(x)"
   ]
  },
  {
   "cell_type": "code",
   "execution_count": null,
   "id": "f1ac0f71-34a6-441f-87b6-7a647dba7b00",
   "metadata": {},
   "outputs": [],
   "source": []
  }
 ],
 "metadata": {
  "kernelspec": {
   "display_name": "Python 3 (ipykernel)",
   "language": "python",
   "name": "python3"
  },
  "language_info": {
   "codemirror_mode": {
    "name": "ipython",
    "version": 3
   },
   "file_extension": ".py",
   "mimetype": "text/x-python",
   "name": "python",
   "nbconvert_exporter": "python",
   "pygments_lexer": "ipython3",
   "version": "3.12.4"
  }
 },
 "nbformat": 4,
 "nbformat_minor": 5
}
