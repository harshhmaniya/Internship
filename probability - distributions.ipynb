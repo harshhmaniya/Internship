{
 "cells": [
  {
   "cell_type": "markdown",
   "id": "c6b5a6fd-96cb-4259-81d4-f4f8b0f6525f",
   "metadata": {},
   "source": [
    "<h4>Probablity for even odd numbers</h4>"
   ]
  },
  {
   "cell_type": "code",
   "execution_count": 21,
   "id": "04ddfcad-5de2-451d-ae9e-7d20e918bb86",
   "metadata": {},
   "outputs": [],
   "source": [
    "import numpy as np\n",
    "import pandas as pd\n",
    "import matplotlib.pyplot as plt\n",
    "import seaborn as sns\n",
    "from scipy.stats import poisson, binom"
   ]
  },
  {
   "cell_type": "code",
   "execution_count": 22,
   "id": "f04ad149-ae75-4c55-be2d-2bd985cf9c20",
   "metadata": {},
   "outputs": [],
   "source": [
    "lst = []\n",
    "for i in range(1000):\n",
    "    lst.append(np.random.randint(0, 1000))\n",
    "    count=0\n",
    "    for i in range(len(lst)):\n",
    "        if (i % 2 == 0):\n",
    "            count += 1\n",
    "probability = count / len(lst)"
   ]
  },
  {
   "cell_type": "code",
   "execution_count": 23,
   "id": "d732728b-5f5f-47d7-80de-25df263d3c59",
   "metadata": {},
   "outputs": [
    {
     "name": "stdout",
     "output_type": "stream",
     "text": [
      "Probability of even number is 50.0 %\n"
     ]
    }
   ],
   "source": [
    "print('Probability of even number is', probability * 100 , '%')"
   ]
  },
  {
   "cell_type": "code",
   "execution_count": 24,
   "id": "ca8ff073-f256-4bbd-9410-76d730477dcc",
   "metadata": {},
   "outputs": [
    {
     "name": "stdout",
     "output_type": "stream",
     "text": [
      "Probability of odd number is 50.0 %\n"
     ]
    }
   ],
   "source": [
    "print('Probability of odd number is', (1 - probability) * 100 , '%')"
   ]
  },
  {
   "cell_type": "markdown",
   "id": "fb4cc03b-ab70-42a1-b4d2-3110bcadd5a4",
   "metadata": {},
   "source": [
    "<h4>Independent event</h4>"
   ]
  },
  {
   "cell_type": "code",
   "execution_count": 25,
   "id": "08c075f7-eb95-4c6d-bef4-b0fae6dd9f96",
   "metadata": {},
   "outputs": [],
   "source": [
    "def roll_dice():\n",
    "    return np.random.randint(1,6)"
   ]
  },
  {
   "cell_type": "code",
   "execution_count": 26,
   "id": "efbd58c0-b3ba-4403-a8c9-45f3baadd206",
   "metadata": {},
   "outputs": [],
   "source": [
    "def flip_coin():\n",
    "    return np.random.choice(['Heads', 'Tails'])"
   ]
  },
  {
   "cell_type": "code",
   "execution_count": 27,
   "id": "6f10546e-86a2-4eca-925c-e6edab44e730",
   "metadata": {},
   "outputs": [
    {
     "name": "stdout",
     "output_type": "stream",
     "text": [
      "Dice Roll : 5\n",
      "Flip Coin : Tails\n"
     ]
    }
   ],
   "source": [
    "print('Dice Roll :', roll_dice())\n",
    "print('Flip Coin :', flip_coin())"
   ]
  },
  {
   "cell_type": "markdown",
   "id": "4cead769-04fe-4ba0-a4b2-33af55263962",
   "metadata": {},
   "source": [
    "<h4>Dependent Event</h4>"
   ]
  },
  {
   "cell_type": "code",
   "execution_count": 28,
   "id": "3cd13570-6914-4b63-ba37-11c684beab00",
   "metadata": {},
   "outputs": [],
   "source": [
    "deck = ['2', '3', '4', '5', '6', '7', '8', '9', '10', 'J', 'Q', 'K', 'A']"
   ]
  },
  {
   "cell_type": "code",
   "execution_count": 29,
   "id": "11618baf-5bd2-4346-8c1d-81c096a470a3",
   "metadata": {},
   "outputs": [],
   "source": [
    "def draw_a_card():\n",
    "    card = np.random.choice(deck)\n",
    "    deck.remove(card)\n",
    "    return card"
   ]
  },
  {
   "cell_type": "code",
   "execution_count": 30,
   "id": "ddb39956-f130-4dc2-9cb9-bc3cb115cc30",
   "metadata": {},
   "outputs": [
    {
     "name": "stdout",
     "output_type": "stream",
     "text": [
      "Draw a Card     : Q\n",
      "Remaining Cards : ['2', '3', '4', '5', '6', '7', '8', '9', '10', 'J', 'K', 'A']\n",
      "Cards Remaining : 12\n"
     ]
    }
   ],
   "source": [
    "print('Draw a Card     :', draw_a_card())\n",
    "print('Remaining Cards :', deck)\n",
    "print('Cards Remaining :', len(deck))"
   ]
  },
  {
   "cell_type": "code",
   "execution_count": 31,
   "id": "ad8a50e5-d71f-4355-b747-54580b93b38a",
   "metadata": {},
   "outputs": [
    {
     "name": "stdout",
     "output_type": "stream",
     "text": [
      "Draw a Card     : 10\n",
      "Remaining Cards : ['2', '3', '4', '5', '6', '7', '8', '9', 'J', 'K', 'A']\n",
      "Cards Remaining : 11\n"
     ]
    }
   ],
   "source": [
    "print('Draw a Card     :', draw_a_card())\n",
    "print('Remaining Cards :', deck)\n",
    "print('Cards Remaining :', len(deck))"
   ]
  },
  {
   "cell_type": "code",
   "execution_count": 32,
   "id": "888520e0-9a06-4d36-a420-c9102541837b",
   "metadata": {},
   "outputs": [
    {
     "name": "stdout",
     "output_type": "stream",
     "text": [
      "Draw a Card     : 8\n",
      "Remaining Cards : ['2', '3', '4', '5', '6', '7', '9', 'J', 'K', 'A']\n",
      "Cards Remaining : 10\n"
     ]
    }
   ],
   "source": [
    "print('Draw a Card     :', draw_a_card())\n",
    "print('Remaining Cards :', deck)\n",
    "print('Cards Remaining :', len(deck))"
   ]
  },
  {
   "cell_type": "markdown",
   "id": "04b76eb9-0cce-4e80-a739-77502b3817a6",
   "metadata": {},
   "source": [
    "<h3>Poisson Distribution</h3>"
   ]
  },
  {
   "cell_type": "code",
   "execution_count": 33,
   "id": "05263032-33a8-4e1f-961a-23d2cc8327b3",
   "metadata": {},
   "outputs": [
    {
     "data": {
      "text/plain": [
       "0.03986099680914883"
      ]
     },
     "execution_count": 33,
     "metadata": {},
     "output_type": "execute_result"
    }
   ],
   "source": [
    "poisson.pmf(k = 100, mu = 100)"
   ]
  },
  {
   "cell_type": "code",
   "execution_count": 34,
   "id": "c676ebdc-a5ed-4fe6-886b-f55802e71c0b",
   "metadata": {},
   "outputs": [
    {
     "data": {
      "text/plain": [
       "array([4, 3, 3, ..., 6, 4, 6], dtype=int64)"
      ]
     },
     "execution_count": 34,
     "metadata": {},
     "output_type": "execute_result"
    }
   ],
   "source": [
    "x = poisson.rvs(mu = 4, size = 10000)\n",
    "x"
   ]
  },
  {
   "cell_type": "code",
   "execution_count": 35,
   "id": "3ea0d09c-865c-4d59-874a-dc5bd81b3f9a",
   "metadata": {},
   "outputs": [
    {
     "data": {
      "image/png": "[encoded data removed]",
      "text/plain": [
       "<Figure size 640x480 with 1 Axes>"
      ]
     },
     "metadata": {},
     "output_type": "display_data"
    }
   ],
   "source": [
    "plt.hist(x, density = True, edgecolor = \"Black\")\n",
    "plt.show()"
   ]
  },
  {
   "cell_type": "markdown",
   "id": "df47883d-7c2a-4334-bed1-da413d329595",
   "metadata": {},
   "source": [
    "<h3>Binomial Distribution</h3>"
   ]
  },
  {
   "cell_type": "code",
   "execution_count": 36,
   "id": "6a676aba-d192-41ba-ad30-1e026e0f602a",
   "metadata": {},
   "outputs": [],
   "source": [
    "trial_numbers = 20\n",
    "success_prob = 0.25"
   ]
  },
  {
   "cell_type": "code",
   "execution_count": 37,
   "id": "de004456-78a1-4418-8610-660353547c83",
   "metadata": {},
   "outputs": [
    {
     "data": {
      "text/plain": [
       "0.16860929321410364"
      ]
     },
     "execution_count": 37,
     "metadata": {},
     "output_type": "execute_result"
    }
   ],
   "source": [
    "binom.pmf(6, trial_numbers, success_prob)"
   ]
  },
  {
   "cell_type": "code",
   "execution_count": 49,
   "id": "ef1ecff3-94ed-4474-9f05-510d1aefa201",
   "metadata": {},
   "outputs": [
    {
     "data": {
      "image/png": "[encoded data removed]",
      "text/plain": [
       "<Figure size 640x480 with 1 Axes>"
      ]
     },
     "metadata": {},
     "output_type": "display_data"
    }
   ],
   "source": [
    "k_values = np.arange(0, trial_numbers + 1)  \n",
    "pmf = binom.pmf(k_values, trial_numbers, success_prob)  \n",
    "plt.bar(k_values, pmf)  \n",
    "plt.xlabel('Number of Heads')  \n",
    "plt.ylabel('Probability')  \n",
    "plt.title('Binomial Distribution - Coin Flips')  \n",
    "plt.show()  "
   ]
  },
  {
   "cell_type": "markdown",
   "id": "efd0f0c6-e085-4662-9ef0-9ab099879832",
   "metadata": {},
   "source": [
    "<h3>Normal Distribution</h3>"
   ]
  },
  {
   "cell_type": "code",
   "execution_count": 53,
   "id": "75eadfa2-6b86-4808-9e04-4d8b03013669",
   "metadata": {},
   "outputs": [
    {
     "data": {
      "image/png": "[encoded data removed]",
      "text/plain": [
       "<Figure size 500x500 with 1 Axes>"
      ]
     },
     "metadata": {},
     "output_type": "display_data"
    }
   ],
   "source": [
    "sns.displot(np.random.normal(size=10000))\n",
    "plt.show()"
   ]
  },
  {
   "cell_type": "code",
   "execution_count": null,
   "id": "cbb280d3-baa6-4e38-805d-97600b2ddb2f",
   "metadata": {},
   "outputs": [],
   "source": []
  }
 ],
 "metadata": {
  "kernelspec": {
   "display_name": "Python 3 (ipykernel)",
   "language": "python",
   "name": "python3"
  },
  "language_info": {
   "codemirror_mode": {
    "name": "ipython",
    "version": 3
   },
   "file_extension": ".py",
   "mimetype": "text/x-python",
   "name": "python",
   "nbconvert_exporter": "python",
   "pygments_lexer": "ipython3",
   "version": "3.12.4"
  }
 },
 "nbformat": 4,
 "nbformat_minor": 5
}
