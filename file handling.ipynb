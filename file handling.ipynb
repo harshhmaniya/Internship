{
 "cells": [
  {
   "cell_type": "code",
   "execution_count": 2,
   "id": "546774bd-84d3-43fd-a2a6-63c806d7a91b",
   "metadata": {},
   "outputs": [],
   "source": [
    "f = open(\"harsh.txt\")"
   ]
  },
  {
   "cell_type": "code",
   "execution_count": 4,
   "id": "208594dc-d4db-4f19-aea7-5f2d1c039063",
   "metadata": {},
   "outputs": [],
   "source": [
    "f = open(\"harsh.txt\", \"rt\")"
   ]
  },
  {
   "cell_type": "code",
   "execution_count": 6,
   "id": "4023e824-73f9-4681-b894-6b8e2c5043d7",
   "metadata": {},
   "outputs": [
    {
     "name": "stdout",
     "output_type": "stream",
     "text": [
      "Hello My Name is Harsh Maniya.\n",
      "I am from Surat, Gujarat.\n",
      "Currently i am doing an internship at AppStoneLab.\n"
     ]
    }
   ],
   "source": [
    "f = open(\"harsh.txt\")\n",
    "print(f.read())"
   ]
  },
  {
   "cell_type": "code",
   "execution_count": 11,
   "id": "27b2b0b5-8c40-4892-80b3-7801e7682e6a",
   "metadata": {},
   "outputs": [
    {
     "name": "stdout",
     "output_type": "stream",
     "text": [
      "Hello My Name is Ha\n"
     ]
    }
   ],
   "source": [
    "f = open(\"harsh.txt\")\n",
    "print(f.read(19))"
   ]
  },
  {
   "cell_type": "code",
   "execution_count": 12,
   "id": "c6bdd649-f029-4147-9e68-e322d2282214",
   "metadata": {},
   "outputs": [
    {
     "name": "stdout",
     "output_type": "stream",
     "text": [
      "Hello My Name is Harsh Maniya.\n",
      "\n"
     ]
    }
   ],
   "source": [
    "h = open('harsh.txt')\n",
    "print(h.readline())"
   ]
  },
  {
   "cell_type": "code",
   "execution_count": 13,
   "id": "e67266ce-91a1-436f-9c99-2210755508f6",
   "metadata": {},
   "outputs": [
    {
     "name": "stdout",
     "output_type": "stream",
     "text": [
      "Hello My Name is Harsh Maniya.\n",
      "\n",
      "I am from Surat, Gujarat.\n",
      "\n"
     ]
    }
   ],
   "source": [
    "h = open('harsh.txt')\n",
    "print(h.readline())\n",
    "print(h.readline())"
   ]
  },
  {
   "cell_type": "code",
   "execution_count": 16,
   "id": "023705aa-f68c-4c49-b608-3d84e984b2e7",
   "metadata": {},
   "outputs": [
    {
     "name": "stdout",
     "output_type": "stream",
     "text": [
      "Hello My Name is Harsh Maniya.\n",
      "\n",
      "I am from Surat, Gujarat.\n",
      "\n",
      "Currently i am doing an internship at AppStoneLab.\n"
     ]
    }
   ],
   "source": [
    "h = open('harsh.txt')\n",
    "for i in h:\n",
    "    print(i)"
   ]
  },
  {
   "cell_type": "code",
   "execution_count": 17,
   "id": "1e09c4fb-a72f-44bf-801f-b8b680e67c2e",
   "metadata": {},
   "outputs": [
    {
     "name": "stdout",
     "output_type": "stream",
     "text": [
      "Hello My Name is Harsh Maniya.\n",
      "\n"
     ]
    }
   ],
   "source": [
    "m = open('harsh.txt','r')\n",
    "print(m.readline())\n",
    "m.close()"
   ]
  },
  {
   "cell_type": "code",
   "execution_count": 21,
   "id": "dfcb9468-6aae-456c-8507-e8041a36ac8a",
   "metadata": {},
   "outputs": [
    {
     "name": "stdout",
     "output_type": "stream",
     "text": [
      "Hello My Name is Harsh Maniya.\n",
      "I am from Surat, Gujarat.\n",
      "Currently i am doing an internship at AppStoneLab. It will last 3 months\n"
     ]
    }
   ],
   "source": [
    "a = open('harsh.txt','a')\n",
    "a.write(' It will last 3 months')\n",
    "a.close()\n",
    "\n",
    "a = open('harsh.txt','r')\n",
    "print(a.read())"
   ]
  },
  {
   "cell_type": "code",
   "execution_count": 22,
   "id": "1d662938-fc79-47e6-bba5-cecf4ce67c12",
   "metadata": {},
   "outputs": [
    {
     "name": "stdout",
     "output_type": "stream",
     "text": [
      "Overwritten.\n"
     ]
    }
   ],
   "source": [
    "b = open('harsh.txt','w')\n",
    "b.write('Overwritten.')\n",
    "b.close()\n",
    "\n",
    "b = open('harsh.txt','r')\n",
    "print(b.read())"
   ]
  },
  {
   "cell_type": "code",
   "execution_count": 23,
   "id": "9c9e2824-8923-48f1-b37b-7de0ccd9e5b2",
   "metadata": {},
   "outputs": [],
   "source": [
    "f = open('maniya','x')"
   ]
  },
  {
   "cell_type": "code",
   "execution_count": 31,
   "id": "d75c000c-0a97-4b8b-8b63-ea1e72ddb57f",
   "metadata": {},
   "outputs": [],
   "source": [
    "f = open('harshmaniya','w')\n",
    "f.close()"
   ]
  },
  {
   "cell_type": "code",
   "execution_count": 27,
   "id": "baeaba64-09bd-4043-a41d-80b02b055bc7",
   "metadata": {},
   "outputs": [
    {
     "name": "stdout",
     "output_type": "stream",
     "text": [
      "File does not exists.\n"
     ]
    }
   ],
   "source": [
    "import os \n",
    "if os.path.exists('maniya'):\n",
    "    os.remove('maniya')\n",
    "else:\n",
    "    print('File does not exists.')"
   ]
  },
  {
   "cell_type": "code",
   "execution_count": 32,
   "id": "115f573d-e982-4394-a0d9-73d6e9592935",
   "metadata": {},
   "outputs": [
    {
     "name": "stdout",
     "output_type": "stream",
     "text": [
      "File deleted.\n"
     ]
    }
   ],
   "source": [
    "import os \n",
    "if os.path.exists('harshmaniya'):\n",
    "    os.remove('harshmaniya')\n",
    "    print('File deleted.')\n",
    "else:\n",
    "    print('File does not exists.')"
   ]
  },
  {
   "cell_type": "code",
   "execution_count": 34,
   "id": "c37ff42e-4c9e-4df6-a075-5f831a47cc64",
   "metadata": {},
   "outputs": [],
   "source": [
    "import os\n",
    "os.rmdir('folder')"
   ]
  },
  {
   "cell_type": "code",
   "execution_count": 36,
   "id": "fa917dd7-a7a6-40a8-89a3-3a8bf0ba7f56",
   "metadata": {},
   "outputs": [
    {
     "name": "stdout",
     "output_type": "stream",
     "text": [
      "Folder deleted.\n"
     ]
    }
   ],
   "source": [
    "import os \n",
    "if os.path.exists('folder2'):\n",
    "    os.rmdir('folder2')\n",
    "    print('Folder deleted.')\n",
    "else:\n",
    "    print('Folder does not exists.')"
   ]
  },
  {
   "cell_type": "code",
   "execution_count": null,
   "id": "0c4d8015-9510-4bb2-beae-28c2d19a4e70",
   "metadata": {},
   "outputs": [],
   "source": []
  }
 ],
 "metadata": {
  "kernelspec": {
   "display_name": "Python 3 (ipykernel)",
   "language": "python",
   "name": "python3"
  },
  "language_info": {
   "codemirror_mode": {
    "name": "ipython",
    "version": 3
   },
   "file_extension": ".py",
   "mimetype": "text/x-python",
   "name": "python",
   "nbconvert_exporter": "python",
   "pygments_lexer": "ipython3",
   "version": "3.12.4"
  }
 },
 "nbformat": 4,
 "nbformat_minor": 5
}
