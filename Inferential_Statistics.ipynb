{
 "cells": [
  {
   "cell_type": "code",
   "execution_count": 1,
   "id": "03389c8d-6a7f-4598-b6a1-118192ede3c8",
   "metadata": {},
   "outputs": [],
   "source": [
    "import numpy as np\n",
    "import pandas as pd\n",
    "import matplotlib.pyplot as plt\n",
    "import seaborn as sns\n",
    "import random\n",
    "import math\n",
    "import scipy.stats as stats"
   ]
  },
  {
   "cell_type": "code",
   "execution_count": 2,
   "id": "ab69391c-7cbf-477f-b6d6-d43bdb94184f",
   "metadata": {},
   "outputs": [],
   "source": [
    "from scipy.special import erf\n",
    "from numpy.random import randn\n",
    "from statsmodels.stats.weightstats import ztest"
   ]
  },
  {
   "cell_type": "code",
   "execution_count": 3,
   "id": "e240bf39-af2a-4c97-b105-37fe09031ddc",
   "metadata": {},
   "outputs": [],
   "source": [
    "list = np.random.randint(1, 1000, (1000))"
   ]
  },
  {
   "cell_type": "markdown",
   "id": "6902ef25-8471-46e9-92f3-5bc128c4eb0b",
   "metadata": {},
   "source": [
    "<h3>Random Sampling</h3>"
   ]
  },
  {
   "cell_type": "code",
   "execution_count": 4,
   "id": "4f4afcb3-e165-454b-8a8a-2218aa6a2ccf",
   "metadata": {},
   "outputs": [],
   "source": [
    "lst_rand_samp = random.sample(sorted(list), 50)"
   ]
  },
  {
   "cell_type": "code",
   "execution_count": 5,
   "id": "fb7ae2d8-bb28-467e-9725-446c0c6a0e3b",
   "metadata": {},
   "outputs": [
    {
     "name": "stdout",
     "output_type": "stream",
     "text": [
      "[238, 401, 628, 113, 501, 686, 390, 702, 777, 163, 905, 426, 317, 459, 592, 521, 960, 672, 852, 177, 37, 177, 147, 637, 186, 434, 127, 234, 76, 246, 143, 392, 736, 109, 932, 495, 569, 653, 96, 115, 628, 456, 830, 828, 966, 903, 148, 662, 468, 756]\n",
      "50\n"
     ]
    }
   ],
   "source": [
    "print(lst_rand_samp)\n",
    "print(len(lst_rand_samp))"
   ]
  },
  {
   "cell_type": "code",
   "execution_count": 6,
   "id": "3e7c1629-c992-4827-9d46-f620a486905a",
   "metadata": {},
   "outputs": [],
   "source": [
    "lst_choice = np.random.choice(list, 50, replace = True)"
   ]
  },
  {
   "cell_type": "code",
   "execution_count": 7,
   "id": "ae584c82-5f56-47ce-9ffa-31a7b6b8c80f",
   "metadata": {},
   "outputs": [
    {
     "name": "stdout",
     "output_type": "stream",
     "text": [
      "[556 242 263 586 610 989 601 198 171 275  24 487 938   6 885 817 566 470\n",
      " 668 942   5 967 838 535  64 165 903 312 218 653 174 138 909 605 472 510\n",
      "  18 147 424  24  37 346 437 687 885 445 347 365 893  43]\n",
      "50\n"
     ]
    }
   ],
   "source": [
    "print(lst_choice)\n",
    "print(len(lst_choice))"
   ]
  },
  {
   "cell_type": "code",
   "execution_count": 8,
   "id": "f1d4b152-43a1-4566-8150-75b41c442eea",
   "metadata": {},
   "outputs": [],
   "source": [
    "h = np.random.randn(50)"
   ]
  },
  {
   "cell_type": "code",
   "execution_count": 9,
   "id": "52a37df4-c203-433b-938c-7304aec9e356",
   "metadata": {},
   "outputs": [
    {
     "data": {
      "text/plain": [
       "<Axes: ylabel='Count'>"
      ]
     },
     "execution_count": 9,
     "metadata": {},
     "output_type": "execute_result"
    },
    {
     "data": {
      "image/png": "[encoded data removed]",
      "text/plain": [
       "<Figure size 640x480 with 1 Axes>"
      ]
     },
     "metadata": {},
     "output_type": "display_data"
    }
   ],
   "source": [
    "sns.histplot(h)"
   ]
  },
  {
   "cell_type": "markdown",
   "id": "c13ba50a-5a4c-4817-8c83-4744d8fa3489",
   "metadata": {},
   "source": [
    "<h2>Hypothesis Testing</h2>"
   ]
  },
  {
   "cell_type": "markdown",
   "id": "c85a215a-735c-47ca-9e01-d870cb067651",
   "metadata": {},
   "source": [
    "<h4>Z - Test</h4>"
   ]
  },
  {
   "cell_type": "code",
   "execution_count": 10,
   "id": "f2a62d64-98aa-4d69-a9fb-65affa3238a2",
   "metadata": {},
   "outputs": [],
   "source": [
    "data = np.array(np.random.RandomState(8).randint(1, 1000, 500))"
   ]
  },
  {
   "cell_type": "code",
   "execution_count": 11,
   "id": "e08eeff8-330d-4a5a-8c6d-21c682206c62",
   "metadata": {},
   "outputs": [
    {
     "name": "stdout",
     "output_type": "stream",
     "text": [
      "Population Mean : 502.75\n",
      "Population Std  : 292.8194930328239\n"
     ]
    }
   ],
   "source": [
    "alpha = 0.05  # Significance level\n",
    "population_mean = np.mean(data)\n",
    "print('Population Mean :', population_mean)\n",
    "population_std = np.std(data)\n",
    "print('Population Std  :', population_std)"
   ]
  },
  {
   "cell_type": "code",
   "execution_count": 12,
   "id": "4fc29415-16b4-46ec-9dcd-c61753026e06",
   "metadata": {},
   "outputs": [
    {
     "name": "stdout",
     "output_type": "stream",
     "text": [
      "Sample Size N : 50\n",
      "Sample Mean   : 491.26\n"
     ]
    }
   ],
   "source": [
    "sample_data = np.random.RandomState(8).choice(data, 50)\n",
    "\n",
    "sample_size = len(sample_data)\n",
    "print('Sample Size N :', sample_size)\n",
    "\n",
    "sample_data_mean = np.mean(sample_data)\n",
    "print('Sample Mean   :', sample_data_mean)"
   ]
  },
  {
   "cell_type": "code",
   "execution_count": 13,
   "id": "d4632415-8811-4827-9e57-ea31638f6462",
   "metadata": {},
   "outputs": [
    {
     "name": "stdout",
     "output_type": "stream",
     "text": [
      "Standard error : 41.41092983742336\n"
     ]
    }
   ],
   "source": [
    "standard_error = population_std / np.sqrt(sample_size)   # Standard error (standard_error = standard_deviation / square_root(sample_size))\n",
    "print('Standard error :', standard_error)"
   ]
  },
  {
   "cell_type": "code",
   "execution_count": 14,
   "id": "eb84fd89-69a6-4fa5-89ab-a8782039d2fc",
   "metadata": {},
   "outputs": [
    {
     "name": "stdout",
     "output_type": "stream",
     "text": [
      "z Score : -0.27746298006610837\n",
      "P Value : 0.7814246279226427\n"
     ]
    }
   ],
   "source": [
    "z_score = (sample_data_mean - population_mean) / standard_error\n",
    "print('z Score :', z_score)\n",
    "\n",
    "p_value = 2 * (1 - 0.5 * (1 + erf(abs(z_score) / np.sqrt(2))))\n",
    "print('P Value :', p_value)"
   ]
  },
  {
   "cell_type": "code",
   "execution_count": 15,
   "id": "42e12433-5cfa-4422-87e4-a473487cf5a1",
   "metadata": {},
   "outputs": [
    {
     "name": "stdout",
     "output_type": "stream",
     "text": [
      "Fail to reject the null hypothesis (The sample mean is not significantly different from the population mean).\n"
     ]
    }
   ],
   "source": [
    "if p_value < alpha:\n",
    "    print(\"Reject the null hypothesis (The sample mean is significantly different from the population mean).\")\n",
    "else:\n",
    "    print(\"Fail to reject the null hypothesis (The sample mean is not significantly different from the population mean).\")"
   ]
  },
  {
   "cell_type": "code",
   "execution_count": 16,
   "id": "116d5215-f923-433f-9b09-0041ba95302b",
   "metadata": {},
   "outputs": [
    {
     "name": "stdout",
     "output_type": "stream",
     "text": [
      "Mean               : 110.11629480857871\n",
      "Standard Deviation : 2.202935292564213\n",
      "\n",
      "Reject Null Hypothesis\n"
     ]
    }
   ],
   "source": [
    "mean_iq = 110\n",
    "sd_iq = 15 / math.sqrt(50)\n",
    "alpha = 0.05\n",
    "null_mean = 100\n",
    "data = sd_iq * randn(50) + mean_iq\n",
    "\n",
    "print('Mean               :', np.mean(data))\n",
    "print('Standard Deviation :', np.std(data))\n",
    "\n",
    "ztest_Score, p_value= ztest(data,value = null_mean, alternative='larger')\n",
    "\n",
    "if(p_value < alpha):\n",
    "    print(\"\\nReject Null Hypothesis\")\n",
    "else:\n",
    "    print(\"\\nFail to Reject NUll Hypothesis\")"
   ]
  },
  {
   "cell_type": "markdown",
   "id": "21cfca6e-417e-475a-92cf-e4502f7d3a3a",
   "metadata": {},
   "source": [
    "<h4>T - Test</h4>"
   ]
  },
  {
   "cell_type": "code",
   "execution_count": 17,
   "id": "658b6589-ac75-403e-9f6c-7aea61f774e8",
   "metadata": {},
   "outputs": [],
   "source": [
    "pop_mean = 70\n",
    "sam_mean = 75\n",
    "sam_std = 27\n",
    "sam_size = 30\n",
    "alpha = 0.05"
   ]
  },
  {
   "cell_type": "code",
   "execution_count": 18,
   "id": "14ce776c-9b17-48f7-915b-36b721534f33",
   "metadata": {},
   "outputs": [],
   "source": [
    "df = sam_size - 1   # degree of freedom"
   ]
  },
  {
   "cell_type": "code",
   "execution_count": 19,
   "id": "48bedeb8-c4eb-482d-84dd-9e2fccd767a0",
   "metadata": {},
   "outputs": [
    {
     "name": "stdout",
     "output_type": "stream",
     "text": [
      "T-Statistic      : 1.0143010324169741\n",
      "Critical T Value : 1.6991270265334972\n",
      "P Value          : 0.15941369166237795\n"
     ]
    }
   ],
   "source": [
    "t_stat = (sam_mean - pop_mean) / (sam_std / np.sqrt(sam_size))\n",
    "print('T-Statistic      :', t_stat)\n",
    "\n",
    "critical_t = stats.t.ppf(1 - alpha, df)\n",
    "print('Critical T Value :', critical_t)\n",
    "\n",
    "p_value = 1 - stats.t.cdf(t_stat, df)\n",
    "print('P Value          :', p_value)"
   ]
  },
  {
   "cell_type": "code",
   "execution_count": 20,
   "id": "0e05e042-c2ea-447b-90d5-d5f7961ac700",
   "metadata": {},
   "outputs": [
    {
     "name": "stdout",
     "output_type": "stream",
     "text": [
      "There is no significant difference in weight before and after the camp. \n",
      "    The fitness camp did not have a significant effect.\n"
     ]
    }
   ],
   "source": [
    "if t_stat > critical_t :\n",
    "    print(\"\"\"There is a significant difference in weight before and after the camp. \n",
    "    The fitness camp had an effect.\"\"\")\n",
    "else :\n",
    "    print(\"\"\"There is no significant difference in weight before and after the camp. \n",
    "    The fitness camp did not have a significant effect.\"\"\")"
   ]
  },
  {
   "cell_type": "markdown",
   "id": "53b323c2-f5e6-47c7-9d2e-abc77b103587",
   "metadata": {},
   "source": [
    "<h4>Chi Square Test for Feature Selection</h4>"
   ]
  },
  {
   "cell_type": "code",
   "execution_count": 21,
   "id": "0cfbccee-2c51-4a45-ac69-d887bc9728f4",
   "metadata": {},
   "outputs": [],
   "source": [
    "from sklearn.datasets import fetch_california_housing, load_iris\n",
    "from sklearn.feature_selection import SelectKBest, chi2"
   ]
  },
  {
   "cell_type": "code",
   "execution_count": 22,
   "id": "9fab3f8d-6dc0-427c-9504-9b5e98e1c8e7",
   "metadata": {},
   "outputs": [],
   "source": [
    "data = load_iris()\n",
    "X = data.data\n",
    "y = data.target"
   ]
  },
  {
   "cell_type": "code",
   "execution_count": 26,
   "id": "96f28396-3a6f-4af4-b5a1-564e88ef5230",
   "metadata": {},
   "outputs": [],
   "source": [
    "model = SelectKBest(score_func = chi2, k = 2)  # k = number of feature we want after selection"
   ]
  },
  {
   "cell_type": "code",
   "execution_count": 27,
   "id": "d045b24e-0dd3-4923-af0e-dd2d39fb3d9e",
   "metadata": {},
   "outputs": [],
   "source": [
    "dtf = model.fit_transform(X, y)"
   ]
  },
  {
   "cell_type": "code",
   "execution_count": 28,
   "id": "1879458a-2a23-4470-974a-024386bbdf0d",
   "metadata": {},
   "outputs": [
    {
     "name": "stdout",
     "output_type": "stream",
     "text": [
      "Original Features             : 4\n",
      "Features after Chi2 Selection : 2\n"
     ]
    }
   ],
   "source": [
    "print('Original Features             :', X.shape[1])\n",
    "print('Features after Chi2 Selection :', dtf.shape[1])"
   ]
  },
  {
   "cell_type": "code",
   "execution_count": null,
   "id": "b36f7e60-0acc-4476-b2a8-1a0d727663d4",
   "metadata": {},
   "outputs": [],
   "source": []
  }
 ],
 "metadata": {
  "kernelspec": {
   "display_name": "Python 3 (ipykernel)",
   "language": "python",
   "name": "python3"
  },
  "language_info": {
   "codemirror_mode": {
    "name": "ipython",
    "version": 3
   },
   "file_extension": ".py",
   "mimetype": "text/x-python",
   "name": "python",
   "nbconvert_exporter": "python",
   "pygments_lexer": "ipython3",
   "version": "3.12.4"
  }
 },
 "nbformat": 4,
 "nbformat_minor": 5
}
