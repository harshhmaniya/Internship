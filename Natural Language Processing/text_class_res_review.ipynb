{
 "cells": [
  {
   "cell_type": "markdown",
   "id": "eab5d8d1-6907-49f9-a836-16bea1b142dd",
   "metadata": {},
   "source": [
    "Taken help from GenAI's"
   ]
  },
  {
   "cell_type": "markdown",
   "id": "7ac4e444-9343-46fa-9f3f-4307690cc467",
   "metadata": {},
   "source": [
    "### Importing Libraries"
   ]
  },
  {
   "cell_type": "code",
   "execution_count": 2,
   "id": "3188f8ea-c8d9-46a5-9d93-dfc02f259f24",
   "metadata": {},
   "outputs": [],
   "source": [
    "import pandas as pd\n",
    "import numpy as np\n",
    "from nltk.corpus import stopwords\n",
    "from nltk.tokenize import word_tokenize\n",
    "from gensim.models import Word2Vec\n",
    "from sklearn.cluster import KMeans\n",
    "import re\n",
    "from nltk.sentiment import SentimentIntensityAnalyzer\n",
    "import nltk"
   ]
  },
  {
   "cell_type": "code",
   "execution_count": 3,
   "id": "b6fb1840-74b3-4d8b-b0f0-af66c55e3438",
   "metadata": {},
   "outputs": [],
   "source": [
    "dataset = pd.read_csv('Restaurant_Reviews.tsv', sep = '\\t')"
   ]
  },
  {
   "cell_type": "code",
   "execution_count": 4,
   "id": "7f7682ba-792f-410a-8707-614a467cce96",
   "metadata": {},
   "outputs": [],
   "source": [
    "data = dataset.copy()"
   ]
  },
  {
   "cell_type": "markdown",
   "id": "fde3bd38-dd23-494c-9bc0-a92ce2ac37a5",
   "metadata": {},
   "source": [
    "### Preprocessing"
   ]
  },
  {
   "cell_type": "code",
   "execution_count": 5,
   "id": "964a594e-80e4-4d5e-8f25-2806f7670bd5",
   "metadata": {},
   "outputs": [],
   "source": [
    "stop_words = set(stopwords.words('english'))"
   ]
  },
  {
   "cell_type": "code",
   "execution_count": 6,
   "id": "0bb32c84-cd39-4125-b353-e6575cf22428",
   "metadata": {},
   "outputs": [],
   "source": [
    "def remove_stopwords(text) :\n",
    "    tokens = word_tokenize(text)\n",
    "    return [token for token in tokens if token.isalpha() and token not in stop_words]"
   ]
  },
  {
   "cell_type": "code",
   "execution_count": 7,
   "id": "f1e907ec-7789-4131-85d4-5fe83b369a92",
   "metadata": {},
   "outputs": [
    {
     "data": {
      "text/plain": [
       "['My', 'name', 'Harsh', 'Maniya']"
      ]
     },
     "execution_count": 7,
     "metadata": {},
     "output_type": "execute_result"
    }
   ],
   "source": [
    "remove_stopwords('My name is Harsh Maniya')"
   ]
  },
  {
   "cell_type": "code",
   "execution_count": 8,
   "id": "b19fd071-a96d-4f6d-a817-93285333f098",
   "metadata": {},
   "outputs": [],
   "source": [
    "data['Tokens'] = data['Review'].apply(remove_stopwords)"
   ]
  },
  {
   "cell_type": "code",
   "execution_count": 9,
   "id": "7afdf20f-2f11-4e71-92d1-97ac67faed40",
   "metadata": {},
   "outputs": [
    {
     "data": {
      "text/html": [
       "<div>\n",
       "<style scoped>\n",
       "    .dataframe tbody tr th:only-of-type {\n",
       "        vertical-align: middle;\n",
       "    }\n",
       "\n",
       "    .dataframe tbody tr th {\n",
       "        vertical-align: top;\n",
       "    }\n",
       "\n",
       "    .dataframe thead th {\n",
       "        text-align: right;\n",
       "    }\n",
       "</style>\n",
       "<table border=\"1\" class=\"dataframe\">\n",
       "  <thead>\n",
       "    <tr style=\"text-align: right;\">\n",
       "      <th></th>\n",
       "      <th>Review</th>\n",
       "      <th>Liked</th>\n",
       "      <th>Tokens</th>\n",
       "    </tr>\n",
       "  </thead>\n",
       "  <tbody>\n",
       "    <tr>\n",
       "      <th>0</th>\n",
       "      <td>Wow... Loved this place.</td>\n",
       "      <td>1</td>\n",
       "      <td>[Wow, Loved, place]</td>\n",
       "    </tr>\n",
       "    <tr>\n",
       "      <th>1</th>\n",
       "      <td>Crust is not good.</td>\n",
       "      <td>0</td>\n",
       "      <td>[Crust, good]</td>\n",
       "    </tr>\n",
       "    <tr>\n",
       "      <th>2</th>\n",
       "      <td>Not tasty and the texture was just nasty.</td>\n",
       "      <td>0</td>\n",
       "      <td>[Not, tasty, texture, nasty]</td>\n",
       "    </tr>\n",
       "    <tr>\n",
       "      <th>3</th>\n",
       "      <td>Stopped by during the late May bank holiday of...</td>\n",
       "      <td>1</td>\n",
       "      <td>[Stopped, late, May, bank, holiday, Rick, Stev...</td>\n",
       "    </tr>\n",
       "    <tr>\n",
       "      <th>4</th>\n",
       "      <td>The selection on the menu was great and so wer...</td>\n",
       "      <td>1</td>\n",
       "      <td>[The, selection, menu, great, prices]</td>\n",
       "    </tr>\n",
       "  </tbody>\n",
       "</table>\n",
       "</div>"
      ],
      "text/plain": [
       "                                              Review  Liked  \\\n",
       "0                           Wow... Loved this place.      1   \n",
       "1                                 Crust is not good.      0   \n",
       "2          Not tasty and the texture was just nasty.      0   \n",
       "3  Stopped by during the late May bank holiday of...      1   \n",
       "4  The selection on the menu was great and so wer...      1   \n",
       "\n",
       "                                              Tokens  \n",
       "0                                [Wow, Loved, place]  \n",
       "1                                      [Crust, good]  \n",
       "2                       [Not, tasty, texture, nasty]  \n",
       "3  [Stopped, late, May, bank, holiday, Rick, Stev...  \n",
       "4              [The, selection, menu, great, prices]  "
      ]
     },
     "execution_count": 9,
     "metadata": {},
     "output_type": "execute_result"
    }
   ],
   "source": [
    "data.head(5)"
   ]
  },
  {
   "cell_type": "markdown",
   "id": "eb4e2640-f776-40e8-ad5c-c6354a9fa34b",
   "metadata": {},
   "source": [
    "### Training Word2Vec Model"
   ]
  },
  {
   "cell_type": "code",
   "execution_count": 10,
   "id": "b8b066b4-8eb3-4846-b568-52467ffaf49d",
   "metadata": {},
   "outputs": [],
   "source": [
    "model = Word2Vec(sentences = data['Tokens'], vector_size = 200, min_count = 5)"
   ]
  },
  {
   "cell_type": "code",
   "execution_count": 11,
   "id": "c8ce0102-28ca-45dc-b770-7e3774304c09",
   "metadata": {},
   "outputs": [],
   "source": [
    "def sentence_vector(tokens, model):\n",
    "    valid_tokens = [word for word in tokens if word in model.wv]\n",
    "    if valid_tokens:\n",
    "        word_vectors = np.array([model.wv[word] for word in valid_tokens])\n",
    "        return word_vectors.mean(axis=0)\n",
    "    else:\n",
    "        return np.zeros(model.vector_size)"
   ]
  },
  {
   "cell_type": "code",
   "execution_count": 12,
   "id": "93d1d869-9ef5-44d5-b675-2068f2e26665",
   "metadata": {},
   "outputs": [],
   "source": [
    "data['Vector'] = data['Tokens'].apply(lambda x: sentence_vector(x, model))"
   ]
  },
  {
   "cell_type": "markdown",
   "id": "6c00cdd9-f234-46c9-8152-da7d613e78c6",
   "metadata": {},
   "source": [
    "### K-Means clustering for Text classification (Unlabeled data)"
   ]
  },
  {
   "cell_type": "code",
   "execution_count": 13,
   "id": "3dad210e-75ea-4b0f-8a89-018eb07182ee",
   "metadata": {},
   "outputs": [
    {
     "name": "stderr",
     "output_type": "stream",
     "text": [
      "C:\\Users\\kalat\\anaconda3\\Lib\\site-packages\\sklearn\\cluster\\_kmeans.py:1419: UserWarning: KMeans is known to have a memory leak on Windows with MKL, when there are less chunks than available threads. You can avoid it by setting the environment variable OMP_NUM_THREADS=4.\n",
      "  warnings.warn(\n"
     ]
    }
   ],
   "source": [
    "X = np.vstack(data['Vector'].values) \n",
    "kmeans = KMeans(n_clusters=3, random_state=27)\n",
    "data['Cluster'] = kmeans.fit_predict(X)"
   ]
  },
  {
   "cell_type": "code",
   "execution_count": 14,
   "id": "32ed142a-fcf1-4be5-94f4-8b10440b8028",
   "metadata": {},
   "outputs": [],
   "source": [
    "cluster_labels = {0: 'Service', 1: 'Ambiance', 2: 'Food'}\n",
    "data['Category'] = data['Cluster'].map(cluster_labels)"
   ]
  },
  {
   "cell_type": "code",
   "execution_count": 15,
   "id": "a9d109b1-87f5-4025-959c-20e92847bf2d",
   "metadata": {},
   "outputs": [
    {
     "data": {
      "text/html": [
       "<div>\n",
       "<style scoped>\n",
       "    .dataframe tbody tr th:only-of-type {\n",
       "        vertical-align: middle;\n",
       "    }\n",
       "\n",
       "    .dataframe tbody tr th {\n",
       "        vertical-align: top;\n",
       "    }\n",
       "\n",
       "    .dataframe thead th {\n",
       "        text-align: right;\n",
       "    }\n",
       "</style>\n",
       "<table border=\"1\" class=\"dataframe\">\n",
       "  <thead>\n",
       "    <tr style=\"text-align: right;\">\n",
       "      <th></th>\n",
       "      <th>Review</th>\n",
       "      <th>Liked</th>\n",
       "      <th>Tokens</th>\n",
       "      <th>Vector</th>\n",
       "      <th>Cluster</th>\n",
       "      <th>Category</th>\n",
       "    </tr>\n",
       "  </thead>\n",
       "  <tbody>\n",
       "    <tr>\n",
       "      <th>0</th>\n",
       "      <td>Wow... Loved this place.</td>\n",
       "      <td>1</td>\n",
       "      <td>[Wow, Loved, place]</td>\n",
       "      <td>[0.004115201, -0.0025320498, -0.00015886906, 0...</td>\n",
       "      <td>1</td>\n",
       "      <td>Ambiance</td>\n",
       "    </tr>\n",
       "    <tr>\n",
       "      <th>1</th>\n",
       "      <td>Crust is not good.</td>\n",
       "      <td>0</td>\n",
       "      <td>[Crust, good]</td>\n",
       "      <td>[-0.0046123504, 0.0041337516, 0.0023621756, 0....</td>\n",
       "      <td>2</td>\n",
       "      <td>Food</td>\n",
       "    </tr>\n",
       "    <tr>\n",
       "      <th>2</th>\n",
       "      <td>Not tasty and the texture was just nasty.</td>\n",
       "      <td>0</td>\n",
       "      <td>[Not, tasty, texture, nasty]</td>\n",
       "      <td>[-0.0016557387, -0.0009831111, 0.002366534, 0....</td>\n",
       "      <td>0</td>\n",
       "      <td>Service</td>\n",
       "    </tr>\n",
       "    <tr>\n",
       "      <th>3</th>\n",
       "      <td>Stopped by during the late May bank holiday of...</td>\n",
       "      <td>1</td>\n",
       "      <td>[Stopped, late, May, bank, holiday, Rick, Stev...</td>\n",
       "      <td>[-0.00035783992, 0.0016495173, 0.00014460708, ...</td>\n",
       "      <td>0</td>\n",
       "      <td>Service</td>\n",
       "    </tr>\n",
       "    <tr>\n",
       "      <th>4</th>\n",
       "      <td>The selection on the menu was great and so wer...</td>\n",
       "      <td>1</td>\n",
       "      <td>[The, selection, menu, great, prices]</td>\n",
       "      <td>[-0.0009349378, 0.002154593, 0.0006511372, 0.0...</td>\n",
       "      <td>2</td>\n",
       "      <td>Food</td>\n",
       "    </tr>\n",
       "  </tbody>\n",
       "</table>\n",
       "</div>"
      ],
      "text/plain": [
       "                                              Review  Liked  \\\n",
       "0                           Wow... Loved this place.      1   \n",
       "1                                 Crust is not good.      0   \n",
       "2          Not tasty and the texture was just nasty.      0   \n",
       "3  Stopped by during the late May bank holiday of...      1   \n",
       "4  The selection on the menu was great and so wer...      1   \n",
       "\n",
       "                                              Tokens  \\\n",
       "0                                [Wow, Loved, place]   \n",
       "1                                      [Crust, good]   \n",
       "2                       [Not, tasty, texture, nasty]   \n",
       "3  [Stopped, late, May, bank, holiday, Rick, Stev...   \n",
       "4              [The, selection, menu, great, prices]   \n",
       "\n",
       "                                              Vector  Cluster  Category  \n",
       "0  [0.004115201, -0.0025320498, -0.00015886906, 0...        1  Ambiance  \n",
       "1  [-0.0046123504, 0.0041337516, 0.0023621756, 0....        2      Food  \n",
       "2  [-0.0016557387, -0.0009831111, 0.002366534, 0....        0   Service  \n",
       "3  [-0.00035783992, 0.0016495173, 0.00014460708, ...        0   Service  \n",
       "4  [-0.0009349378, 0.002154593, 0.0006511372, 0.0...        2      Food  "
      ]
     },
     "execution_count": 15,
     "metadata": {},
     "output_type": "execute_result"
    }
   ],
   "source": [
    "data.head()"
   ]
  },
  {
   "cell_type": "markdown",
   "id": "b9b58cc2-22f9-4b79-957d-8831d3190595",
   "metadata": {},
   "source": [
    "### Context based Classification and Sentiment analysis"
   ]
  },
  {
   "cell_type": "code",
   "execution_count": 16,
   "id": "d37c9edd-099f-4379-b723-1bcd783bca3c",
   "metadata": {},
   "outputs": [],
   "source": [
    "data2 = dataset.copy()"
   ]
  },
  {
   "cell_type": "markdown",
   "id": "1f2589a0-468f-4af4-873a-6a4c2052fea8",
   "metadata": {},
   "source": [
    "#### Preprocessing"
   ]
  },
  {
   "cell_type": "code",
   "execution_count": 17,
   "id": "b5287cb9-0999-403f-b30a-8398811906e5",
   "metadata": {},
   "outputs": [],
   "source": [
    "def preprocess_text(text):\n",
    "    text = re.sub(r'\\W', ' ', text)\n",
    "    text = re.sub(r'\\s+', ' ', text) \n",
    "    text = text.lower()\n",
    "    return text\n",
    "\n",
    "data2[\"Cleaned_Review\"] = data2[\"Review\"].apply(preprocess_text)"
   ]
  },
  {
   "cell_type": "markdown",
   "id": "7c7983d9-35f7-47d8-a482-269ed104c3b2",
   "metadata": {},
   "source": [
    "#### Analysing sentiment"
   ]
  },
  {
   "cell_type": "code",
   "execution_count": 18,
   "id": "ffb31f9a-1b95-445f-87fe-6a686be4a2d5",
   "metadata": {},
   "outputs": [],
   "source": [
    "sia = SentimentIntensityAnalyzer()\n",
    "\n",
    "def analyze_sentiment(text):\n",
    "    score = sia.polarity_scores(text)\n",
    "    if score['compound'] > 0.05:\n",
    "        return \"Positive\"\n",
    "    elif score['compound'] < -0.05:\n",
    "        return \"Negative\"\n",
    "    else:\n",
    "        return \"Neutral\"\n",
    "\n",
    "data2[\"Sentiment\"] = data2[\"Cleaned_Review\"].apply(analyze_sentiment)"
   ]
  },
  {
   "cell_type": "markdown",
   "id": "b5fd59a0-a4e8-4387-9685-125d21a2a404",
   "metadata": {},
   "source": [
    "#### Defining context words and then classification"
   ]
  },
  {
   "cell_type": "code",
   "execution_count": 19,
   "id": "42b463df-805b-44a7-8ce8-1699532563b9",
   "metadata": {},
   "outputs": [
    {
     "data": {
      "text/html": [
       "<div>\n",
       "<style scoped>\n",
       "    .dataframe tbody tr th:only-of-type {\n",
       "        vertical-align: middle;\n",
       "    }\n",
       "\n",
       "    .dataframe tbody tr th {\n",
       "        vertical-align: top;\n",
       "    }\n",
       "\n",
       "    .dataframe thead th {\n",
       "        text-align: right;\n",
       "    }\n",
       "</style>\n",
       "<table border=\"1\" class=\"dataframe\">\n",
       "  <thead>\n",
       "    <tr style=\"text-align: right;\">\n",
       "      <th></th>\n",
       "      <th>Review</th>\n",
       "      <th>Liked</th>\n",
       "      <th>Cleaned_Review</th>\n",
       "      <th>Sentiment</th>\n",
       "      <th>Category</th>\n",
       "      <th>Category_Sentiment</th>\n",
       "    </tr>\n",
       "  </thead>\n",
       "  <tbody>\n",
       "    <tr>\n",
       "      <th>0</th>\n",
       "      <td>Wow... Loved this place.</td>\n",
       "      <td>1</td>\n",
       "      <td>wow loved this place</td>\n",
       "      <td>Positive</td>\n",
       "      <td>Ambiance</td>\n",
       "      <td>Ambiance - Positive</td>\n",
       "    </tr>\n",
       "    <tr>\n",
       "      <th>1</th>\n",
       "      <td>Crust is not good.</td>\n",
       "      <td>0</td>\n",
       "      <td>crust is not good</td>\n",
       "      <td>Negative</td>\n",
       "      <td>Food</td>\n",
       "      <td>Food - Negative</td>\n",
       "    </tr>\n",
       "    <tr>\n",
       "      <th>2</th>\n",
       "      <td>Not tasty and the texture was just nasty.</td>\n",
       "      <td>0</td>\n",
       "      <td>not tasty and the texture was just nasty</td>\n",
       "      <td>Negative</td>\n",
       "      <td>Food</td>\n",
       "      <td>Food - Negative</td>\n",
       "    </tr>\n",
       "    <tr>\n",
       "      <th>3</th>\n",
       "      <td>Stopped by during the late May bank holiday of...</td>\n",
       "      <td>1</td>\n",
       "      <td>stopped by during the late may bank holiday of...</td>\n",
       "      <td>Positive</td>\n",
       "      <td>Other</td>\n",
       "      <td>Other - Positive</td>\n",
       "    </tr>\n",
       "    <tr>\n",
       "      <th>4</th>\n",
       "      <td>The selection on the menu was great and so wer...</td>\n",
       "      <td>1</td>\n",
       "      <td>the selection on the menu was great and so wer...</td>\n",
       "      <td>Positive</td>\n",
       "      <td>Service</td>\n",
       "      <td>Service - Positive</td>\n",
       "    </tr>\n",
       "  </tbody>\n",
       "</table>\n",
       "</div>"
      ],
      "text/plain": [
       "                                              Review  Liked  \\\n",
       "0                           Wow... Loved this place.      1   \n",
       "1                                 Crust is not good.      0   \n",
       "2          Not tasty and the texture was just nasty.      0   \n",
       "3  Stopped by during the late May bank holiday of...      1   \n",
       "4  The selection on the menu was great and so wer...      1   \n",
       "\n",
       "                                      Cleaned_Review Sentiment  Category  \\\n",
       "0                              wow loved this place   Positive  Ambiance   \n",
       "1                                 crust is not good   Negative      Food   \n",
       "2          not tasty and the texture was just nasty   Negative      Food   \n",
       "3  stopped by during the late may bank holiday of...  Positive     Other   \n",
       "4  the selection on the menu was great and so wer...  Positive   Service   \n",
       "\n",
       "    Category_Sentiment  \n",
       "0  Ambiance - Positive  \n",
       "1      Food - Negative  \n",
       "2      Food - Negative  \n",
       "3     Other - Positive  \n",
       "4   Service - Positive  "
      ]
     },
     "execution_count": 19,
     "metadata": {},
     "output_type": "execute_result"
    }
   ],
   "source": [
    "categories = {\n",
    "    \"Food\": [\"taste\", \"delicious\", \"pizza\", \"food\", \"meal\", \"dish\", \"tasty\", \"crust\", \"breakfast\"],  # we have to manually\n",
    "    \"Service\": [\"service\", \"staff\", \"wait\", \"helpful\", \"slow\", \"menu\"],                              # add context words\n",
    "    \"Ambiance\": [\"ambiance\", \"clean\", \"noisy\", \"decor\", \"environment\", \"atmosphere\", \"place\"]        # for each category\n",
    "}\n",
    "\n",
    "def categorize_review(text):\n",
    "    for category, keywords in categories.items():\n",
    "        if any(keyword in text for keyword in keywords):\n",
    "            return category\n",
    "    return \"Other\"\n",
    "\n",
    "data2[\"Category\"] = data2[\"Cleaned_Review\"].apply(categorize_review)\n",
    "\n",
    "data2[\"Category_Sentiment\"] = data2[\"Category\"] + \" - \" + data2[\"Sentiment\"]\n",
    "\n",
    "data2.head()"
   ]
  },
  {
   "cell_type": "code",
   "execution_count": null,
   "id": "d3c00001-22e1-4d30-83ad-012903adcb8d",
   "metadata": {},
   "outputs": [],
   "source": []
  }
 ],
 "metadata": {
  "kernelspec": {
   "display_name": "Python 3 (ipykernel)",
   "language": "python",
   "name": "python3"
  },
  "language_info": {
   "codemirror_mode": {
    "name": "ipython",
    "version": 3
   },
   "file_extension": ".py",
   "mimetype": "text/x-python",
   "name": "python",
   "nbconvert_exporter": "python",
   "pygments_lexer": "ipython3",
   "version": "3.12.4"
  }
 },
 "nbformat": 4,
 "nbformat_minor": 5
}
