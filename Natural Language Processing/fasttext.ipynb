{
 "cells": [
  {
   "cell_type": "code",
   "execution_count": 1,
   "metadata": {
    "colab": {
     "base_uri": "https://localhost:8080/"
    },
    "id": "3MvNVDfL8tF5",
    "outputId": "f72d831a-ee4c-4cbb-e927-4a7c2e571e07"
   },
   "outputs": [
    {
     "name": "stdout",
     "output_type": "stream",
     "text": [
      "Requirement already satisfied: fasttext in /usr/local/lib/python3.11/dist-packages (0.9.3)\n",
      "Requirement already satisfied: pybind11>=2.2 in /usr/local/lib/python3.11/dist-packages (from fasttext) (2.13.6)\n",
      "Requirement already satisfied: setuptools>=0.7.0 in /usr/local/lib/python3.11/dist-packages (from fasttext) (75.1.0)\n",
      "Requirement already satisfied: numpy in /usr/local/lib/python3.11/dist-packages (from fasttext) (1.26.4)\n"
     ]
    }
   ],
   "source": [
    "!pip install fasttext"
   ]
  },
  {
   "cell_type": "code",
   "execution_count": 2,
   "metadata": {
    "id": "t1jogzduUBnK"
   },
   "outputs": [],
   "source": [
    "import fasttext\n",
    "import urllib.request\n",
    "\n",
    "link_en = 'https://dl.fbaipublicfiles.com/fasttext/vectors-crawl/cc.en.300.bin.gz'\n",
    "urllib.request.urlretrieve(link_en, \"en.gz\")\n",
    "\n",
    "!gunzip en.gz\n",
    "\n",
    "model_en = fasttext.load_model('en')"
   ]
  },
  {
   "cell_type": "code",
   "execution_count": 3,
   "metadata": {
    "colab": {
     "base_uri": "https://localhost:8080/"
    },
    "id": "bxL_peHvV_Ym",
    "outputId": "91ffff1d-dcd6-4d96-b097-b07a3a082d15"
   },
   "outputs": [
    {
     "data": {
      "text/plain": [
       "[(0.6074421405792236, 'BJP'),\n",
       " (0.5642463564872742, 'Kejriwal'),\n",
       " (0.5436301827430725, 'AAPs'),\n",
       " (0.538779079914093, 'Kejriwal-led'),\n",
       " (0.5221178531646729, 'CPI-M'),\n",
       " (0.5152238607406616, 'UPA'),\n",
       " (0.5150542855262756, 'JD-U'),\n",
       " (0.49802857637405396, 'MLA'),\n",
       " (0.49274030327796936, 'Pawar'),\n",
       " (0.4922226369380951, 'Chhotepur')]"
      ]
     },
     "execution_count": 3,
     "metadata": {},
     "output_type": "execute_result"
    }
   ],
   "source": [
    "model_en.get_nearest_neighbors('AAP')"
   ]
  },
  {
   "cell_type": "code",
   "execution_count": 4,
   "metadata": {
    "colab": {
     "base_uri": "https://localhost:8080/"
    },
    "id": "KxQZ1PmQhiqm",
    "outputId": "87437fdf-d96c-452b-b4b5-d4bbbc99736b"
   },
   "outputs": [
    {
     "data": {
      "text/plain": [
       "[(0.8226807117462158, 'pakistan'),\n",
       " (0.7812276482582092, 'delhi'),\n",
       " (0.7671213746070862, 'india.'),\n",
       " (0.7481372952461243, 'mumbai'),\n",
       " (0.7414579391479492, 'hyderabad'),\n",
       " (0.7363941669464111, 'kolkata'),\n",
       " (0.72954922914505, 'ahmedabad'),\n",
       " (0.7264755964279175, 'chennai'),\n",
       " (0.7260774374008179, 'bangalore'),\n",
       " (0.7184210419654846, 'bangladesh')]"
      ]
     },
     "execution_count": 4,
     "metadata": {},
     "output_type": "execute_result"
    }
   ],
   "source": [
    "model_en.get_nearest_neighbors('india')"
   ]
  },
  {
   "cell_type": "code",
   "execution_count": 5,
   "metadata": {
    "colab": {
     "base_uri": "https://localhost:8080/"
    },
    "id": "Hd4D7oy-l_Kg",
    "outputId": "074573ba-f99d-4b98-b941-57c210b30825"
   },
   "outputs": [
    {
     "data": {
      "text/plain": [
       "[(0.7748078107833862, 'computers'),\n",
       " (0.7278218865394592, 'comptuer'),\n",
       " (0.7249574661254883, 'compuer'),\n",
       " (0.6960818767547607, 'comupter'),\n",
       " (0.691444456577301, 'comuter'),\n",
       " (0.6854090094566345, 'non-computer'),\n",
       " (0.6702727675437927, 'computer.But'),\n",
       " (0.6590123176574707, 'laptop'),\n",
       " (0.658584475517273, 'puter'),\n",
       " (0.65807044506073, 'computor')]"
      ]
     },
     "execution_count": 5,
     "metadata": {},
     "output_type": "execute_result"
    }
   ],
   "source": [
    "model_en.get_nearest_neighbors('computer')"
   ]
  },
  {
   "cell_type": "code",
   "execution_count": 6,
   "metadata": {
    "colab": {
     "base_uri": "https://localhost:8080/"
    },
    "id": "5jIx_4shmC43",
    "outputId": "10fe08b0-abd3-4f01-dba6-8c854232de0b"
   },
   "outputs": [
    {
     "data": {
      "text/plain": [
       "[(0.7377923130989075, 'A.I.'),\n",
       " (0.6971256732940674, 'AIs'),\n",
       " (0.6795729994773865, 'AI.'),\n",
       " (0.6684409976005554, 'A.I'),\n",
       " (0.6131572723388672, 'non-AI'),\n",
       " (0.6108188629150391, 'AI-driven'),\n",
       " (0.5958052277565002, 'AI-'),\n",
       " (0.5889711976051331, '-AI'),\n",
       " (0.5875733494758606, 'ANs'),\n",
       " (0.5865451693534851, 'AI-based')]"
      ]
     },
     "execution_count": 6,
     "metadata": {},
     "output_type": "execute_result"
    }
   ],
   "source": [
    "model_en.get_nearest_neighbors('AI')"
   ]
  },
  {
   "cell_type": "code",
   "execution_count": 7,
   "metadata": {
    "colab": {
     "base_uri": "https://localhost:8080/"
    },
    "id": "bVVhjTDVmFr9",
    "outputId": "f6dbfbb2-47b7-4043-e9ea-d0e3ffcd33be"
   },
   "outputs": [
    {
     "data": {
      "text/plain": [
       "[(0.8128455281257629, 'Twiiter'),\n",
       " (0.7807040214538574, 'Twittter'),\n",
       " (0.7755709290504456, 'Facebook'),\n",
       " (0.762268602848053, 'Twitte'),\n",
       " (0.7564301490783691, 'twitter'),\n",
       " (0.7549088597297668, 'Twitters'),\n",
       " (0.7235748767852783, 'Instagram'),\n",
       " (0.7155535221099854, '-Twitter'),\n",
       " (0.7088379859924316, 'tweet'),\n",
       " (0.7059143781661987, 'Twitterand')]"
      ]
     },
     "execution_count": 7,
     "metadata": {},
     "output_type": "execute_result"
    }
   ],
   "source": [
    "model_en.get_nearest_neighbors('Twitter')"
   ]
  },
  {
   "cell_type": "code",
   "execution_count": 7,
   "metadata": {
    "id": "H-YXcYS2mSVI"
   },
   "outputs": [],
   "source": []
  }
 ],
 "metadata": {
  "accelerator": "GPU",
  "colab": {
   "gpuType": "T4",
   "provenance": []
  },
  "kernelspec": {
   "display_name": "Python 3 (ipykernel)",
   "language": "python",
   "name": "python3"
  },
  "language_info": {
   "codemirror_mode": {
    "name": "ipython",
    "version": 3
   },
   "file_extension": ".py",
   "mimetype": "text/x-python",
   "name": "python",
   "nbconvert_exporter": "python",
   "pygments_lexer": "ipython3",
   "version": "3.12.4"
  }
 },
 "nbformat": 4,
 "nbformat_minor": 4
}
