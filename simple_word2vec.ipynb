{
 "cells": [
  {
   "cell_type": "code",
   "execution_count": 1,
   "id": "4e0a2fe2-d7b0-4798-8b9e-a9d4a4511de9",
   "metadata": {},
   "outputs": [],
   "source": [
    "#!pip install gensim"
   ]
  },
  {
   "cell_type": "markdown",
   "id": "0b764e0d-63b0-40ad-975b-ade1dda8eba9",
   "metadata": {},
   "source": [
    "#### Simple Word2Vec Model"
   ]
  },
  {
   "cell_type": "code",
   "execution_count": 2,
   "id": "7818a6ea-1b96-43bb-b8f3-f325f68a5e47",
   "metadata": {},
   "outputs": [],
   "source": [
    "from gensim.models import Word2Vec\n",
    "from sklearn.decomposition import PCA\n",
    "import seaborn as sns\n",
    "import matplotlib.pyplot as plt"
   ]
  },
  {
   "cell_type": "code",
   "execution_count": 3,
   "id": "c49f0d86-e8e5-43ef-8b29-6fdfd6052dad",
   "metadata": {},
   "outputs": [],
   "source": [
    "sentences = [['human', 'interface', 'computer'],\n",
    "            ['survey', 'user', 'computer', 'system', 'response', 'time'],\n",
    "            ['eps', 'user', 'interface', 'system'],\n",
    "            ['system', 'human', 'system', 'eps'],\n",
    "            ['user', 'response', 'time'],\n",
    "            ['trees'],\n",
    "            ['graph', 'trees'],\n",
    "            ['graph', 'minors', 'trees'],\n",
    "            ['graph', 'minors', 'survey']]"
   ]
  },
  {
   "cell_type": "code",
   "execution_count": 4,
   "id": "805767ee-a488-4d75-927e-befc07d77839",
   "metadata": {},
   "outputs": [],
   "source": [
    "model = Word2Vec(sentences = sentences, min_count = 1, vector_size = 8)"
   ]
  },
  {
   "cell_type": "code",
   "execution_count": 5,
   "id": "b58b45e4-aa88-45b3-b9e6-a9ac78c04d37",
   "metadata": {},
   "outputs": [
    {
     "data": {
      "text/plain": [
       "array([ 0.03595725,  0.01239842, -0.10356519, -0.11811022,  0.09139708,\n",
       "        0.06337827,  0.08447117,  0.00953582], dtype=float32)"
      ]
     },
     "execution_count": 5,
     "metadata": {},
     "output_type": "execute_result"
    }
   ],
   "source": [
    "model.wv['trees']"
   ]
  },
  {
   "cell_type": "code",
   "execution_count": 6,
   "id": "d7d50a65-f675-4f2f-811e-2afafa5df656",
   "metadata": {},
   "outputs": [
    {
     "name": "stdout",
     "output_type": "stream",
     "text": [
      "Similarity Score of Human and Computer : -0.44009817\n"
     ]
    }
   ],
   "source": [
    "similarity_score_hm_cp = model.wv.similarity('human', 'computer')\n",
    "print('Similarity Score of Human and Computer :', similarity_score_hm_cp)"
   ]
  },
  {
   "cell_type": "code",
   "execution_count": 7,
   "id": "c8f7deac-8604-49a0-80b2-d29dc271dbd6",
   "metadata": {},
   "outputs": [
    {
     "name": "stdout",
     "output_type": "stream",
     "text": [
      "Top 5 Similar Words of Computer :\n"
     ]
    },
    {
     "data": {
      "text/plain": [
       "[('minors', 0.5697376132011414),\n",
       " ('response', 0.455085813999176),\n",
       " ('graph', 0.29385602474212646),\n",
       " ('user', -0.01504569686949253),\n",
       " ('interface', -0.07110846042633057)]"
      ]
     },
     "execution_count": 7,
     "metadata": {},
     "output_type": "execute_result"
    }
   ],
   "source": [
    "similar_words_comp = model.wv.most_similar('computer', topn = 5)\n",
    "print('Top 5 Similar Words of Computer :')\n",
    "similar_words_comp"
   ]
  },
  {
   "cell_type": "markdown",
   "id": "3074d849-bf6a-4ae1-a2ae-32206736358d",
   "metadata": {},
   "source": [
    "#### Reducing Dimentions using PCA"
   ]
  },
  {
   "cell_type": "code",
   "execution_count": 8,
   "id": "46e96533-3be1-41d8-b3c7-6f7cce2ef73a",
   "metadata": {},
   "outputs": [],
   "source": [
    "lst = []\n",
    "for word in model.wv.index_to_key:\n",
    "    lst.append(model.wv[word])"
   ]
  },
  {
   "cell_type": "code",
   "execution_count": 9,
   "id": "a0723238-74eb-41ff-b39b-4ea4b4ff7678",
   "metadata": {},
   "outputs": [],
   "source": [
    "pca = PCA(n_components = 2)"
   ]
  },
  {
   "cell_type": "code",
   "execution_count": 10,
   "id": "65ec3d7b-bfe0-4518-b051-73c23d8c1443",
   "metadata": {},
   "outputs": [],
   "source": [
    "reduced = pca.fit_transform(lst)"
   ]
  },
  {
   "cell_type": "code",
   "execution_count": 11,
   "id": "4ea57060-e626-48a4-8fed-53431fc6141e",
   "metadata": {},
   "outputs": [
    {
     "data": {
      "text/plain": [
       "array([[ 0.11434661,  0.15765952],\n",
       "       [-0.040465  ,  0.03502328],\n",
       "       [ 0.01832792, -0.2081702 ],\n",
       "       [-0.07608456,  0.10132395],\n",
       "       [-0.15705209, -0.07884491],\n",
       "       [ 0.10875142, -0.10900879],\n",
       "       [ 0.0737009 , -0.00775762],\n",
       "       [-0.13889178,  0.06594011],\n",
       "       [ 0.11764772,  0.02636249],\n",
       "       [-0.17316243, -0.02966088],\n",
       "       [ 0.02611917,  0.10031539],\n",
       "       [ 0.1267621 , -0.05318235]])"
      ]
     },
     "execution_count": 11,
     "metadata": {},
     "output_type": "execute_result"
    }
   ],
   "source": [
    "reduced"
   ]
  },
  {
   "cell_type": "markdown",
   "id": "adb86eed-f284-4477-a0d0-6e5d6749c141",
   "metadata": {},
   "source": [
    "#### Visualizing Vectors"
   ]
  },
  {
   "cell_type": "code",
   "execution_count": 12,
   "id": "f398915f-a1ec-4829-ba03-e7d2423b5620",
   "metadata": {},
   "outputs": [
    {
     "data": {
      "image/png": "[encoded data removed]",
      "text/plain": [
       "<Figure size 640x480 with 1 Axes>"
      ]
     },
     "metadata": {},
     "output_type": "display_data"
    }
   ],
   "source": [
    "sns.scatterplot(x = reduced[:, 0], y = reduced[:, 1], hue = model.wv.index_to_key)\n",
    "plt.legend(loc = 'upper left', fontsize = 5)\n",
    "plt.show()"
   ]
  },
  {
   "cell_type": "code",
   "execution_count": null,
   "id": "03533261-b48a-4bea-8696-0c816f6d118d",
   "metadata": {},
   "outputs": [],
   "source": []
  }
 ],
 "metadata": {
  "kernelspec": {
   "display_name": "Python 3 (ipykernel)",
   "language": "python",
   "name": "python3"
  },
  "language_info": {
   "codemirror_mode": {
    "name": "ipython",
    "version": 3
   },
   "file_extension": ".py",
   "mimetype": "text/x-python",
   "name": "python",
   "nbconvert_exporter": "python",
   "pygments_lexer": "ipython3",
   "version": "3.12.4"
  }
 },
 "nbformat": 4,
 "nbformat_minor": 5
}
