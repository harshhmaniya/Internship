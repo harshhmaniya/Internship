{
 "cells": [
  {
   "cell_type": "markdown",
   "id": "195c6159-e461-4a46-a425-84d182253093",
   "metadata": {},
   "source": [
    "## Dependencies"
   ]
  },
  {
   "cell_type": "code",
   "execution_count": 1,
   "id": "df18d49b-288e-4aad-9a29-fd65d4daa895",
   "metadata": {},
   "outputs": [
    {
     "name": "stdout",
     "output_type": "stream",
     "text": [
      "Requirement already satisfied: tensorflow in c:\\users\\kalat\\anaconda3\\lib\\site-packages (2.17.0)\n",
      "Requirement already satisfied: pandas in c:\\users\\kalat\\anaconda3\\lib\\site-packages (2.2.2)\n",
      "Requirement already satisfied: matplotlib in c:\\users\\kalat\\anaconda3\\lib\\site-packages (3.8.4)\n",
      "Requirement already satisfied: seaborn in c:\\users\\kalat\\anaconda3\\lib\\site-packages (0.13.2)\n",
      "Requirement already satisfied: tensorflow-intel==2.17.0 in c:\\users\\kalat\\anaconda3\\lib\\site-packages (from tensorflow) (2.17.0)\n",
      "Requirement already satisfied: absl-py>=1.0.0 in c:\\users\\kalat\\anaconda3\\lib\\site-packages (from tensorflow-intel==2.17.0->tensorflow) (2.1.0)\n",
      "Requirement already satisfied: astunparse>=1.6.0 in c:\\users\\kalat\\anaconda3\\lib\\site-packages (from tensorflow-intel==2.17.0->tensorflow) (1.6.3)\n",
      "Requirement already satisfied: flatbuffers>=24.3.25 in c:\\users\\kalat\\anaconda3\\lib\\site-packages (from tensorflow-intel==2.17.0->tensorflow) (24.3.25)\n",
      "Requirement already satisfied: gast!=0.5.0,!=0.5.1,!=0.5.2,>=0.2.1 in c:\\users\\kalat\\anaconda3\\lib\\site-packages (from tensorflow-intel==2.17.0->tensorflow) (0.6.0)\n",
      "Requirement already satisfied: google-pasta>=0.1.1 in c:\\users\\kalat\\anaconda3\\lib\\site-packages (from tensorflow-intel==2.17.0->tensorflow) (0.2.0)\n",
      "Requirement already satisfied: h5py>=3.10.0 in c:\\users\\kalat\\anaconda3\\lib\\site-packages (from tensorflow-intel==2.17.0->tensorflow) (3.11.0)\n",
      "Requirement already satisfied: libclang>=13.0.0 in c:\\users\\kalat\\anaconda3\\lib\\site-packages (from tensorflow-intel==2.17.0->tensorflow) (18.1.1)\n",
      "Requirement already satisfied: ml-dtypes<0.5.0,>=0.3.1 in c:\\users\\kalat\\anaconda3\\lib\\site-packages (from tensorflow-intel==2.17.0->tensorflow) (0.4.1)\n",
      "Requirement already satisfied: opt-einsum>=2.3.2 in c:\\users\\kalat\\anaconda3\\lib\\site-packages (from tensorflow-intel==2.17.0->tensorflow) (3.4.0)\n",
      "Requirement already satisfied: packaging in c:\\users\\kalat\\anaconda3\\lib\\site-packages (from tensorflow-intel==2.17.0->tensorflow) (23.2)\n",
      "Requirement already satisfied: protobuf!=4.21.0,!=4.21.1,!=4.21.2,!=4.21.3,!=4.21.4,!=4.21.5,<5.0.0dev,>=3.20.3 in c:\\users\\kalat\\anaconda3\\lib\\site-packages (from tensorflow-intel==2.17.0->tensorflow) (3.20.3)\n",
      "Requirement already satisfied: requests<3,>=2.21.0 in c:\\users\\kalat\\anaconda3\\lib\\site-packages (from tensorflow-intel==2.17.0->tensorflow) (2.32.2)\n",
      "Requirement already satisfied: setuptools in c:\\users\\kalat\\anaconda3\\lib\\site-packages (from tensorflow-intel==2.17.0->tensorflow) (69.5.1)\n",
      "Requirement already satisfied: six>=1.12.0 in c:\\users\\kalat\\anaconda3\\lib\\site-packages (from tensorflow-intel==2.17.0->tensorflow) (1.16.0)\n",
      "Requirement already satisfied: termcolor>=1.1.0 in c:\\users\\kalat\\anaconda3\\lib\\site-packages (from tensorflow-intel==2.17.0->tensorflow) (2.5.0)\n",
      "Requirement already satisfied: typing-extensions>=3.6.6 in c:\\users\\kalat\\anaconda3\\lib\\site-packages (from tensorflow-intel==2.17.0->tensorflow) (4.12.2)\n",
      "Requirement already satisfied: wrapt>=1.11.0 in c:\\users\\kalat\\anaconda3\\lib\\site-packages (from tensorflow-intel==2.17.0->tensorflow) (1.14.1)\n",
      "Requirement already satisfied: grpcio<2.0,>=1.24.3 in c:\\users\\kalat\\anaconda3\\lib\\site-packages (from tensorflow-intel==2.17.0->tensorflow) (1.67.0)\n",
      "Requirement already satisfied: tensorboard<2.18,>=2.17 in c:\\users\\kalat\\anaconda3\\lib\\site-packages (from tensorflow-intel==2.17.0->tensorflow) (2.17.1)\n",
      "Requirement already satisfied: keras>=3.2.0 in c:\\users\\kalat\\anaconda3\\lib\\site-packages (from tensorflow-intel==2.17.0->tensorflow) (3.6.0)\n",
      "Requirement already satisfied: numpy<2.0.0,>=1.26.0 in c:\\users\\kalat\\anaconda3\\lib\\site-packages (from tensorflow-intel==2.17.0->tensorflow) (1.26.4)\n",
      "Requirement already satisfied: python-dateutil>=2.8.2 in c:\\users\\kalat\\anaconda3\\lib\\site-packages (from pandas) (2.9.0.post0)\n",
      "Requirement already satisfied: pytz>=2020.1 in c:\\users\\kalat\\anaconda3\\lib\\site-packages (from pandas) (2024.1)\n",
      "Requirement already satisfied: tzdata>=2022.7 in c:\\users\\kalat\\anaconda3\\lib\\site-packages (from pandas) (2023.3)\n",
      "Requirement already satisfied: contourpy>=1.0.1 in c:\\users\\kalat\\anaconda3\\lib\\site-packages (from matplotlib) (1.2.0)\n",
      "Requirement already satisfied: cycler>=0.10 in c:\\users\\kalat\\anaconda3\\lib\\site-packages (from matplotlib) (0.11.0)\n",
      "Requirement already satisfied: fonttools>=4.22.0 in c:\\users\\kalat\\anaconda3\\lib\\site-packages (from matplotlib) (4.51.0)\n",
      "Requirement already satisfied: kiwisolver>=1.3.1 in c:\\users\\kalat\\anaconda3\\lib\\site-packages (from matplotlib) (1.4.4)\n",
      "Requirement already satisfied: pillow>=8 in c:\\users\\kalat\\anaconda3\\lib\\site-packages (from matplotlib) (10.3.0)\n",
      "Requirement already satisfied: pyparsing>=2.3.1 in c:\\users\\kalat\\anaconda3\\lib\\site-packages (from matplotlib) (3.0.9)\n",
      "Requirement already satisfied: wheel<1.0,>=0.23.0 in c:\\users\\kalat\\anaconda3\\lib\\site-packages (from astunparse>=1.6.0->tensorflow-intel==2.17.0->tensorflow) (0.43.0)\n",
      "Requirement already satisfied: rich in c:\\users\\kalat\\anaconda3\\lib\\site-packages (from keras>=3.2.0->tensorflow-intel==2.17.0->tensorflow) (13.3.5)\n",
      "Requirement already satisfied: namex in c:\\users\\kalat\\anaconda3\\lib\\site-packages (from keras>=3.2.0->tensorflow-intel==2.17.0->tensorflow) (0.0.8)\n",
      "Requirement already satisfied: optree in c:\\users\\kalat\\anaconda3\\lib\\site-packages (from keras>=3.2.0->tensorflow-intel==2.17.0->tensorflow) (0.13.0)\n",
      "Requirement already satisfied: charset-normalizer<4,>=2 in c:\\users\\kalat\\anaconda3\\lib\\site-packages (from requests<3,>=2.21.0->tensorflow-intel==2.17.0->tensorflow) (2.0.4)\n",
      "Requirement already satisfied: idna<4,>=2.5 in c:\\users\\kalat\\anaconda3\\lib\\site-packages (from requests<3,>=2.21.0->tensorflow-intel==2.17.0->tensorflow) (3.7)\n",
      "Requirement already satisfied: urllib3<3,>=1.21.1 in c:\\users\\kalat\\anaconda3\\lib\\site-packages (from requests<3,>=2.21.0->tensorflow-intel==2.17.0->tensorflow) (2.2.2)\n",
      "Requirement already satisfied: certifi>=2017.4.17 in c:\\users\\kalat\\anaconda3\\lib\\site-packages (from requests<3,>=2.21.0->tensorflow-intel==2.17.0->tensorflow) (2024.6.2)\n",
      "Requirement already satisfied: markdown>=2.6.8 in c:\\users\\kalat\\anaconda3\\lib\\site-packages (from tensorboard<2.18,>=2.17->tensorflow-intel==2.17.0->tensorflow) (3.4.1)\n",
      "Requirement already satisfied: tensorboard-data-server<0.8.0,>=0.7.0 in c:\\users\\kalat\\anaconda3\\lib\\site-packages (from tensorboard<2.18,>=2.17->tensorflow-intel==2.17.0->tensorflow) (0.7.2)\n",
      "Requirement already satisfied: werkzeug>=1.0.1 in c:\\users\\kalat\\anaconda3\\lib\\site-packages (from tensorboard<2.18,>=2.17->tensorflow-intel==2.17.0->tensorflow) (3.0.3)\n",
      "Requirement already satisfied: MarkupSafe>=2.1.1 in c:\\users\\kalat\\anaconda3\\lib\\site-packages (from werkzeug>=1.0.1->tensorboard<2.18,>=2.17->tensorflow-intel==2.17.0->tensorflow) (2.1.3)\n",
      "Requirement already satisfied: markdown-it-py<3.0.0,>=2.2.0 in c:\\users\\kalat\\anaconda3\\lib\\site-packages (from rich->keras>=3.2.0->tensorflow-intel==2.17.0->tensorflow) (2.2.0)\n",
      "Requirement already satisfied: pygments<3.0.0,>=2.13.0 in c:\\users\\kalat\\anaconda3\\lib\\site-packages (from rich->keras>=3.2.0->tensorflow-intel==2.17.0->tensorflow) (2.15.1)\n",
      "Requirement already satisfied: mdurl~=0.1 in c:\\users\\kalat\\anaconda3\\lib\\site-packages (from markdown-it-py<3.0.0,>=2.2.0->rich->keras>=3.2.0->tensorflow-intel==2.17.0->tensorflow) (0.1.0)\n"
     ]
    }
   ],
   "source": [
    "!pip install tensorflow pandas matplotlib seaborn"
   ]
  },
  {
   "cell_type": "code",
   "execution_count": 2,
   "id": "84bd0b95-4db4-47aa-8459-14221e7a77a3",
   "metadata": {},
   "outputs": [],
   "source": [
    "from tensorflow.keras.layers import Flatten, Dense, Conv2D, MaxPooling2D\n",
    "from tensorflow.keras.models import Sequential\n",
    "from tensorflow.keras.datasets import cifar10\n",
    "from tensorflow.keras.optimizers import SGD, RMSprop, Adam, Adadelta, Adagrad, Adamax\n",
    "from tensorflow.keras.utils import to_categorical\n",
    "\n",
    "import pandas as pd\n",
    "import matplotlib.pyplot as plt\n",
    "import seaborn as sns"
   ]
  },
  {
   "cell_type": "markdown",
   "id": "e4f772f1-cfdc-40ed-8244-890a724fd1ad",
   "metadata": {},
   "source": [
    "## Loading Dataset"
   ]
  },
  {
   "cell_type": "code",
   "execution_count": 3,
   "id": "0754687f-ce26-4afa-9650-b2e59f83eb09",
   "metadata": {},
   "outputs": [],
   "source": [
    "(X_train, y_train), (X_test, y_test) = cifar10.load_data()"
   ]
  },
  {
   "cell_type": "markdown",
   "id": "34550cd5-6398-4a6a-ac1d-37098e04578e",
   "metadata": {},
   "source": [
    "#### Normalize between 0-1"
   ]
  },
  {
   "cell_type": "code",
   "execution_count": 4,
   "id": "3b6677b4-6af3-4ea0-835e-373a3f64f81b",
   "metadata": {},
   "outputs": [],
   "source": [
    "X_train = X_train / 255.0\n",
    "X_test = X_test / 255.0"
   ]
  },
  {
   "cell_type": "code",
   "execution_count": 5,
   "id": "ea29fb2a-dac5-4d0c-94a6-5bd4bade6902",
   "metadata": {},
   "outputs": [
    {
     "data": {
      "text/plain": [
       "(50000, 32, 32, 3)"
      ]
     },
     "execution_count": 5,
     "metadata": {},
     "output_type": "execute_result"
    }
   ],
   "source": [
    "X_train.shape"
   ]
  },
  {
   "cell_type": "markdown",
   "id": "10591f43-1954-4904-99b0-c7f179690997",
   "metadata": {},
   "source": [
    "#### Converting Categorical target to Numeric"
   ]
  },
  {
   "cell_type": "code",
   "execution_count": 6,
   "id": "d06c02e8-d028-4fd1-92e2-02cca65cb7aa",
   "metadata": {},
   "outputs": [],
   "source": [
    "y_train = to_categorical(y_train, 10)\n",
    "y_test = to_categorical(y_test, 10)"
   ]
  },
  {
   "cell_type": "code",
   "execution_count": 7,
   "id": "b66d5683-396e-4e9c-bf4c-864fb7ce4286",
   "metadata": {},
   "outputs": [
    {
     "data": {
      "text/plain": [
       "array([0., 0., 0., 0., 0., 0., 0., 0., 0., 1.])"
      ]
     },
     "execution_count": 7,
     "metadata": {},
     "output_type": "execute_result"
    }
   ],
   "source": [
    "y_train[1]"
   ]
  },
  {
   "cell_type": "markdown",
   "id": "f353d560-5409-4a1f-b4a0-2d9d0f301a16",
   "metadata": {},
   "source": [
    "## Model Architecture"
   ]
  },
  {
   "cell_type": "code",
   "execution_count": 8,
   "id": "4b2b887c-ea3d-4756-a0e4-c3e92fd4a3ae",
   "metadata": {},
   "outputs": [],
   "source": [
    "def create_model():\n",
    "    model = Sequential([\n",
    "        Conv2D(32, (3, 3), activation = 'relu', input_shape = (32, 32, 3)),\n",
    "        MaxPooling2D((2, 2)),\n",
    "        Conv2D(64, (3, 3), activation = 'relu'),\n",
    "        MaxPooling2D((2, 2)),\n",
    "        Flatten(),\n",
    "        Dense(128, activation = 'relu'),\n",
    "        Dense(10, activation = 'softmax')\n",
    "    ])\n",
    "\n",
    "    return model"
   ]
  },
  {
   "cell_type": "markdown",
   "id": "6cdaa70b-7e5e-45b7-9251-75f62cbee645",
   "metadata": {},
   "source": [
    "## SGD Without Momentum"
   ]
  },
  {
   "cell_type": "code",
   "execution_count": 9,
   "id": "d15aea64-ec4b-46ed-afa5-ef21ce1a82db",
   "metadata": {},
   "outputs": [
    {
     "name": "stderr",
     "output_type": "stream",
     "text": [
      "C:\\Users\\kalat\\anaconda3\\Lib\\site-packages\\keras\\src\\layers\\convolutional\\base_conv.py:107: UserWarning: Do not pass an `input_shape`/`input_dim` argument to a layer. When using Sequential models, prefer using an `Input(shape)` object as the first layer in the model instead.\n",
      "  super().__init__(activity_regularizer=activity_regularizer, **kwargs)\n"
     ]
    }
   ],
   "source": [
    "model_sgd = create_model()"
   ]
  },
  {
   "cell_type": "markdown",
   "id": "fe98db2c-1ad5-401e-8e17-15c5f075f2bc",
   "metadata": {},
   "source": [
    "#### Optimizer"
   ]
  },
  {
   "cell_type": "code",
   "execution_count": 10,
   "id": "fd9135a2-8300-4607-8256-59123d6e547a",
   "metadata": {},
   "outputs": [],
   "source": [
    "sgd = SGD(learning_rate = 0.001, momentum = 0.0)"
   ]
  },
  {
   "cell_type": "markdown",
   "id": "1be8779a-c007-48aa-a467-319ae7743a3d",
   "metadata": {},
   "source": [
    "#### Model Configuration"
   ]
  },
  {
   "cell_type": "code",
   "execution_count": 11,
   "id": "1fb9a713-c283-44cf-9a08-e9029040423c",
   "metadata": {},
   "outputs": [],
   "source": [
    "model_sgd.compile(optimizer = sgd,\n",
    "                 loss = 'categorical_crossentropy',\n",
    "                 metrics = ['accuracy'])"
   ]
  },
  {
   "cell_type": "markdown",
   "id": "f4c4fd35-1223-4c5f-ad12-68527c27b73b",
   "metadata": {},
   "source": [
    "#### Model Training"
   ]
  },
  {
   "cell_type": "code",
   "execution_count": 12,
   "id": "d53f18d2-5320-4ba5-bfc0-dfe3db44c719",
   "metadata": {},
   "outputs": [
    {
     "name": "stdout",
     "output_type": "stream",
     "text": [
      "Epoch 1/10\n",
      "\u001b[1m782/782\u001b[0m \u001b[32m━━━━━━━━━━━━━━━━━━━━\u001b[0m\u001b[37m\u001b[0m \u001b[1m13s\u001b[0m 16ms/step - accuracy: 0.1065 - loss: 2.2993 - val_accuracy: 0.1404 - val_loss: 2.2796\n",
      "Epoch 2/10\n",
      "\u001b[1m782/782\u001b[0m \u001b[32m━━━━━━━━━━━━━━━━━━━━\u001b[0m\u001b[37m\u001b[0m \u001b[1m11s\u001b[0m 15ms/step - accuracy: 0.1584 - loss: 2.2713 - val_accuracy: 0.1744 - val_loss: 2.2430\n",
      "Epoch 3/10\n",
      "\u001b[1m782/782\u001b[0m \u001b[32m━━━━━━━━━━━━━━━━━━━━\u001b[0m\u001b[37m\u001b[0m \u001b[1m12s\u001b[0m 15ms/step - accuracy: 0.1870 - loss: 2.2307 - val_accuracy: 0.2274 - val_loss: 2.1793\n",
      "Epoch 4/10\n",
      "\u001b[1m782/782\u001b[0m \u001b[32m━━━━━━━━━━━━━━━━━━━━\u001b[0m\u001b[37m\u001b[0m \u001b[1m12s\u001b[0m 15ms/step - accuracy: 0.2258 - loss: 2.1596 - val_accuracy: 0.2541 - val_loss: 2.0955\n",
      "Epoch 5/10\n",
      "\u001b[1m782/782\u001b[0m \u001b[32m━━━━━━━━━━━━━━━━━━━━\u001b[0m\u001b[37m\u001b[0m \u001b[1m13s\u001b[0m 16ms/step - accuracy: 0.2542 - loss: 2.0775 - val_accuracy: 0.2745 - val_loss: 2.0276\n",
      "Epoch 6/10\n",
      "\u001b[1m782/782\u001b[0m \u001b[32m━━━━━━━━━━━━━━━━━━━━\u001b[0m\u001b[37m\u001b[0m \u001b[1m13s\u001b[0m 17ms/step - accuracy: 0.2675 - loss: 2.0208 - val_accuracy: 0.2750 - val_loss: 1.9888\n",
      "Epoch 7/10\n",
      "\u001b[1m782/782\u001b[0m \u001b[32m━━━━━━━━━━━━━━━━━━━━\u001b[0m\u001b[37m\u001b[0m \u001b[1m11s\u001b[0m 14ms/step - accuracy: 0.2831 - loss: 1.9816 - val_accuracy: 0.2861 - val_loss: 1.9649\n",
      "Epoch 8/10\n",
      "\u001b[1m782/782\u001b[0m \u001b[32m━━━━━━━━━━━━━━━━━━━━\u001b[0m\u001b[37m\u001b[0m \u001b[1m13s\u001b[0m 16ms/step - accuracy: 0.3005 - loss: 1.9596 - val_accuracy: 0.3086 - val_loss: 1.9476\n",
      "Epoch 9/10\n",
      "\u001b[1m782/782\u001b[0m \u001b[32m━━━━━━━━━━━━━━━━━━━━\u001b[0m\u001b[37m\u001b[0m \u001b[1m12s\u001b[0m 15ms/step - accuracy: 0.3077 - loss: 1.9379 - val_accuracy: 0.3250 - val_loss: 1.9203\n",
      "Epoch 10/10\n",
      "\u001b[1m782/782\u001b[0m \u001b[32m━━━━━━━━━━━━━━━━━━━━\u001b[0m\u001b[37m\u001b[0m \u001b[1m12s\u001b[0m 15ms/step - accuracy: 0.3196 - loss: 1.9148 - val_accuracy: 0.3325 - val_loss: 1.8964\n"
     ]
    }
   ],
   "source": [
    "history_sgd = model_sgd.fit(X_train, y_train, \n",
    "              batch_size = 64, \n",
    "              epochs = 10, \n",
    "              validation_data = (X_test, y_test))"
   ]
  },
  {
   "cell_type": "markdown",
   "id": "1a32c3e0-f148-49fe-985e-6d7af4d2e9ff",
   "metadata": {},
   "source": [
    "#### Evaluation"
   ]
  },
  {
   "cell_type": "code",
   "execution_count": 13,
   "id": "6c9bfa2b-e562-4223-9d4a-2bd92d9cfe4c",
   "metadata": {},
   "outputs": [
    {
     "name": "stdout",
     "output_type": "stream",
     "text": [
      "\u001b[1m313/313\u001b[0m \u001b[32m━━━━━━━━━━━━━━━━━━━━\u001b[0m\u001b[37m\u001b[0m \u001b[1m1s\u001b[0m 4ms/step - accuracy: 0.3314 - loss: 1.9026\n",
      "Test Accuracy : 0.33250001072883606\n",
      "Test Loss : 1.8964025974273682\n"
     ]
    }
   ],
   "source": [
    "test_loss_sgd, test_acc_sgd = model_sgd.evaluate(X_test, y_test)     \n",
    "print('Test Accuracy :', test_acc_sgd)          \n",
    "print('Test Loss :', test_loss_sgd)  "
   ]
  },
  {
   "cell_type": "markdown",
   "id": "c4a4030e-d400-4f17-a474-4f0ea6c698be",
   "metadata": {},
   "source": [
    "## SGD With Momentum"
   ]
  },
  {
   "cell_type": "code",
   "execution_count": 14,
   "id": "89089998-5b85-4110-ae26-f01d200dfd70",
   "metadata": {},
   "outputs": [],
   "source": [
    "model_sgd_mt = create_model()"
   ]
  },
  {
   "cell_type": "markdown",
   "id": "917f0ba1-8dda-4d4b-8c03-79092fc21495",
   "metadata": {},
   "source": [
    "#### Optimizer"
   ]
  },
  {
   "cell_type": "code",
   "execution_count": 15,
   "id": "e386a3b7-917d-45da-9729-f29db9e8800e",
   "metadata": {},
   "outputs": [],
   "source": [
    "sgd_mt = SGD(learning_rate = 0.001, momentum = 0.1)"
   ]
  },
  {
   "cell_type": "markdown",
   "id": "68d54ead-d61e-4c9f-9139-f539a969c02c",
   "metadata": {},
   "source": [
    "#### Model Configuration"
   ]
  },
  {
   "cell_type": "code",
   "execution_count": 16,
   "id": "01c360b3-1b89-4788-b9d1-090ecca3b957",
   "metadata": {},
   "outputs": [],
   "source": [
    "model_sgd_mt.compile(optimizer = sgd_mt,\n",
    "                 loss = 'categorical_crossentropy',\n",
    "                 metrics = ['accuracy'])"
   ]
  },
  {
   "cell_type": "markdown",
   "id": "07574587-6e87-48a0-bf01-f52f291612cc",
   "metadata": {},
   "source": [
    "#### Model Training"
   ]
  },
  {
   "cell_type": "code",
   "execution_count": 17,
   "id": "7d046c6c-16f8-4979-9314-55c6be140de0",
   "metadata": {},
   "outputs": [
    {
     "name": "stdout",
     "output_type": "stream",
     "text": [
      "Epoch 1/10\n",
      "\u001b[1m782/782\u001b[0m \u001b[32m━━━━━━━━━━━━━━━━━━━━\u001b[0m\u001b[37m\u001b[0m \u001b[1m14s\u001b[0m 16ms/step - accuracy: 0.1485 - loss: 2.2845 - val_accuracy: 0.1836 - val_loss: 2.2420\n",
      "Epoch 2/10\n",
      "\u001b[1m782/782\u001b[0m \u001b[32m━━━━━━━━━━━━━━━━━━━━\u001b[0m\u001b[37m\u001b[0m \u001b[1m12s\u001b[0m 15ms/step - accuracy: 0.1982 - loss: 2.2252 - val_accuracy: 0.2369 - val_loss: 2.1648\n",
      "Epoch 3/10\n",
      "\u001b[1m782/782\u001b[0m \u001b[32m━━━━━━━━━━━━━━━━━━━━\u001b[0m\u001b[37m\u001b[0m \u001b[1m13s\u001b[0m 17ms/step - accuracy: 0.2321 - loss: 2.1443 - val_accuracy: 0.2592 - val_loss: 2.0724\n",
      "Epoch 4/10\n",
      "\u001b[1m782/782\u001b[0m \u001b[32m━━━━━━━━━━━━━━━━━━━━\u001b[0m\u001b[37m\u001b[0m \u001b[1m12s\u001b[0m 15ms/step - accuracy: 0.2576 - loss: 2.0542 - val_accuracy: 0.2793 - val_loss: 2.0107\n",
      "Epoch 5/10\n",
      "\u001b[1m782/782\u001b[0m \u001b[32m━━━━━━━━━━━━━━━━━━━━\u001b[0m\u001b[37m\u001b[0m \u001b[1m12s\u001b[0m 15ms/step - accuracy: 0.2825 - loss: 2.0009 - val_accuracy: 0.3025 - val_loss: 1.9740\n",
      "Epoch 6/10\n",
      "\u001b[1m782/782\u001b[0m \u001b[32m━━━━━━━━━━━━━━━━━━━━\u001b[0m\u001b[37m\u001b[0m \u001b[1m12s\u001b[0m 16ms/step - accuracy: 0.2951 - loss: 1.9754 - val_accuracy: 0.3052 - val_loss: 1.9479\n",
      "Epoch 7/10\n",
      "\u001b[1m782/782\u001b[0m \u001b[32m━━━━━━━━━━━━━━━━━━━━\u001b[0m\u001b[37m\u001b[0m \u001b[1m13s\u001b[0m 16ms/step - accuracy: 0.3048 - loss: 1.9465 - val_accuracy: 0.3185 - val_loss: 1.9206\n",
      "Epoch 8/10\n",
      "\u001b[1m782/782\u001b[0m \u001b[32m━━━━━━━━━━━━━━━━━━━━\u001b[0m\u001b[37m\u001b[0m \u001b[1m13s\u001b[0m 16ms/step - accuracy: 0.3160 - loss: 1.9206 - val_accuracy: 0.3259 - val_loss: 1.9002\n",
      "Epoch 9/10\n",
      "\u001b[1m782/782\u001b[0m \u001b[32m━━━━━━━━━━━━━━━━━━━━\u001b[0m\u001b[37m\u001b[0m \u001b[1m12s\u001b[0m 15ms/step - accuracy: 0.3257 - loss: 1.8996 - val_accuracy: 0.3401 - val_loss: 1.8778\n",
      "Epoch 10/10\n",
      "\u001b[1m782/782\u001b[0m \u001b[32m━━━━━━━━━━━━━━━━━━━━\u001b[0m\u001b[37m\u001b[0m \u001b[1m13s\u001b[0m 17ms/step - accuracy: 0.3400 - loss: 1.8695 - val_accuracy: 0.3495 - val_loss: 1.8522\n"
     ]
    }
   ],
   "source": [
    "history_sgd_mt = model_sgd_mt.fit(X_train, y_train, \n",
    "              batch_size = 64, \n",
    "              epochs = 10, \n",
    "              validation_data = (X_test, y_test))"
   ]
  },
  {
   "cell_type": "markdown",
   "id": "2fd760a0-f166-46d4-bf3d-0e54be6f3413",
   "metadata": {},
   "source": [
    "#### Evaluation"
   ]
  },
  {
   "cell_type": "code",
   "execution_count": 18,
   "id": "a20bd1dc-9abe-4d38-acba-b3cbbabc0d4e",
   "metadata": {},
   "outputs": [
    {
     "name": "stdout",
     "output_type": "stream",
     "text": [
      "\u001b[1m313/313\u001b[0m \u001b[32m━━━━━━━━━━━━━━━━━━━━\u001b[0m\u001b[37m\u001b[0m \u001b[1m1s\u001b[0m 3ms/step - accuracy: 0.3488 - loss: 1.8581\n",
      "Test Accuracy : 0.34950000047683716\n",
      "Test Loss : 1.85219144821167\n"
     ]
    }
   ],
   "source": [
    "test_loss_sgd_mt, test_acc_sgd_mt = model_sgd_mt.evaluate(X_test, y_test)     \n",
    "print('Test Accuracy :', test_acc_sgd_mt)          \n",
    "print('Test Loss :', test_loss_sgd_mt)  "
   ]
  },
  {
   "cell_type": "markdown",
   "id": "0497f70d-03d3-46e8-ac5e-d816b6149ae6",
   "metadata": {},
   "source": [
    "## Adam"
   ]
  },
  {
   "cell_type": "code",
   "execution_count": 19,
   "id": "e71008e8-ae24-49ed-ba30-1d88f3eaf2db",
   "metadata": {},
   "outputs": [],
   "source": [
    "model_adam = create_model()"
   ]
  },
  {
   "cell_type": "markdown",
   "id": "483a7f9d-b4c5-4eab-a2fa-bb3b809f4582",
   "metadata": {},
   "source": [
    "#### Optimizer"
   ]
  },
  {
   "cell_type": "code",
   "execution_count": 20,
   "id": "3f177937-6f42-4e8d-8045-6293b6f7792e",
   "metadata": {},
   "outputs": [],
   "source": [
    "adam = Adam(learning_rate=0.001)"
   ]
  },
  {
   "cell_type": "markdown",
   "id": "a4f1367e-c471-4811-bc9c-6ee4d76f8b72",
   "metadata": {},
   "source": [
    "#### Model Configuration"
   ]
  },
  {
   "cell_type": "code",
   "execution_count": 21,
   "id": "8f13944b-acf9-4c46-a607-18d89e7128b4",
   "metadata": {},
   "outputs": [],
   "source": [
    "model_adam.compile(optimizer = adam,\n",
    "                 loss = 'categorical_crossentropy',\n",
    "                 metrics = ['accuracy'])"
   ]
  },
  {
   "cell_type": "markdown",
   "id": "4e816f27-db99-4c64-a024-9d58b6142cc7",
   "metadata": {},
   "source": [
    "#### Model Training"
   ]
  },
  {
   "cell_type": "code",
   "execution_count": 22,
   "id": "c60fa3a9-71fa-436e-b74d-b49ac3afd9e8",
   "metadata": {},
   "outputs": [
    {
     "name": "stdout",
     "output_type": "stream",
     "text": [
      "Epoch 1/10\n",
      "\u001b[1m782/782\u001b[0m \u001b[32m━━━━━━━━━━━━━━━━━━━━\u001b[0m\u001b[37m\u001b[0m \u001b[1m17s\u001b[0m 18ms/step - accuracy: 0.3872 - loss: 1.6873 - val_accuracy: 0.5681 - val_loss: 1.2091\n",
      "Epoch 2/10\n",
      "\u001b[1m782/782\u001b[0m \u001b[32m━━━━━━━━━━━━━━━━━━━━\u001b[0m\u001b[37m\u001b[0m \u001b[1m12s\u001b[0m 16ms/step - accuracy: 0.6029 - loss: 1.1328 - val_accuracy: 0.6229 - val_loss: 1.0625\n",
      "Epoch 3/10\n",
      "\u001b[1m782/782\u001b[0m \u001b[32m━━━━━━━━━━━━━━━━━━━━\u001b[0m\u001b[37m\u001b[0m \u001b[1m13s\u001b[0m 17ms/step - accuracy: 0.6563 - loss: 0.9907 - val_accuracy: 0.6728 - val_loss: 0.9534\n",
      "Epoch 4/10\n",
      "\u001b[1m782/782\u001b[0m \u001b[32m━━━━━━━━━━━━━━━━━━━━\u001b[0m\u001b[37m\u001b[0m \u001b[1m12s\u001b[0m 16ms/step - accuracy: 0.6972 - loss: 0.8754 - val_accuracy: 0.6793 - val_loss: 0.9424\n",
      "Epoch 5/10\n",
      "\u001b[1m782/782\u001b[0m \u001b[32m━━━━━━━━━━━━━━━━━━━━\u001b[0m\u001b[37m\u001b[0m \u001b[1m13s\u001b[0m 16ms/step - accuracy: 0.7273 - loss: 0.7868 - val_accuracy: 0.7046 - val_loss: 0.8784\n",
      "Epoch 6/10\n",
      "\u001b[1m782/782\u001b[0m \u001b[32m━━━━━━━━━━━━━━━━━━━━\u001b[0m\u001b[37m\u001b[0m \u001b[1m13s\u001b[0m 16ms/step - accuracy: 0.7536 - loss: 0.7115 - val_accuracy: 0.7041 - val_loss: 0.8637\n",
      "Epoch 7/10\n",
      "\u001b[1m782/782\u001b[0m \u001b[32m━━━━━━━━━━━━━━━━━━━━\u001b[0m\u001b[37m\u001b[0m \u001b[1m13s\u001b[0m 16ms/step - accuracy: 0.7741 - loss: 0.6484 - val_accuracy: 0.7108 - val_loss: 0.8560\n",
      "Epoch 8/10\n",
      "\u001b[1m782/782\u001b[0m \u001b[32m━━━━━━━━━━━━━━━━━━━━\u001b[0m\u001b[37m\u001b[0m \u001b[1m13s\u001b[0m 17ms/step - accuracy: 0.7973 - loss: 0.5817 - val_accuracy: 0.7117 - val_loss: 0.8749\n",
      "Epoch 9/10\n",
      "\u001b[1m782/782\u001b[0m \u001b[32m━━━━━━━━━━━━━━━━━━━━\u001b[0m\u001b[37m\u001b[0m \u001b[1m14s\u001b[0m 18ms/step - accuracy: 0.8149 - loss: 0.5304 - val_accuracy: 0.7128 - val_loss: 0.8974\n",
      "Epoch 10/10\n",
      "\u001b[1m782/782\u001b[0m \u001b[32m━━━━━━━━━━━━━━━━━━━━\u001b[0m\u001b[37m\u001b[0m \u001b[1m15s\u001b[0m 19ms/step - accuracy: 0.8349 - loss: 0.4742 - val_accuracy: 0.7090 - val_loss: 0.9411\n"
     ]
    }
   ],
   "source": [
    "history_adam = model_adam.fit(X_train, y_train, \n",
    "              batch_size = 64, \n",
    "              epochs = 10, \n",
    "              validation_data = (X_test, y_test))"
   ]
  },
  {
   "cell_type": "markdown",
   "id": "008cafe1-dfd9-49c4-8e8b-0ba732c3c547",
   "metadata": {},
   "source": [
    "#### Evaluation"
   ]
  },
  {
   "cell_type": "code",
   "execution_count": 23,
   "id": "cfdc8240-599c-4feb-9000-32297208ee2b",
   "metadata": {},
   "outputs": [
    {
     "name": "stdout",
     "output_type": "stream",
     "text": [
      "\u001b[1m313/313\u001b[0m \u001b[32m━━━━━━━━━━━━━━━━━━━━\u001b[0m\u001b[37m\u001b[0m \u001b[1m1s\u001b[0m 3ms/step - accuracy: 0.7115 - loss: 0.9375\n",
      "Test Accuracy : 0.7089999914169312\n",
      "Test Loss : 0.9411476850509644\n"
     ]
    }
   ],
   "source": [
    "test_loss_adam, test_acc_adam = model_adam.evaluate(X_test, y_test)     \n",
    "print('Test Accuracy :', test_acc_adam)          \n",
    "print('Test Loss :', test_loss_adam)  "
   ]
  },
  {
   "cell_type": "markdown",
   "id": "f2210b5e-00d8-4595-893e-c51bcccd7b1b",
   "metadata": {},
   "source": [
    "## RMSProp"
   ]
  },
  {
   "cell_type": "code",
   "execution_count": 24,
   "id": "93bc8329-898e-4e92-bac4-9f91407adfd6",
   "metadata": {},
   "outputs": [],
   "source": [
    "model_rms = create_model()"
   ]
  },
  {
   "cell_type": "markdown",
   "id": "28cdd2f2-fd52-4d88-a15f-94561ecd341e",
   "metadata": {},
   "source": [
    "#### Optimizer"
   ]
  },
  {
   "cell_type": "code",
   "execution_count": 25,
   "id": "4f08406a-653f-46ba-9f66-1d271ad675d9",
   "metadata": {},
   "outputs": [],
   "source": [
    "rmsprop = RMSprop()"
   ]
  },
  {
   "cell_type": "markdown",
   "id": "925dd6fc-c593-4904-8f92-efdb08e6b023",
   "metadata": {},
   "source": [
    "#### Model Configuration"
   ]
  },
  {
   "cell_type": "code",
   "execution_count": 26,
   "id": "20e240f3-216a-4764-a746-54793960e5b2",
   "metadata": {},
   "outputs": [],
   "source": [
    "model_rms.compile(optimizer = rmsprop,\n",
    "                 loss = 'categorical_crossentropy',\n",
    "                 metrics = ['accuracy'])"
   ]
  },
  {
   "cell_type": "markdown",
   "id": "858c8e8f-4088-402f-8594-a3e080d50d88",
   "metadata": {},
   "source": [
    "#### Model Training"
   ]
  },
  {
   "cell_type": "code",
   "execution_count": 27,
   "id": "053c8f25-83e4-4ab4-9cc5-84bfa5055270",
   "metadata": {},
   "outputs": [
    {
     "name": "stdout",
     "output_type": "stream",
     "text": [
      "Epoch 1/10\n",
      "\u001b[1m782/782\u001b[0m \u001b[32m━━━━━━━━━━━━━━━━━━━━\u001b[0m\u001b[37m\u001b[0m \u001b[1m16s\u001b[0m 19ms/step - accuracy: 0.3400 - loss: 1.8177 - val_accuracy: 0.3758 - val_loss: 1.9122\n",
      "Epoch 2/10\n",
      "\u001b[1m782/782\u001b[0m \u001b[32m━━━━━━━━━━━━━━━━━━━━\u001b[0m\u001b[37m\u001b[0m \u001b[1m15s\u001b[0m 19ms/step - accuracy: 0.5732 - loss: 1.2214 - val_accuracy: 0.5427 - val_loss: 1.3052\n",
      "Epoch 3/10\n",
      "\u001b[1m782/782\u001b[0m \u001b[32m━━━━━━━━━━━━━━━━━━━━\u001b[0m\u001b[37m\u001b[0m \u001b[1m13s\u001b[0m 17ms/step - accuracy: 0.6434 - loss: 1.0296 - val_accuracy: 0.5976 - val_loss: 1.1649\n",
      "Epoch 4/10\n",
      "\u001b[1m782/782\u001b[0m \u001b[32m━━━━━━━━━━━━━━━━━━━━\u001b[0m\u001b[37m\u001b[0m \u001b[1m13s\u001b[0m 16ms/step - accuracy: 0.6826 - loss: 0.9142 - val_accuracy: 0.6620 - val_loss: 0.9794\n",
      "Epoch 5/10\n",
      "\u001b[1m782/782\u001b[0m \u001b[32m━━━━━━━━━━━━━━━━━━━━\u001b[0m\u001b[37m\u001b[0m \u001b[1m13s\u001b[0m 16ms/step - accuracy: 0.7210 - loss: 0.8060 - val_accuracy: 0.6840 - val_loss: 0.9295\n",
      "Epoch 6/10\n",
      "\u001b[1m782/782\u001b[0m \u001b[32m━━━━━━━━━━━━━━━━━━━━\u001b[0m\u001b[37m\u001b[0m \u001b[1m13s\u001b[0m 16ms/step - accuracy: 0.7541 - loss: 0.7017 - val_accuracy: 0.6556 - val_loss: 1.0364\n",
      "Epoch 7/10\n",
      "\u001b[1m782/782\u001b[0m \u001b[32m━━━━━━━━━━━━━━━━━━━━\u001b[0m\u001b[37m\u001b[0m \u001b[1m13s\u001b[0m 17ms/step - accuracy: 0.7862 - loss: 0.6232 - val_accuracy: 0.6954 - val_loss: 0.9455\n",
      "Epoch 8/10\n",
      "\u001b[1m782/782\u001b[0m \u001b[32m━━━━━━━━━━━━━━━━━━━━\u001b[0m\u001b[37m\u001b[0m \u001b[1m12s\u001b[0m 15ms/step - accuracy: 0.8064 - loss: 0.5615 - val_accuracy: 0.7043 - val_loss: 0.9398\n",
      "Epoch 9/10\n",
      "\u001b[1m782/782\u001b[0m \u001b[32m━━━━━━━━━━━━━━━━━━━━\u001b[0m\u001b[37m\u001b[0m \u001b[1m14s\u001b[0m 17ms/step - accuracy: 0.8340 - loss: 0.4816 - val_accuracy: 0.6848 - val_loss: 1.0380\n",
      "Epoch 10/10\n",
      "\u001b[1m782/782\u001b[0m \u001b[32m━━━━━━━━━━━━━━━━━━━━\u001b[0m\u001b[37m\u001b[0m \u001b[1m13s\u001b[0m 16ms/step - accuracy: 0.8593 - loss: 0.4132 - val_accuracy: 0.7078 - val_loss: 1.0148\n"
     ]
    }
   ],
   "source": [
    "history_rms = model_rms.fit(X_train, y_train, \n",
    "              batch_size = 64, \n",
    "              epochs = 10, \n",
    "              validation_data = (X_test, y_test))"
   ]
  },
  {
   "cell_type": "markdown",
   "id": "70a8ca2c-5af1-4b77-aa33-835908de9c02",
   "metadata": {},
   "source": [
    "#### Evaluation"
   ]
  },
  {
   "cell_type": "code",
   "execution_count": 28,
   "id": "09caae5c-4948-49ce-ae24-34da7885c3c8",
   "metadata": {},
   "outputs": [
    {
     "name": "stdout",
     "output_type": "stream",
     "text": [
      "\u001b[1m313/313\u001b[0m \u001b[32m━━━━━━━━━━━━━━━━━━━━\u001b[0m\u001b[37m\u001b[0m \u001b[1m1s\u001b[0m 3ms/step - accuracy: 0.7102 - loss: 1.0036\n",
      "Test Accuracy : 0.7077999711036682\n",
      "Test Loss : 1.0148118734359741\n"
     ]
    }
   ],
   "source": [
    "test_loss_rms, test_acc_rms = model_rms.evaluate(X_test, y_test)     \n",
    "print('Test Accuracy :', test_acc_rms)          \n",
    "print('Test Loss :', test_loss_rms)  "
   ]
  },
  {
   "cell_type": "markdown",
   "id": "6060f7ca-2543-42c8-9548-b2688af56715",
   "metadata": {},
   "source": [
    "## AdaDelta"
   ]
  },
  {
   "cell_type": "code",
   "execution_count": 29,
   "id": "e8d78226-c02d-40c3-98a5-3caf01411566",
   "metadata": {},
   "outputs": [],
   "source": [
    "model_adadelta = create_model()"
   ]
  },
  {
   "cell_type": "markdown",
   "id": "4f4d99ac-e566-4c1d-bf11-410ed7b544f1",
   "metadata": {},
   "source": [
    "#### Model Configuration"
   ]
  },
  {
   "cell_type": "code",
   "execution_count": 30,
   "id": "38358178-4c78-4e84-8026-363fa2ce4742",
   "metadata": {},
   "outputs": [],
   "source": [
    "model_adadelta.compile(optimizer = Adadelta(learning_rate = 0.001),\n",
    "                 loss = 'categorical_crossentropy',\n",
    "                 metrics = ['accuracy'])"
   ]
  },
  {
   "cell_type": "markdown",
   "id": "2c39d772-a0e7-4def-affb-82501d3824ae",
   "metadata": {},
   "source": [
    "#### Model Training"
   ]
  },
  {
   "cell_type": "code",
   "execution_count": 31,
   "id": "66772078-afcf-4da5-9796-a16f1197a83a",
   "metadata": {},
   "outputs": [
    {
     "name": "stdout",
     "output_type": "stream",
     "text": [
      "Epoch 1/10\n",
      "\u001b[1m782/782\u001b[0m \u001b[32m━━━━━━━━━━━━━━━━━━━━\u001b[0m\u001b[37m\u001b[0m \u001b[1m17s\u001b[0m 19ms/step - accuracy: 0.1061 - loss: 2.3038 - val_accuracy: 0.1258 - val_loss: 2.2934\n",
      "Epoch 2/10\n",
      "\u001b[1m782/782\u001b[0m \u001b[32m━━━━━━━━━━━━━━━━━━━━\u001b[0m\u001b[37m\u001b[0m \u001b[1m16s\u001b[0m 20ms/step - accuracy: 0.1221 - loss: 2.2920 - val_accuracy: 0.1452 - val_loss: 2.2835\n",
      "Epoch 3/10\n",
      "\u001b[1m782/782\u001b[0m \u001b[32m━━━━━━━━━━━━━━━━━━━━\u001b[0m\u001b[37m\u001b[0m \u001b[1m14s\u001b[0m 18ms/step - accuracy: 0.1484 - loss: 2.2821 - val_accuracy: 0.1664 - val_loss: 2.2745\n",
      "Epoch 4/10\n",
      "\u001b[1m782/782\u001b[0m \u001b[32m━━━━━━━━━━━━━━━━━━━━\u001b[0m\u001b[37m\u001b[0m \u001b[1m14s\u001b[0m 18ms/step - accuracy: 0.1703 - loss: 2.2723 - val_accuracy: 0.1862 - val_loss: 2.2648\n",
      "Epoch 5/10\n",
      "\u001b[1m782/782\u001b[0m \u001b[32m━━━━━━━━━━━━━━━━━━━━\u001b[0m\u001b[37m\u001b[0m \u001b[1m13s\u001b[0m 17ms/step - accuracy: 0.1839 - loss: 2.2632 - val_accuracy: 0.2018 - val_loss: 2.2547\n",
      "Epoch 6/10\n",
      "\u001b[1m782/782\u001b[0m \u001b[32m━━━━━━━━━━━━━━━━━━━━\u001b[0m\u001b[37m\u001b[0m \u001b[1m13s\u001b[0m 17ms/step - accuracy: 0.1979 - loss: 2.2539 - val_accuracy: 0.2166 - val_loss: 2.2442\n",
      "Epoch 7/10\n",
      "\u001b[1m782/782\u001b[0m \u001b[32m━━━━━━━━━━━━━━━━━━━━\u001b[0m\u001b[37m\u001b[0m \u001b[1m13s\u001b[0m 17ms/step - accuracy: 0.2176 - loss: 2.2424 - val_accuracy: 0.2270 - val_loss: 2.2328\n",
      "Epoch 8/10\n",
      "\u001b[1m782/782\u001b[0m \u001b[32m━━━━━━━━━━━━━━━━━━━━\u001b[0m\u001b[37m\u001b[0m \u001b[1m13s\u001b[0m 17ms/step - accuracy: 0.2284 - loss: 2.2309 - val_accuracy: 0.2404 - val_loss: 2.2207\n",
      "Epoch 9/10\n",
      "\u001b[1m782/782\u001b[0m \u001b[32m━━━━━━━━━━━━━━━━━━━━\u001b[0m\u001b[37m\u001b[0m \u001b[1m14s\u001b[0m 17ms/step - accuracy: 0.2382 - loss: 2.2195 - val_accuracy: 0.2475 - val_loss: 2.2083\n",
      "Epoch 10/10\n",
      "\u001b[1m782/782\u001b[0m \u001b[32m━━━━━━━━━━━━━━━━━━━━\u001b[0m\u001b[37m\u001b[0m \u001b[1m13s\u001b[0m 17ms/step - accuracy: 0.2481 - loss: 2.2064 - val_accuracy: 0.2547 - val_loss: 2.1953\n"
     ]
    }
   ],
   "source": [
    "history_adadelta = model_adadelta.fit(X_train, y_train, \n",
    "              batch_size = 64, \n",
    "              epochs = 10, \n",
    "              validation_data = (X_test, y_test))"
   ]
  },
  {
   "cell_type": "markdown",
   "id": "4b50e04b-4608-44f5-95f4-1cb0631f6337",
   "metadata": {},
   "source": [
    "#### Evaluation"
   ]
  },
  {
   "cell_type": "code",
   "execution_count": 32,
   "id": "712a5950-6034-4f12-9cd7-4acf7750b99f",
   "metadata": {},
   "outputs": [
    {
     "name": "stdout",
     "output_type": "stream",
     "text": [
      "\u001b[1m313/313\u001b[0m \u001b[32m━━━━━━━━━━━━━━━━━━━━\u001b[0m\u001b[37m\u001b[0m \u001b[1m1s\u001b[0m 4ms/step - accuracy: 0.2600 - loss: 2.1950\n",
      "Test Accuracy : 0.2547000050544739\n",
      "Test Loss : 2.195260763168335\n"
     ]
    }
   ],
   "source": [
    "test_loss_adadelta, test_acc_adadelta = model_adadelta.evaluate(X_test, y_test)     \n",
    "print('Test Accuracy :', test_acc_adadelta)          \n",
    "print('Test Loss :', test_loss_adadelta)"
   ]
  },
  {
   "cell_type": "markdown",
   "id": "425f507b-78f5-49c1-915e-78b0d5d44c0a",
   "metadata": {},
   "source": [
    "## AdaGrad"
   ]
  },
  {
   "cell_type": "code",
   "execution_count": 33,
   "id": "fb3bceb8-a6ef-4cf0-a727-fe39f8f8a486",
   "metadata": {},
   "outputs": [],
   "source": [
    "model_adagrad = create_model()"
   ]
  },
  {
   "cell_type": "markdown",
   "id": "485dec96-937d-4fc3-8567-c513a2709c89",
   "metadata": {},
   "source": [
    "#### Model Configuration"
   ]
  },
  {
   "cell_type": "code",
   "execution_count": 34,
   "id": "3558f090-fc78-4fba-aafe-705a974d8d1a",
   "metadata": {},
   "outputs": [],
   "source": [
    "model_adagrad.compile(optimizer = Adagrad(learning_rate = 0.001),\n",
    "                 loss = 'categorical_crossentropy',\n",
    "                 metrics = ['accuracy'])"
   ]
  },
  {
   "cell_type": "markdown",
   "id": "7256ff1c-a3a5-4009-8974-912715aebafa",
   "metadata": {},
   "source": [
    "#### Model Training"
   ]
  },
  {
   "cell_type": "code",
   "execution_count": 35,
   "id": "eb849978-e3d9-4dfe-8815-1bc85bffd878",
   "metadata": {},
   "outputs": [
    {
     "name": "stdout",
     "output_type": "stream",
     "text": [
      "Epoch 1/10\n",
      "\u001b[1m782/782\u001b[0m \u001b[32m━━━━━━━━━━━━━━━━━━━━\u001b[0m\u001b[37m\u001b[0m \u001b[1m14s\u001b[0m 16ms/step - accuracy: 0.1273 - loss: 2.2863 - val_accuracy: 0.2145 - val_loss: 2.2139\n",
      "Epoch 2/10\n",
      "\u001b[1m782/782\u001b[0m \u001b[32m━━━━━━━━━━━━━━━━━━━━\u001b[0m\u001b[37m\u001b[0m \u001b[1m12s\u001b[0m 15ms/step - accuracy: 0.2276 - loss: 2.1734 - val_accuracy: 0.2484 - val_loss: 2.0636\n",
      "Epoch 3/10\n",
      "\u001b[1m782/782\u001b[0m \u001b[32m━━━━━━━━━━━━━━━━━━━━\u001b[0m\u001b[37m\u001b[0m \u001b[1m12s\u001b[0m 15ms/step - accuracy: 0.2823 - loss: 2.0288 - val_accuracy: 0.3131 - val_loss: 1.9665\n",
      "Epoch 4/10\n",
      "\u001b[1m782/782\u001b[0m \u001b[32m━━━━━━━━━━━━━━━━━━━━\u001b[0m\u001b[37m\u001b[0m \u001b[1m12s\u001b[0m 15ms/step - accuracy: 0.3110 - loss: 1.9583 - val_accuracy: 0.3186 - val_loss: 1.9206\n",
      "Epoch 5/10\n",
      "\u001b[1m782/782\u001b[0m \u001b[32m━━━━━━━━━━━━━━━━━━━━\u001b[0m\u001b[37m\u001b[0m \u001b[1m12s\u001b[0m 15ms/step - accuracy: 0.3305 - loss: 1.9109 - val_accuracy: 0.3401 - val_loss: 1.8800\n",
      "Epoch 6/10\n",
      "\u001b[1m782/782\u001b[0m \u001b[32m━━━━━━━━━━━━━━━━━━━━\u001b[0m\u001b[37m\u001b[0m \u001b[1m12s\u001b[0m 15ms/step - accuracy: 0.3491 - loss: 1.8632 - val_accuracy: 0.3559 - val_loss: 1.8404\n",
      "Epoch 7/10\n",
      "\u001b[1m782/782\u001b[0m \u001b[32m━━━━━━━━━━━━━━━━━━━━\u001b[0m\u001b[37m\u001b[0m \u001b[1m12s\u001b[0m 16ms/step - accuracy: 0.3602 - loss: 1.8283 - val_accuracy: 0.3676 - val_loss: 1.8079\n",
      "Epoch 8/10\n",
      "\u001b[1m782/782\u001b[0m \u001b[32m━━━━━━━━━━━━━━━━━━━━\u001b[0m\u001b[37m\u001b[0m \u001b[1m12s\u001b[0m 15ms/step - accuracy: 0.3713 - loss: 1.7920 - val_accuracy: 0.3831 - val_loss: 1.7593\n",
      "Epoch 9/10\n",
      "\u001b[1m782/782\u001b[0m \u001b[32m━━━━━━━━━━━━━━━━━━━━\u001b[0m\u001b[37m\u001b[0m \u001b[1m12s\u001b[0m 16ms/step - accuracy: 0.3901 - loss: 1.7522 - val_accuracy: 0.4024 - val_loss: 1.7196\n",
      "Epoch 10/10\n",
      "\u001b[1m782/782\u001b[0m \u001b[32m━━━━━━━━━━━━━━━━━━━━\u001b[0m\u001b[37m\u001b[0m \u001b[1m13s\u001b[0m 16ms/step - accuracy: 0.4057 - loss: 1.7037 - val_accuracy: 0.4136 - val_loss: 1.6852\n"
     ]
    }
   ],
   "source": [
    "history_adagrad = model_adagrad.fit(X_train, y_train, \n",
    "              batch_size = 64, \n",
    "              epochs = 10, \n",
    "              validation_data = (X_test, y_test))"
   ]
  },
  {
   "cell_type": "markdown",
   "id": "f4030b19-da3a-4429-a0d6-c022a8cc66be",
   "metadata": {},
   "source": [
    "#### Evaluation"
   ]
  },
  {
   "cell_type": "code",
   "execution_count": 36,
   "id": "a67e5a37-ddc1-46bb-a9a5-0c5baefae19e",
   "metadata": {},
   "outputs": [
    {
     "name": "stdout",
     "output_type": "stream",
     "text": [
      "\u001b[1m313/313\u001b[0m \u001b[32m━━━━━━━━━━━━━━━━━━━━\u001b[0m\u001b[37m\u001b[0m \u001b[1m1s\u001b[0m 4ms/step - accuracy: 0.4151 - loss: 1.6913\n",
      "Test Accuracy : 0.41359999775886536\n",
      "Test Loss : 1.6851965188980103\n"
     ]
    }
   ],
   "source": [
    "test_loss_adagrad, test_acc_adagrad = model_adagrad.evaluate(X_test, y_test)     \n",
    "print('Test Accuracy :', test_acc_adagrad)          \n",
    "print('Test Loss :', test_loss_adagrad)  "
   ]
  },
  {
   "cell_type": "markdown",
   "id": "795e55ca-76ce-4382-a282-bde71feb08c5",
   "metadata": {},
   "source": [
    "## AdaMax"
   ]
  },
  {
   "cell_type": "code",
   "execution_count": 37,
   "id": "625c001b-ad54-4d9b-826e-53224f6be788",
   "metadata": {},
   "outputs": [],
   "source": [
    "model_adamax = create_model()"
   ]
  },
  {
   "cell_type": "markdown",
   "id": "ef653a46-afbe-46e0-94c6-6a83e6929e22",
   "metadata": {},
   "source": [
    "#### Model Configuration"
   ]
  },
  {
   "cell_type": "code",
   "execution_count": 38,
   "id": "4ec7e19b-e239-4e82-96c3-1cc7b644c6a5",
   "metadata": {},
   "outputs": [],
   "source": [
    "model_adamax.compile(optimizer = Adamax(learning_rate = 0.001),\n",
    "                 loss = 'categorical_crossentropy',\n",
    "                 metrics = ['accuracy'])"
   ]
  },
  {
   "cell_type": "markdown",
   "id": "6aac5273-fc47-42ef-afb5-1d29bacc95f5",
   "metadata": {},
   "source": [
    "#### Model Training"
   ]
  },
  {
   "cell_type": "code",
   "execution_count": 39,
   "id": "3ef6b280-7583-40de-9cff-e06637c11cf4",
   "metadata": {},
   "outputs": [
    {
     "name": "stdout",
     "output_type": "stream",
     "text": [
      "Epoch 1/10\n",
      "\u001b[1m782/782\u001b[0m \u001b[32m━━━━━━━━━━━━━━━━━━━━\u001b[0m\u001b[37m\u001b[0m \u001b[1m15s\u001b[0m 17ms/step - accuracy: 0.3353 - loss: 1.8508 - val_accuracy: 0.4964 - val_loss: 1.4239\n",
      "Epoch 2/10\n",
      "\u001b[1m782/782\u001b[0m \u001b[32m━━━━━━━━━━━━━━━━━━━━\u001b[0m\u001b[37m\u001b[0m \u001b[1m14s\u001b[0m 17ms/step - accuracy: 0.5244 - loss: 1.3570 - val_accuracy: 0.5584 - val_loss: 1.2627\n",
      "Epoch 3/10\n",
      "\u001b[1m782/782\u001b[0m \u001b[32m━━━━━━━━━━━━━━━━━━━━\u001b[0m\u001b[37m\u001b[0m \u001b[1m14s\u001b[0m 17ms/step - accuracy: 0.5664 - loss: 1.2291 - val_accuracy: 0.5933 - val_loss: 1.1668\n",
      "Epoch 4/10\n",
      "\u001b[1m782/782\u001b[0m \u001b[32m━━━━━━━━━━━━━━━━━━━━\u001b[0m\u001b[37m\u001b[0m \u001b[1m14s\u001b[0m 18ms/step - accuracy: 0.6038 - loss: 1.1343 - val_accuracy: 0.6020 - val_loss: 1.1444\n",
      "Epoch 5/10\n",
      "\u001b[1m782/782\u001b[0m \u001b[32m━━━━━━━━━━━━━━━━━━━━\u001b[0m\u001b[37m\u001b[0m \u001b[1m13s\u001b[0m 17ms/step - accuracy: 0.6321 - loss: 1.0587 - val_accuracy: 0.6419 - val_loss: 1.0474\n",
      "Epoch 6/10\n",
      "\u001b[1m782/782\u001b[0m \u001b[32m━━━━━━━━━━━━━━━━━━━━\u001b[0m\u001b[37m\u001b[0m \u001b[1m13s\u001b[0m 17ms/step - accuracy: 0.6589 - loss: 0.9877 - val_accuracy: 0.6410 - val_loss: 1.0319\n",
      "Epoch 7/10\n",
      "\u001b[1m782/782\u001b[0m \u001b[32m━━━━━━━━━━━━━━━━━━━━\u001b[0m\u001b[37m\u001b[0m \u001b[1m13s\u001b[0m 17ms/step - accuracy: 0.6742 - loss: 0.9512 - val_accuracy: 0.6442 - val_loss: 1.0359\n",
      "Epoch 8/10\n",
      "\u001b[1m782/782\u001b[0m \u001b[32m━━━━━━━━━━━━━━━━━━━━\u001b[0m\u001b[37m\u001b[0m \u001b[1m13s\u001b[0m 17ms/step - accuracy: 0.6907 - loss: 0.9068 - val_accuracy: 0.6716 - val_loss: 0.9600\n",
      "Epoch 9/10\n",
      "\u001b[1m782/782\u001b[0m \u001b[32m━━━━━━━━━━━━━━━━━━━━\u001b[0m\u001b[37m\u001b[0m \u001b[1m14s\u001b[0m 18ms/step - accuracy: 0.7041 - loss: 0.8526 - val_accuracy: 0.6739 - val_loss: 0.9391\n",
      "Epoch 10/10\n",
      "\u001b[1m782/782\u001b[0m \u001b[32m━━━━━━━━━━━━━━━━━━━━\u001b[0m\u001b[37m\u001b[0m \u001b[1m14s\u001b[0m 18ms/step - accuracy: 0.7156 - loss: 0.8240 - val_accuracy: 0.6743 - val_loss: 0.9422\n"
     ]
    }
   ],
   "source": [
    "history_adamax = model_adamax.fit(X_train, y_train, \n",
    "              batch_size = 64, \n",
    "              epochs = 10, \n",
    "              validation_data = (X_test, y_test))"
   ]
  },
  {
   "cell_type": "markdown",
   "id": "d9830832-000a-4917-af4c-d2395ea6a0fd",
   "metadata": {},
   "source": [
    "#### Evaluation"
   ]
  },
  {
   "cell_type": "code",
   "execution_count": 40,
   "id": "fae83d18-9f95-490e-a156-eda2d95f4f6f",
   "metadata": {},
   "outputs": [
    {
     "name": "stdout",
     "output_type": "stream",
     "text": [
      "\u001b[1m313/313\u001b[0m \u001b[32m━━━━━━━━━━━━━━━━━━━━\u001b[0m\u001b[37m\u001b[0m \u001b[1m1s\u001b[0m 3ms/step - accuracy: 0.6756 - loss: 0.9405\n",
      "Test Accuracy : 0.6743000149726868\n",
      "Test Loss : 0.9422420859336853\n"
     ]
    }
   ],
   "source": [
    "test_loss_adamax, test_acc_adamax = model_adamax.evaluate(X_test, y_test)     \n",
    "print('Test Accuracy :', test_acc_adamax)          \n",
    "print('Test Loss :', test_loss_adamax)"
   ]
  },
  {
   "cell_type": "markdown",
   "id": "7878b3c5-5831-4898-b407-218e16985ad0",
   "metadata": {},
   "source": [
    "## Learning Rate"
   ]
  },
  {
   "cell_type": "markdown",
   "id": "943e197b-2f9a-492c-a2f2-51ba054a50d0",
   "metadata": {},
   "source": [
    "\n",
    "#### Learning Rate = 0.1"
   ]
  },
  {
   "cell_type": "code",
   "execution_count": 41,
   "id": "17cae3de-1201-47ed-9869-b6626d255b26",
   "metadata": {},
   "outputs": [],
   "source": [
    "model_lr_01 = create_model()"
   ]
  },
  {
   "cell_type": "markdown",
   "id": "18b2cb51-e2f4-4d50-b2f7-52b4e3ef7697",
   "metadata": {},
   "source": [
    "##### Model Configuration"
   ]
  },
  {
   "cell_type": "code",
   "execution_count": 42,
   "id": "3ebce735-2c3b-4983-bcbd-fb8494c6908a",
   "metadata": {},
   "outputs": [],
   "source": [
    "model_lr_01.compile(optimizer = Adam(learning_rate = 0.1),\n",
    "                   loss = 'categorical_crossentropy',\n",
    "                   metrics = ['accuracy'])"
   ]
  },
  {
   "cell_type": "markdown",
   "id": "36b46528-d2de-4fb6-92ce-9d0bb34e3587",
   "metadata": {},
   "source": [
    "##### Model Training"
   ]
  },
  {
   "cell_type": "code",
   "execution_count": 43,
   "id": "f4fbe50d-0442-426a-bb96-ccad98cd4112",
   "metadata": {},
   "outputs": [
    {
     "name": "stdout",
     "output_type": "stream",
     "text": [
      "Epoch 1/10\n",
      "\u001b[1m782/782\u001b[0m \u001b[32m━━━━━━━━━━━━━━━━━━━━\u001b[0m\u001b[37m\u001b[0m \u001b[1m17s\u001b[0m 19ms/step - accuracy: 0.0996 - loss: 12.5792 - val_accuracy: 0.1000 - val_loss: 2.3127\n",
      "Epoch 2/10\n",
      "\u001b[1m782/782\u001b[0m \u001b[32m━━━━━━━━━━━━━━━━━━━━\u001b[0m\u001b[37m\u001b[0m \u001b[1m13s\u001b[0m 17ms/step - accuracy: 0.1002 - loss: 2.3108 - val_accuracy: 0.1000 - val_loss: 2.3065\n",
      "Epoch 3/10\n",
      "\u001b[1m782/782\u001b[0m \u001b[32m━━━━━━━━━━━━━━━━━━━━\u001b[0m\u001b[37m\u001b[0m \u001b[1m14s\u001b[0m 18ms/step - accuracy: 0.1002 - loss: 2.3107 - val_accuracy: 0.1000 - val_loss: 2.3075\n",
      "Epoch 4/10\n",
      "\u001b[1m782/782\u001b[0m \u001b[32m━━━━━━━━━━━━━━━━━━━━\u001b[0m\u001b[37m\u001b[0m \u001b[1m14s\u001b[0m 18ms/step - accuracy: 0.0980 - loss: 2.3115 - val_accuracy: 0.1000 - val_loss: 2.3177\n",
      "Epoch 5/10\n",
      "\u001b[1m782/782\u001b[0m \u001b[32m━━━━━━━━━━━━━━━━━━━━\u001b[0m\u001b[37m\u001b[0m \u001b[1m16s\u001b[0m 20ms/step - accuracy: 0.0995 - loss: 2.3123 - val_accuracy: 0.1000 - val_loss: 2.3122\n",
      "Epoch 6/10\n",
      "\u001b[1m782/782\u001b[0m \u001b[32m━━━━━━━━━━━━━━━━━━━━\u001b[0m\u001b[37m\u001b[0m \u001b[1m16s\u001b[0m 20ms/step - accuracy: 0.0986 - loss: 2.3125 - val_accuracy: 0.1000 - val_loss: 2.3082\n",
      "Epoch 7/10\n",
      "\u001b[1m782/782\u001b[0m \u001b[32m━━━━━━━━━━━━━━━━━━━━\u001b[0m\u001b[37m\u001b[0m \u001b[1m13s\u001b[0m 17ms/step - accuracy: 0.1011 - loss: 2.3119 - val_accuracy: 0.1000 - val_loss: 2.3120\n",
      "Epoch 8/10\n",
      "\u001b[1m782/782\u001b[0m \u001b[32m━━━━━━━━━━━━━━━━━━━━\u001b[0m\u001b[37m\u001b[0m \u001b[1m14s\u001b[0m 17ms/step - accuracy: 0.1009 - loss: 2.3116 - val_accuracy: 0.1000 - val_loss: 2.3078\n",
      "Epoch 9/10\n",
      "\u001b[1m782/782\u001b[0m \u001b[32m━━━━━━━━━━━━━━━━━━━━\u001b[0m\u001b[37m\u001b[0m \u001b[1m13s\u001b[0m 16ms/step - accuracy: 0.1012 - loss: 2.3124 - val_accuracy: 0.1000 - val_loss: 2.3091\n",
      "Epoch 10/10\n",
      "\u001b[1m782/782\u001b[0m \u001b[32m━━━━━━━━━━━━━━━━━━━━\u001b[0m\u001b[37m\u001b[0m \u001b[1m12s\u001b[0m 16ms/step - accuracy: 0.1009 - loss: 2.3118 - val_accuracy: 0.1000 - val_loss: 2.3125\n"
     ]
    }
   ],
   "source": [
    "history_01 = model_lr_01.fit(X_train, y_train, \n",
    "              batch_size = 64, \n",
    "              epochs = 10, \n",
    "              validation_data = (X_test, y_test))"
   ]
  },
  {
   "cell_type": "markdown",
   "id": "c0c55683-c701-4457-97b1-e2164ce9fd9b",
   "metadata": {},
   "source": [
    "##### Evaluation"
   ]
  },
  {
   "cell_type": "code",
   "execution_count": 44,
   "id": "d0638198-0009-4853-b9ce-f4563a9a9d73",
   "metadata": {},
   "outputs": [
    {
     "name": "stdout",
     "output_type": "stream",
     "text": [
      "\u001b[1m313/313\u001b[0m \u001b[32m━━━━━━━━━━━━━━━━━━━━\u001b[0m\u001b[37m\u001b[0m \u001b[1m1s\u001b[0m 3ms/step - accuracy: 0.0987 - loss: 2.3141\n",
      "Test Accuracy : 0.10000000149011612\n",
      "Test Loss : 2.312513589859009\n"
     ]
    }
   ],
   "source": [
    "test_loss_01, test_acc_01 = model_lr_01.evaluate(X_test, y_test)     \n",
    "print('Test Accuracy :', test_acc_01)          \n",
    "print('Test Loss :', test_loss_01)"
   ]
  },
  {
   "cell_type": "markdown",
   "id": "4f758b70-1322-4f17-b34a-b7d2ce814e73",
   "metadata": {},
   "source": [
    "#### Learning Rate = 0.01"
   ]
  },
  {
   "cell_type": "code",
   "execution_count": 45,
   "id": "9c17dae2-ce9b-456a-8543-3cb7492b8365",
   "metadata": {},
   "outputs": [],
   "source": [
    "model_lr_001 = create_model()"
   ]
  },
  {
   "cell_type": "markdown",
   "id": "8245bae5-3c82-48c8-bd12-32c966773b6b",
   "metadata": {},
   "source": [
    "##### Model Configuration"
   ]
  },
  {
   "cell_type": "code",
   "execution_count": 46,
   "id": "19751695-4aaf-481e-b6d6-731729c50b49",
   "metadata": {},
   "outputs": [],
   "source": [
    "model_lr_001.compile(optimizer = Adam(learning_rate = 0.01),\n",
    "                   loss = 'categorical_crossentropy',\n",
    "                   metrics = ['accuracy'])"
   ]
  },
  {
   "cell_type": "markdown",
   "id": "aa197c01-2001-4eb1-a440-67f37b070914",
   "metadata": {},
   "source": [
    "##### Model Training"
   ]
  },
  {
   "cell_type": "code",
   "execution_count": 47,
   "id": "5bcd7b31-16c2-4a83-b1d6-e8b0c16e1792",
   "metadata": {},
   "outputs": [
    {
     "name": "stdout",
     "output_type": "stream",
     "text": [
      "Epoch 1/10\n",
      "\u001b[1m782/782\u001b[0m \u001b[32m━━━━━━━━━━━━━━━━━━━━\u001b[0m\u001b[37m\u001b[0m \u001b[1m15s\u001b[0m 17ms/step - accuracy: 0.2627 - loss: 1.9970 - val_accuracy: 0.4218 - val_loss: 1.5829\n",
      "Epoch 2/10\n",
      "\u001b[1m782/782\u001b[0m \u001b[32m━━━━━━━━━━━━━━━━━━━━\u001b[0m\u001b[37m\u001b[0m \u001b[1m12s\u001b[0m 16ms/step - accuracy: 0.4333 - loss: 1.5594 - val_accuracy: 0.4511 - val_loss: 1.5463\n",
      "Epoch 3/10\n",
      "\u001b[1m782/782\u001b[0m \u001b[32m━━━━━━━━━━━━━━━━━━━━\u001b[0m\u001b[37m\u001b[0m \u001b[1m12s\u001b[0m 16ms/step - accuracy: 0.4617 - loss: 1.4854 - val_accuracy: 0.4525 - val_loss: 1.5533\n",
      "Epoch 4/10\n",
      "\u001b[1m782/782\u001b[0m \u001b[32m━━━━━━━━━━━━━━━━━━━━\u001b[0m\u001b[37m\u001b[0m \u001b[1m12s\u001b[0m 16ms/step - accuracy: 0.4833 - loss: 1.4337 - val_accuracy: 0.4914 - val_loss: 1.4272\n",
      "Epoch 5/10\n",
      "\u001b[1m782/782\u001b[0m \u001b[32m━━━━━━━━━━━━━━━━━━━━\u001b[0m\u001b[37m\u001b[0m \u001b[1m13s\u001b[0m 16ms/step - accuracy: 0.4966 - loss: 1.4032 - val_accuracy: 0.4957 - val_loss: 1.4159\n",
      "Epoch 6/10\n",
      "\u001b[1m782/782\u001b[0m \u001b[32m━━━━━━━━━━━━━━━━━━━━\u001b[0m\u001b[37m\u001b[0m \u001b[1m13s\u001b[0m 16ms/step - accuracy: 0.5112 - loss: 1.3667 - val_accuracy: 0.4972 - val_loss: 1.4363\n",
      "Epoch 7/10\n",
      "\u001b[1m782/782\u001b[0m \u001b[32m━━━━━━━━━━━━━━━━━━━━\u001b[0m\u001b[37m\u001b[0m \u001b[1m14s\u001b[0m 17ms/step - accuracy: 0.5224 - loss: 1.3476 - val_accuracy: 0.4531 - val_loss: 1.5997\n",
      "Epoch 8/10\n",
      "\u001b[1m782/782\u001b[0m \u001b[32m━━━━━━━━━━━━━━━━━━━━\u001b[0m\u001b[37m\u001b[0m \u001b[1m14s\u001b[0m 18ms/step - accuracy: 0.5319 - loss: 1.3192 - val_accuracy: 0.5134 - val_loss: 1.3844\n",
      "Epoch 9/10\n",
      "\u001b[1m782/782\u001b[0m \u001b[32m━━━━━━━━━━━━━━━━━━━━\u001b[0m\u001b[37m\u001b[0m \u001b[1m13s\u001b[0m 17ms/step - accuracy: 0.5301 - loss: 1.3138 - val_accuracy: 0.5216 - val_loss: 1.3428\n",
      "Epoch 10/10\n",
      "\u001b[1m782/782\u001b[0m \u001b[32m━━━━━━━━━━━━━━━━━━━━\u001b[0m\u001b[37m\u001b[0m \u001b[1m14s\u001b[0m 17ms/step - accuracy: 0.5436 - loss: 1.2965 - val_accuracy: 0.4952 - val_loss: 1.4325\n"
     ]
    }
   ],
   "source": [
    "history_001 = model_lr_001.fit(X_train, y_train, \n",
    "              batch_size = 64, \n",
    "              epochs = 10, \n",
    "              validation_data = (X_test, y_test))"
   ]
  },
  {
   "cell_type": "markdown",
   "id": "008c7042-eaea-4696-be08-c7d84390f98c",
   "metadata": {},
   "source": [
    "##### Evaluation"
   ]
  },
  {
   "cell_type": "code",
   "execution_count": 48,
   "id": "620727b2-cbf2-4820-b936-8eee4eceb05b",
   "metadata": {},
   "outputs": [
    {
     "name": "stdout",
     "output_type": "stream",
     "text": [
      "\u001b[1m313/313\u001b[0m \u001b[32m━━━━━━━━━━━━━━━━━━━━\u001b[0m\u001b[37m\u001b[0m \u001b[1m1s\u001b[0m 4ms/step - accuracy: 0.4891 - loss: 1.4383\n",
      "Test Accuracy : 0.4952000081539154\n",
      "Test Loss : 1.4325312376022339\n"
     ]
    }
   ],
   "source": [
    "test_loss_001, test_acc_001 = model_lr_001.evaluate(X_test, y_test)     \n",
    "print('Test Accuracy :', test_acc_001)          \n",
    "print('Test Loss :', test_loss_001)"
   ]
  },
  {
   "cell_type": "markdown",
   "id": "1b50fe83-1521-48e3-80ca-11e0af7a79d6",
   "metadata": {},
   "source": [
    "#### Learning Rate = 0.001"
   ]
  },
  {
   "cell_type": "code",
   "execution_count": 49,
   "id": "723ae0ca-2893-4eff-9500-c64a4179e848",
   "metadata": {},
   "outputs": [],
   "source": [
    "model_lr_0001 = create_model()"
   ]
  },
  {
   "cell_type": "markdown",
   "id": "4ce33996-da95-4445-b190-891eaf4d1eaa",
   "metadata": {},
   "source": [
    "##### Model Configuration"
   ]
  },
  {
   "cell_type": "code",
   "execution_count": 50,
   "id": "6686c932-48f1-42c3-b021-f6a3352314ad",
   "metadata": {},
   "outputs": [],
   "source": [
    "model_lr_0001.compile(optimizer = Adam(learning_rate = 0.001),\n",
    "                   loss = 'categorical_crossentropy',\n",
    "                   metrics = ['accuracy'])"
   ]
  },
  {
   "cell_type": "markdown",
   "id": "cbdfb871-2fab-4a97-aa10-2d05261cbbc8",
   "metadata": {},
   "source": [
    "##### Model Training"
   ]
  },
  {
   "cell_type": "code",
   "execution_count": 51,
   "id": "d78bbe4c-cb31-4fe3-b47b-1e1d5763863d",
   "metadata": {},
   "outputs": [
    {
     "name": "stdout",
     "output_type": "stream",
     "text": [
      "Epoch 1/10\n",
      "\u001b[1m782/782\u001b[0m \u001b[32m━━━━━━━━━━━━━━━━━━━━\u001b[0m\u001b[37m\u001b[0m \u001b[1m16s\u001b[0m 18ms/step - accuracy: 0.3857 - loss: 1.6914 - val_accuracy: 0.5709 - val_loss: 1.2198\n",
      "Epoch 2/10\n",
      "\u001b[1m782/782\u001b[0m \u001b[32m━━━━━━━━━━━━━━━━━━━━\u001b[0m\u001b[37m\u001b[0m \u001b[1m13s\u001b[0m 16ms/step - accuracy: 0.5965 - loss: 1.1602 - val_accuracy: 0.6274 - val_loss: 1.0623\n",
      "Epoch 3/10\n",
      "\u001b[1m782/782\u001b[0m \u001b[32m━━━━━━━━━━━━━━━━━━━━\u001b[0m\u001b[37m\u001b[0m \u001b[1m14s\u001b[0m 17ms/step - accuracy: 0.6553 - loss: 0.9955 - val_accuracy: 0.6587 - val_loss: 0.9794\n",
      "Epoch 4/10\n",
      "\u001b[1m782/782\u001b[0m \u001b[32m━━━━━━━━━━━━━━━━━━━━\u001b[0m\u001b[37m\u001b[0m \u001b[1m13s\u001b[0m 17ms/step - accuracy: 0.6923 - loss: 0.8803 - val_accuracy: 0.6605 - val_loss: 0.9747\n",
      "Epoch 5/10\n",
      "\u001b[1m782/782\u001b[0m \u001b[32m━━━━━━━━━━━━━━━━━━━━\u001b[0m\u001b[37m\u001b[0m \u001b[1m14s\u001b[0m 17ms/step - accuracy: 0.7251 - loss: 0.7987 - val_accuracy: 0.6818 - val_loss: 0.9377\n",
      "Epoch 6/10\n",
      "\u001b[1m782/782\u001b[0m \u001b[32m━━━━━━━━━━━━━━━━━━━━\u001b[0m\u001b[37m\u001b[0m \u001b[1m13s\u001b[0m 17ms/step - accuracy: 0.7491 - loss: 0.7297 - val_accuracy: 0.6886 - val_loss: 0.9130\n",
      "Epoch 7/10\n",
      "\u001b[1m782/782\u001b[0m \u001b[32m━━━━━━━━━━━━━━━━━━━━\u001b[0m\u001b[37m\u001b[0m \u001b[1m13s\u001b[0m 17ms/step - accuracy: 0.7737 - loss: 0.6584 - val_accuracy: 0.6947 - val_loss: 0.9009\n",
      "Epoch 8/10\n",
      "\u001b[1m782/782\u001b[0m \u001b[32m━━━━━━━━━━━━━━━━━━━━\u001b[0m\u001b[37m\u001b[0m \u001b[1m13s\u001b[0m 17ms/step - accuracy: 0.7923 - loss: 0.5984 - val_accuracy: 0.7107 - val_loss: 0.8837\n",
      "Epoch 9/10\n",
      "\u001b[1m782/782\u001b[0m \u001b[32m━━━━━━━━━━━━━━━━━━━━\u001b[0m\u001b[37m\u001b[0m \u001b[1m15s\u001b[0m 20ms/step - accuracy: 0.8135 - loss: 0.5361 - val_accuracy: 0.7012 - val_loss: 0.9458\n",
      "Epoch 10/10\n",
      "\u001b[1m782/782\u001b[0m \u001b[32m━━━━━━━━━━━━━━━━━━━━\u001b[0m\u001b[37m\u001b[0m \u001b[1m15s\u001b[0m 19ms/step - accuracy: 0.8328 - loss: 0.4826 - val_accuracy: 0.7080 - val_loss: 0.9345\n"
     ]
    }
   ],
   "source": [
    "history_0001 = model_lr_0001.fit(X_train, y_train, \n",
    "              batch_size = 64, \n",
    "              epochs = 10, \n",
    "              validation_data = (X_test, y_test))"
   ]
  },
  {
   "cell_type": "markdown",
   "id": "706476af-7bda-4ae7-99df-8a0459e4d541",
   "metadata": {},
   "source": [
    "##### Evaluation"
   ]
  },
  {
   "cell_type": "code",
   "execution_count": 52,
   "id": "3f6fbf87-baec-4e17-bbda-676c471b83df",
   "metadata": {},
   "outputs": [
    {
     "name": "stdout",
     "output_type": "stream",
     "text": [
      "\u001b[1m313/313\u001b[0m \u001b[32m━━━━━━━━━━━━━━━━━━━━\u001b[0m\u001b[37m\u001b[0m \u001b[1m1s\u001b[0m 3ms/step - accuracy: 0.7116 - loss: 0.9189\n",
      "Test Accuracy : 0.7080000042915344\n",
      "Test Loss : 0.9344853758811951\n"
     ]
    }
   ],
   "source": [
    "test_loss_0001, test_acc_0001 = model_lr_0001.evaluate(X_test, y_test)     \n",
    "print('Test Accuracy :', test_acc_0001)          \n",
    "print('Test Loss :', test_loss_0001)"
   ]
  },
  {
   "cell_type": "markdown",
   "id": "d7c20d8a-22b9-4213-9dc9-28acbee93c50",
   "metadata": {},
   "source": [
    "#### Learning Rate = 0.0001"
   ]
  },
  {
   "cell_type": "code",
   "execution_count": 53,
   "id": "861277a4-b7db-4ba4-a6e1-74d96bafad80",
   "metadata": {},
   "outputs": [],
   "source": [
    "model_lr_00001 = create_model()"
   ]
  },
  {
   "cell_type": "markdown",
   "id": "2336059e-b12a-499e-ad4a-b624963b6bb6",
   "metadata": {},
   "source": [
    "##### Model Configuration"
   ]
  },
  {
   "cell_type": "code",
   "execution_count": 54,
   "id": "5c58a418-d936-454d-8ce3-0ec5536bb088",
   "metadata": {},
   "outputs": [],
   "source": [
    "model_lr_00001.compile(optimizer = Adam(learning_rate = 0.0001),\n",
    "                   loss = 'categorical_crossentropy',\n",
    "                   metrics = ['accuracy'])"
   ]
  },
  {
   "cell_type": "markdown",
   "id": "50fdf6e0-fc70-42b2-87b0-93811c215376",
   "metadata": {},
   "source": [
    "##### Model Training"
   ]
  },
  {
   "cell_type": "code",
   "execution_count": 55,
   "id": "898c0390-2509-4a24-a7e9-c228242fde1f",
   "metadata": {},
   "outputs": [
    {
     "name": "stdout",
     "output_type": "stream",
     "text": [
      "Epoch 1/10\n",
      "\u001b[1m782/782\u001b[0m \u001b[32m━━━━━━━━━━━━━━━━━━━━\u001b[0m\u001b[37m\u001b[0m \u001b[1m18s\u001b[0m 18ms/step - accuracy: 0.2716 - loss: 2.0213 - val_accuracy: 0.4491 - val_loss: 1.5850\n",
      "Epoch 2/10\n",
      "\u001b[1m782/782\u001b[0m \u001b[32m━━━━━━━━━━━━━━━━━━━━\u001b[0m\u001b[37m\u001b[0m \u001b[1m14s\u001b[0m 18ms/step - accuracy: 0.4547 - loss: 1.5445 - val_accuracy: 0.4909 - val_loss: 1.4365\n",
      "Epoch 3/10\n",
      "\u001b[1m782/782\u001b[0m \u001b[32m━━━━━━━━━━━━━━━━━━━━\u001b[0m\u001b[37m\u001b[0m \u001b[1m15s\u001b[0m 19ms/step - accuracy: 0.5062 - loss: 1.3991 - val_accuracy: 0.5276 - val_loss: 1.3352\n",
      "Epoch 4/10\n",
      "\u001b[1m782/782\u001b[0m \u001b[32m━━━━━━━━━━━━━━━━━━━━\u001b[0m\u001b[37m\u001b[0m \u001b[1m15s\u001b[0m 19ms/step - accuracy: 0.5408 - loss: 1.3137 - val_accuracy: 0.5538 - val_loss: 1.2760\n",
      "Epoch 5/10\n",
      "\u001b[1m782/782\u001b[0m \u001b[32m━━━━━━━━━━━━━━━━━━━━\u001b[0m\u001b[37m\u001b[0m \u001b[1m14s\u001b[0m 18ms/step - accuracy: 0.5664 - loss: 1.2380 - val_accuracy: 0.5705 - val_loss: 1.2256\n",
      "Epoch 6/10\n",
      "\u001b[1m782/782\u001b[0m \u001b[32m━━━━━━━━━━━━━━━━━━━━\u001b[0m\u001b[37m\u001b[0m \u001b[1m13s\u001b[0m 17ms/step - accuracy: 0.5866 - loss: 1.1909 - val_accuracy: 0.5853 - val_loss: 1.1835\n",
      "Epoch 7/10\n",
      "\u001b[1m782/782\u001b[0m \u001b[32m━━━━━━━━━━━━━━━━━━━━\u001b[0m\u001b[37m\u001b[0m \u001b[1m16s\u001b[0m 20ms/step - accuracy: 0.5979 - loss: 1.1506 - val_accuracy: 0.5966 - val_loss: 1.1542\n",
      "Epoch 8/10\n",
      "\u001b[1m782/782\u001b[0m \u001b[32m━━━━━━━━━━━━━━━━━━━━\u001b[0m\u001b[37m\u001b[0m \u001b[1m15s\u001b[0m 19ms/step - accuracy: 0.6084 - loss: 1.1236 - val_accuracy: 0.6052 - val_loss: 1.1316\n",
      "Epoch 9/10\n",
      "\u001b[1m782/782\u001b[0m \u001b[32m━━━━━━━━━━━━━━━━━━━━\u001b[0m\u001b[37m\u001b[0m \u001b[1m14s\u001b[0m 18ms/step - accuracy: 0.6184 - loss: 1.0992 - val_accuracy: 0.6102 - val_loss: 1.1231\n",
      "Epoch 10/10\n",
      "\u001b[1m782/782\u001b[0m \u001b[32m━━━━━━━━━━━━━━━━━━━━\u001b[0m\u001b[37m\u001b[0m \u001b[1m15s\u001b[0m 19ms/step - accuracy: 0.6333 - loss: 1.0623 - val_accuracy: 0.6210 - val_loss: 1.0888\n"
     ]
    }
   ],
   "source": [
    "history_00001 = model_lr_00001.fit(X_train, y_train, \n",
    "              batch_size = 64, \n",
    "              epochs = 10, \n",
    "              validation_data = (X_test, y_test))"
   ]
  },
  {
   "cell_type": "markdown",
   "id": "569683f6-28f0-473d-8d42-c45962079e7c",
   "metadata": {},
   "source": [
    "##### Evaluation"
   ]
  },
  {
   "cell_type": "code",
   "execution_count": 56,
   "id": "1a4fad89-4015-461f-8c90-b8676b92d2cf",
   "metadata": {},
   "outputs": [
    {
     "name": "stdout",
     "output_type": "stream",
     "text": [
      "\u001b[1m313/313\u001b[0m \u001b[32m━━━━━━━━━━━━━━━━━━━━\u001b[0m\u001b[37m\u001b[0m \u001b[1m1s\u001b[0m 4ms/step - accuracy: 0.6256 - loss: 1.0835\n",
      "Test Accuracy : 0.6209999918937683\n",
      "Test Loss : 1.0887869596481323\n"
     ]
    }
   ],
   "source": [
    "test_loss_00001, test_acc_00001 = model_lr_00001.evaluate(X_test, y_test)     \n",
    "print('Test Accuracy :', test_acc_00001)          \n",
    "print('Test Loss :', test_loss_00001)"
   ]
  },
  {
   "cell_type": "markdown",
   "id": "c3f5ba4b-cdac-4de1-bc7b-369722444fe3",
   "metadata": {},
   "source": [
    "## Comparative Analysis of Different Optimizers"
   ]
  },
  {
   "cell_type": "code",
   "execution_count": 57,
   "id": "f48ca8e1-976c-42ef-912c-fbc14bbde840",
   "metadata": {},
   "outputs": [
    {
     "name": "stdout",
     "output_type": "stream",
     "text": [
      "Accuracy of SGD without Momentum  : 0.33250001072883606\n",
      "Test Loss of SGD without Momentum : 1.8964025974273682\n",
      "********************************************************************************\n",
      "Accuracy of SGD with    Momentum  : 0.34950000047683716\n",
      "Loss of SGD with Momentum         : 1.85219144821167\n",
      "********************************************************************************\n",
      "Accuracy of Adam                  : 0.7089999914169312\n",
      "Loss of Adam                      : 0.9411476850509644\n",
      "********************************************************************************\n",
      "Accuracy of RMSProp               : 0.7077999711036682\n",
      "Loss of RMSProp                   : 1.0148118734359741\n",
      "********************************************************************************\n",
      "Accuracy of AdaDelta              : 0.2547000050544739\n",
      "Loss of AdaDelta                  : 2.195260763168335\n",
      "********************************************************************************\n",
      "Accuracy of AdaMax                : 0.6743000149726868\n",
      "Loss of AdaMax                    : 0.9422420859336853\n",
      "********************************************************************************\n",
      "Accuracy of AdaGrad               : 0.41359999775886536\n",
      "Loss of AdaGrad                   : 1.6851965188980103\n"
     ]
    }
   ],
   "source": [
    "print('Accuracy of SGD without Momentum  :', test_acc_sgd)          \n",
    "print('Test Loss of SGD without Momentum :', test_loss_sgd) \n",
    "print('*'* 80)\n",
    "print('Accuracy of SGD with    Momentum  :', test_acc_sgd_mt)          \n",
    "print('Loss of SGD with Momentum         :', test_loss_sgd_mt)\n",
    "print('*'* 80)\n",
    "print('Accuracy of Adam                  :', test_acc_adam)\n",
    "print('Loss of Adam                      :', test_loss_adam)\n",
    "print('*'* 80)\n",
    "print('Accuracy of RMSProp               :', test_acc_rms)\n",
    "print('Loss of RMSProp                   :', test_loss_rms)\n",
    "print('*'* 80)\n",
    "print('Accuracy of AdaDelta              :', test_acc_adadelta)\n",
    "print('Loss of AdaDelta                  :', test_loss_adadelta)\n",
    "print('*'* 80)\n",
    "print('Accuracy of AdaMax                :', test_acc_adamax)\n",
    "print('Loss of AdaMax                    :', test_loss_adamax)\n",
    "print('*'* 80)\n",
    "print('Accuracy of AdaGrad               :', test_acc_adagrad)\n",
    "print('Loss of AdaGrad                   :', test_loss_adagrad)"
   ]
  },
  {
   "cell_type": "markdown",
   "id": "a1ef0b0e-21f4-4a06-8087-797d3043f086",
   "metadata": {},
   "source": [
    "We Can see that Adam has highest accuracy followed by RMSprop and AdaMax,\n",
    "On the Other hand AdaMax has lesser loss than RMSprop"
   ]
  },
  {
   "cell_type": "markdown",
   "id": "96f0288c-8e93-4896-b9ca-4078973a18d1",
   "metadata": {},
   "source": [
    "## Comparative Analysis of Different Learning Rate"
   ]
  },
  {
   "cell_type": "code",
   "execution_count": 58,
   "id": "4752c416-16a9-4039-b980-83816b2e058a",
   "metadata": {},
   "outputs": [
    {
     "name": "stdout",
     "output_type": "stream",
     "text": [
      "Accuracy When Learning Rate == 0.1    : 0.10000000149011612\n",
      "Loss When Learning Rate == 0.1        : 2.312513589859009\n",
      "********************************************************************************\n",
      "Accuracy When Learning Rate == 0.01   : 0.4952000081539154\n",
      "Loss When Learning Rate == 0.01       : 1.4325312376022339\n",
      "********************************************************************************\n",
      "Accuracy When Learning Rate == 0.001  : 0.7080000042915344\n",
      "Loss When Learning Rate == 0.001      : 0.9344853758811951\n",
      "********************************************************************************\n",
      "Accuracy When Learning Rate == 0.0001 : 0.6209999918937683\n",
      "Loss When Learning Rate == 0.0001     : 1.0887869596481323\n"
     ]
    }
   ],
   "source": [
    "print('Accuracy When Learning Rate == 0.1    :', test_acc_01)\n",
    "print('Loss When Learning Rate == 0.1        :', test_loss_01)\n",
    "print('*' * 80)\n",
    "print('Accuracy When Learning Rate == 0.01   :', test_acc_001)\n",
    "print('Loss When Learning Rate == 0.01       :', test_loss_001)\n",
    "print('*' * 80)\n",
    "print('Accuracy When Learning Rate == 0.001  :', test_acc_0001)\n",
    "print('Loss When Learning Rate == 0.001      :', test_loss_0001)\n",
    "print('*' * 80)\n",
    "print('Accuracy When Learning Rate == 0.0001 :', test_acc_00001)\n",
    "print('Loss When Learning Rate == 0.0001     :', test_loss_00001)"
   ]
  },
  {
   "cell_type": "markdown",
   "id": "04d43c2d-a23a-4941-abdc-71dc68ae05ea",
   "metadata": {},
   "source": [
    "We Can see that accuracy is maximum when learning rate is 0.001 and is followed by 0.0001"
   ]
  },
  {
   "cell_type": "markdown",
   "id": "f8545e0e-c882-4b9c-a442-415bf8b3171c",
   "metadata": {},
   "source": [
    "### Visualization of Accuracy corresponding to Learning Rate"
   ]
  },
  {
   "cell_type": "code",
   "execution_count": 61,
   "id": "4a0b081f-f7cb-40ab-b19b-ae757ed27cc7",
   "metadata": {},
   "outputs": [
    {
     "data": {
      "text/html": [
       "<div>\n",
       "<style scoped>\n",
       "    .dataframe tbody tr th:only-of-type {\n",
       "        vertical-align: middle;\n",
       "    }\n",
       "\n",
       "    .dataframe tbody tr th {\n",
       "        vertical-align: top;\n",
       "    }\n",
       "\n",
       "    .dataframe thead th {\n",
       "        text-align: right;\n",
       "    }\n",
       "</style>\n",
       "<table border=\"1\" class=\"dataframe\">\n",
       "  <thead>\n",
       "    <tr style=\"text-align: right;\">\n",
       "      <th></th>\n",
       "      <th>Learning Rate</th>\n",
       "      <th>Accuracy</th>\n",
       "    </tr>\n",
       "  </thead>\n",
       "  <tbody>\n",
       "    <tr>\n",
       "      <th>0</th>\n",
       "      <td>0.1000</td>\n",
       "      <td>0.1000</td>\n",
       "    </tr>\n",
       "    <tr>\n",
       "      <th>1</th>\n",
       "      <td>0.0100</td>\n",
       "      <td>0.4952</td>\n",
       "    </tr>\n",
       "    <tr>\n",
       "      <th>2</th>\n",
       "      <td>0.0010</td>\n",
       "      <td>0.7080</td>\n",
       "    </tr>\n",
       "    <tr>\n",
       "      <th>3</th>\n",
       "      <td>0.0001</td>\n",
       "      <td>0.6210</td>\n",
       "    </tr>\n",
       "  </tbody>\n",
       "</table>\n",
       "</div>"
      ],
      "text/plain": [
       "   Learning Rate  Accuracy\n",
       "0         0.1000    0.1000\n",
       "1         0.0100    0.4952\n",
       "2         0.0010    0.7080\n",
       "3         0.0001    0.6210"
      ]
     },
     "execution_count": 61,
     "metadata": {},
     "output_type": "execute_result"
    }
   ],
   "source": [
    "data = {\n",
    "    'Learning Rate': [0.1, 0.01, 0.001, 0.0001],\n",
    "    'Accuracy': [test_acc_01, test_acc_001, test_acc_0001, test_acc_00001]\n",
    "}\n",
    "\n",
    "df = pd.DataFrame(data)\n",
    "df"
   ]
  },
  {
   "cell_type": "code",
   "execution_count": 62,
   "id": "4980b8d6-b314-41f8-bb98-b35587cb66a7",
   "metadata": {},
   "outputs": [
    {
     "data": {
      "image/png": "[encoded data removed]",
      "text/plain": [
       "<Figure size 640x480 with 1 Axes>"
      ]
     },
     "metadata": {},
     "output_type": "display_data"
    }
   ],
   "source": [
    "sns.lineplot(data = data, x = 'Learning Rate', y = 'Accuracy')\n",
    "plt.xscale('log')\n",
    "plt.show()"
   ]
  },
  {
   "cell_type": "code",
   "execution_count": null,
   "id": "e0590ec5-97c8-4de9-8357-b5b0af08ef83",
   "metadata": {},
   "outputs": [],
   "source": []
  }
 ],
 "metadata": {
  "kernelspec": {
   "display_name": "Python 3 (ipykernel)",
   "language": "python",
   "name": "python3"
  },
  "language_info": {
   "codemirror_mode": {
    "name": "ipython",
    "version": 3
   },
   "file_extension": ".py",
   "mimetype": "text/x-python",
   "name": "python",
   "nbconvert_exporter": "python",
   "pygments_lexer": "ipython3",
   "version": "3.12.4"
  }
 },
 "nbformat": 4,
 "nbformat_minor": 5
}
