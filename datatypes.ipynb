{
 "cells": [
  {
   "cell_type": "code",
   "execution_count": 1,
   "id": "4428f356-d44e-46f0-8821-454205e99e83",
   "metadata": {},
   "outputs": [],
   "source": [
    "import sys"
   ]
  },
  {
   "cell_type": "code",
   "execution_count": 2,
   "id": "dc62e500-291f-4aee-91ae-2c1cf758c32c",
   "metadata": {},
   "outputs": [
    {
     "name": "stdout",
     "output_type": "stream",
     "text": [
      "3.12.4 | packaged by Anaconda, Inc. | (main, Jun 18 2024, 15:03:56) [MSC v.1929 64 bit (AMD64)]\n"
     ]
    }
   ],
   "source": [
    "print(sys.version)"
   ]
  },
  {
   "cell_type": "markdown",
   "id": "5d25abea-9cdb-4091-ae52-7bfa2844c6b1",
   "metadata": {},
   "source": [
    "Python Syntax"
   ]
  },
  {
   "cell_type": "code",
   "execution_count": 3,
   "id": "e5736aa6-08dd-4dcc-88e4-ceaf1e1c93bf",
   "metadata": {},
   "outputs": [
    {
     "name": "stdout",
     "output_type": "stream",
     "text": [
      "Five is greater than two!\n"
     ]
    }
   ],
   "source": [
    "if 5 > 2:\n",
    "  print(\"Five is greater than two!\")"
   ]
  },
  {
   "cell_type": "code",
   "execution_count": 1,
   "id": "9b205df2-cd2a-4803-9171-2aaf459edec4",
   "metadata": {},
   "outputs": [
    {
     "name": "stdout",
     "output_type": "stream",
     "text": [
      "Five is greater than two!\n"
     ]
    }
   ],
   "source": [
    "if 5 > 2:\n",
    "    print(\"Five is greater than two!\")"
   ]
  },
  {
   "cell_type": "code",
   "execution_count": 5,
   "id": "2cd81a30-1d8d-4eca-9922-b780a4ae7c62",
   "metadata": {},
   "outputs": [
    {
     "name": "stdout",
     "output_type": "stream",
     "text": [
      "<class 'int'>\n"
     ]
    }
   ],
   "source": [
    "x = 5\n",
    "print(type(x))"
   ]
  },
  {
   "cell_type": "markdown",
   "id": "bfc5a2c1-7b12-4c1e-9e7a-6ffc09ae697d",
   "metadata": {},
   "source": [
    "List"
   ]
  },
  {
   "cell_type": "code",
   "execution_count": 6,
   "id": "3adc6d2f-b142-4ba7-ae22-74229f8f6962",
   "metadata": {},
   "outputs": [
    {
     "name": "stdout",
     "output_type": "stream",
     "text": [
      "apple\n",
      "['apple', 'blueberry', 'cherry']\n",
      "['apple', 'blueberry', 'cherry', 'date']\n",
      "['apple', 'blueberry', 'date']\n",
      "['blueberry', 'date']\n",
      "3\n"
     ]
    }
   ],
   "source": [
    "# Creating a list\n",
    "fruits = ['apple', 'banana', 'cherry']\n",
    "\n",
    "# Accessing elements\n",
    "print(fruits[0])\n",
    "\n",
    "# Modifying elements\n",
    "fruits[1] = 'blueberry'\n",
    "print(fruits)\n",
    "\n",
    "# Adding elements\n",
    "fruits.append('date')\n",
    "print(fruits)\n",
    "\n",
    "# Removing elements\n",
    "fruits.remove('cherry')\n",
    "print(fruits) \n",
    "\n",
    "# Slicing\n",
    "print(fruits[1:3])\n",
    "\n",
    "# Length of the list\n",
    "print(len(fruits))"
   ]
  },
  {
   "cell_type": "code",
   "execution_count": 16,
   "id": "bc67a958-730d-4d7c-8303-9faee47ec645",
   "metadata": {},
   "outputs": [
    {
     "name": "stdout",
     "output_type": "stream",
     "text": [
      "['apple', 'banana', 'cherry', 'orange', 'kiwi', 'melon', 'mango']\n",
      "7\n",
      "banana\n",
      "mango\n",
      "['cherry', 'orange', 'kiwi']\n",
      "Yes, 'apple' is in the fruits list\n",
      "['apple', 'blackcurrant', 'cherry']\n",
      "['apple', 'banana', 'watermelon', 'cherry']\n",
      "['apple', 'banana', 'watermelon', 'cherry', 'orange']\n",
      "['apple', 'banana', 'cherry', 'mango', 'pineapple', 'papaya']\n",
      "['apple', 'cherry', 'mango', 'pineapple', 'papaya']\n",
      "['cherry', 'mango', 'pineapple', 'papaya']\n"
     ]
    }
   ],
   "source": [
    "thislist = [\"apple\", \"banana\", \"cherry\", \"orange\", \"kiwi\", \"melon\", \"mango\"]\n",
    "print(thislist)\n",
    "\n",
    "print(len(thislist))\n",
    "\n",
    "print(thislist[1])\n",
    "\n",
    "print(thislist[-1])\n",
    "\n",
    "print(thislist[2:5])\n",
    "\n",
    "if \"apple\" in thislist:\n",
    "  print(\"Yes, 'apple' is in the fruits list\")\n",
    "\n",
    "thislist2 = [\"apple\", \"banana\", \"cherry\"]\n",
    "thislist2[1] = \"blackcurrant\"\n",
    "print(thislist2)\n",
    "\n",
    "thislist3 = [\"apple\", \"banana\", \"cherry\"]\n",
    "thislist3.insert(2, \"watermelon\")\n",
    "print(thislist3)\n",
    "\n",
    "thislist3.append(\"orange\")\n",
    "print(thislist3)\n",
    "\n",
    "thislist = [\"apple\", \"banana\", \"cherry\"]\n",
    "tropical = [\"mango\", \"pineapple\", \"papaya\"]\n",
    "thislist.extend(tropical)\n",
    "print(thislist)\n",
    "\n",
    "thislist.remove(\"banana\")\n",
    "print(thislist)\n",
    "\n",
    "del thislist[0]\n",
    "print(thislist)\n",
    "\n",
    "del thislist"
   ]
  },
  {
   "cell_type": "code",
   "execution_count": 20,
   "id": "4d77cb87-639f-4958-8eba-61489312d8ff",
   "metadata": {},
   "outputs": [
    {
     "name": "stdout",
     "output_type": "stream",
     "text": [
      "['banana', 'kiwi', 'mango', 'orange', 'pineapple']\n",
      "[23, 50, 65, 82, 100]\n",
      "['pineapple', 'orange', 'mango', 'kiwi', 'banana']\n",
      "['cherry', 'Kiwi', 'Orange', 'banana']\n"
     ]
    }
   ],
   "source": [
    "thislist = [\"orange\", \"mango\", \"kiwi\", \"pineapple\", \"banana\"]\n",
    "thislist.sort()\n",
    "print(thislist)\n",
    "\n",
    "thislist = [100, 50, 65, 82, 23]\n",
    "thislist.sort()\n",
    "print(thislist)\n",
    "\n",
    "thislist = [\"orange\", \"mango\", \"kiwi\", \"pineapple\", \"banana\"]\n",
    "thislist.sort(reverse = True)\n",
    "print(thislist)\n",
    "\n",
    "thislist = [\"banana\", \"Orange\", \"Kiwi\", \"cherry\"]\n",
    "thislist.reverse()\n",
    "print(thislist)"
   ]
  },
  {
   "cell_type": "code",
   "execution_count": 23,
   "id": "bcd48642-9023-43df-b3bf-35da7c4536c9",
   "metadata": {},
   "outputs": [
    {
     "name": "stdout",
     "output_type": "stream",
     "text": [
      "['apple', 'banana', 'cherry']\n",
      "['apple', 'banana', 'cherry']\n",
      "['a', 'b', 'c', 1, 2, 3]\n"
     ]
    }
   ],
   "source": [
    "thislist = [\"apple\", \"banana\", \"cherry\"]\n",
    "mylist = thislist.copy()\n",
    "print(mylist)\n",
    "\n",
    "list = thislist[:]\n",
    "print(list)\n",
    "\n",
    "list1 = [\"a\", \"b\", \"c\"]\n",
    "list2 = [1, 2, 3]\n",
    "\n",
    "list3 = list1 + list2\n",
    "print(list3)"
   ]
  },
  {
   "cell_type": "markdown",
   "id": "ded61f99-907a-43b2-9038-3d7872344a9e",
   "metadata": {},
   "source": [
    "Tuple"
   ]
  },
  {
   "cell_type": "code",
   "execution_count": 10,
   "id": "76d2c9ed-8c78-4acb-86fc-9a112754cc3c",
   "metadata": {},
   "outputs": [
    {
     "name": "stdout",
     "output_type": "stream",
     "text": [
      "20\n",
      "Point A\n",
      "3\n"
     ]
    }
   ],
   "source": [
    "# Creating a tuple\n",
    "tuple = (10, 20, 30)\n",
    "\n",
    "# Accessing elements\n",
    "print(tuple[1])\n",
    "\n",
    "# Tuples are immutable; attempting to modify will raise an error\n",
    "#tuple[1] = 25\n",
    "\n",
    "# Using tuples as dictionary keys\n",
    "location = {(10, 20): 'Point A', (30, 40): 'Point B'}\n",
    "print(location[(10, 20)])\n",
    "\n",
    "# Length of the tuple\n",
    "print(len(tuple))  # Output: 3"
   ]
  },
  {
   "cell_type": "markdown",
   "id": "998573d4-efff-4f1d-b95e-d11d244de3d7",
   "metadata": {},
   "source": [
    "Set"
   ]
  },
  {
   "cell_type": "code",
   "execution_count": 12,
   "id": "aff12ff2-046d-42a7-a451-73d6e4fd44a8",
   "metadata": {},
   "outputs": [
    {
     "name": "stdout",
     "output_type": "stream",
     "text": [
      "{'red', 'green', 'yellow', 'blue'}\n",
      "{'red', 'yellow', 'blue'}\n",
      "{'red', 'yellow', 'blue'}\n",
      "{1, 2, 3, 4, 5}\n",
      "{3}\n",
      "{1, 2}\n"
     ]
    }
   ],
   "source": [
    "# Creating a set\n",
    "colors = {'red', 'green', 'blue'}\n",
    "\n",
    "# Adding elements\n",
    "colors.add('yellow')\n",
    "print(colors) \n",
    "\n",
    "# Removing elements\n",
    "colors.remove('green')\n",
    "print(colors)\n",
    "\n",
    "# Sets do not allow duplicates\n",
    "colors.add('red')\n",
    "print(colors) \n",
    "\n",
    "# Set operations\n",
    "a = {1, 2, 3}\n",
    "b = {3, 4, 5}\n",
    "print(a.union(b))        \n",
    "print(a.intersection(b))\n",
    "print(a.difference(b))  "
   ]
  },
  {
   "cell_type": "code",
   "execution_count": 33,
   "id": "536f349d-793d-4819-bbd8-15b6c002092a",
   "metadata": {},
   "outputs": [
    {
     "name": "stdout",
     "output_type": "stream",
     "text": [
      "{'cherry', 'banana', 'apple'}\n",
      "3\n",
      "cherry\n",
      "banana\n",
      "apple\n",
      "{'cherry', 'banana', 'orange', 'apple'}\n",
      "{'cherry', 'banana', 'papaya', 'mango', 'pineapple', 'orange', 'apple'}\n",
      "{'cherry', 'papaya', 'mango', 'pineapple', 'orange', 'apple'}\n",
      "{'cherry', 'papaya', 'pineapple', 'orange', 'apple'}\n"
     ]
    }
   ],
   "source": [
    "thisset = {\"apple\", \"banana\", \"cherry\"}\n",
    "print(thisset)\n",
    "\n",
    "print(len(thisset))\n",
    "\n",
    "for x in thisset:\n",
    "  print(x)\n",
    "\n",
    "thisset.add(\"orange\")\n",
    "print(thisset)\n",
    "\n",
    "tropical = {\"pineapple\", \"mango\", \"papaya\"}\n",
    "\n",
    "thisset.update(tropical)\n",
    "print(thisset)\n",
    "\n",
    "thisset.remove(\"banana\")\n",
    "print(thisset)\n",
    "\n",
    "thisset.discard(\"mango\")\n",
    "print(thisset)"
   ]
  },
  {
   "cell_type": "markdown",
   "id": "02770f53-78c2-49e1-bc8a-25d55476c295",
   "metadata": {},
   "source": [
    "Dictionary"
   ]
  },
  {
   "cell_type": "code",
   "execution_count": 13,
   "id": "cfc42edb-a407-4ca7-a7aa-0e609ce1b179",
   "metadata": {},
   "outputs": [
    {
     "name": "stdout",
     "output_type": "stream",
     "text": [
      "Alice\n",
      "{'name': 'Alice', 'age': 30, 'city': 'New York', 'email': 'alice@example.com'}\n",
      "{'name': 'Alice', 'city': 'New York', 'email': 'alice@example.com'}\n",
      "name: Alice\n",
      "city: New York\n",
      "email: alice@example.com\n",
      "3\n"
     ]
    }
   ],
   "source": [
    "# Creating a dictionary\n",
    "person = {'name': 'Alice', 'age': 30, 'city': 'New York'}\n",
    "\n",
    "# Accessing values\n",
    "print(person['name']) \n",
    "\n",
    "# Adding key-value pairs\n",
    "person['email'] = 'alice@example.com'\n",
    "print(person)\n",
    "\n",
    "# Removing key-value pairs\n",
    "del person['age']\n",
    "print(person) \n",
    "\n",
    "# Iterating through a dictionary\n",
    "for key, value in person.items():\n",
    "    print(f'{key}: {value}')\n",
    "\n",
    "# Length of the dictionary\n",
    "print(len(person))  # Output: 3"
   ]
  },
  {
   "cell_type": "code",
   "execution_count": 2,
   "id": "e6e56888-6108-4bc8-a60b-b95577b830a8",
   "metadata": {},
   "outputs": [
    {
     "name": "stdout",
     "output_type": "stream",
     "text": [
      "dict_keys(['brand', 'model', 'year'])\n",
      "dict_keys(['brand', 'model', 'year', 'color'])\n",
      "1964\n",
      "dict_values(['Ford', 'Mustang', 1964, 'white'])\n",
      "dict_keys(['brand', 'model', 'year', 'color'])\n",
      "dict_values(['Ford', 'Mustang', 2020, 'white'])\n",
      "dict_items([('brand', 'Ford'), ('model', 'Mustang'), ('year', 2020), ('color', 'white')])\n"
     ]
    }
   ],
   "source": [
    "car = {\n",
    "\"brand\": \"Ford\",\n",
    "\"model\": \"Mustang\",\n",
    "\"year\": 1964\n",
    "}\n",
    "\n",
    "x = car.keys()\n",
    "print(x) \n",
    "\n",
    "car[\"color\"] = \"white\"\n",
    "print(x)\n",
    "\n",
    "print(car['year'])\n",
    "print(car.values())\n",
    "print(car.keys())\n",
    "\n",
    "car['year']=2020\n",
    "print(car.values())\n",
    "\n",
    "print(car.items())"
   ]
  },
  {
   "cell_type": "code",
   "execution_count": 3,
   "id": "43be433e-209b-4155-9371-08eca7b192e4",
   "metadata": {},
   "outputs": [
    {
     "name": "stdout",
     "output_type": "stream",
     "text": [
      "Yes, 'model' is one of the keys in the thisdict dictionary\n"
     ]
    }
   ],
   "source": [
    "if \"model\" in car:\n",
    "    print(\"Yes, 'model' is one of the keys in the thisdict dictionary\")"
   ]
  },
  {
   "cell_type": "code",
   "execution_count": 4,
   "id": "4fb4d502-90fc-4ad2-9416-39cdfbe8d725",
   "metadata": {},
   "outputs": [
    {
     "name": "stdout",
     "output_type": "stream",
     "text": [
      "{'brand': 'Ford', 'model': 'Mustang', 'year': 2020}\n"
     ]
    },
    {
     "ename": "NameError",
     "evalue": "name 'car' is not defined",
     "output_type": "error",
     "traceback": [
      "\u001b[1;31m---------------------------------------------------------------------------\u001b[0m",
      "\u001b[1;31mNameError\u001b[0m                                 Traceback (most recent call last)",
      "Cell \u001b[1;32mIn[4], line 5\u001b[0m\n\u001b[0;32m      2\u001b[0m \u001b[38;5;28mprint\u001b[39m(car)\n\u001b[0;32m      4\u001b[0m \u001b[38;5;28;01mdel\u001b[39;00m car\n\u001b[1;32m----> 5\u001b[0m \u001b[38;5;28mprint\u001b[39m(car)\n",
      "\u001b[1;31mNameError\u001b[0m: name 'car' is not defined"
     ]
    }
   ],
   "source": [
    "car.popitem()\n",
    "print(car)\n",
    "\n",
    "del car\n",
    "print(car)"
   ]
  },
  {
   "cell_type": "code",
   "execution_count": 21,
   "id": "9912b0a4-1ae0-417c-a3a6-544ebfe365d7",
   "metadata": {},
   "outputs": [
    {
     "name": "stdout",
     "output_type": "stream",
     "text": [
      "{}\n"
     ]
    }
   ],
   "source": [
    "car.clear()\n",
    "print(car)"
   ]
  },
  {
   "cell_type": "code",
   "execution_count": 23,
   "id": "5c71c14b-22c5-43cf-b7c4-45914224e259",
   "metadata": {},
   "outputs": [
    {
     "name": "stdout",
     "output_type": "stream",
     "text": [
      "brand Ford\n",
      "model Mustang\n",
      "year 2020\n",
      "color white\n"
     ]
    }
   ],
   "source": [
    "for x, y in car.items():\n",
    "  print(x, y)"
   ]
  },
  {
   "cell_type": "code",
   "execution_count": 24,
   "id": "420b6f41-94ca-414e-8852-7526188d2890",
   "metadata": {},
   "outputs": [],
   "source": [
    "child1 = {\n",
    "  \"name\" : \"Emil\",\n",
    "  \"year\" : 2004\n",
    "}\n",
    "child2 = {\n",
    "  \"name\" : \"Tobias\",\n",
    "  \"year\" : 2007\n",
    "}\n",
    "child3 = {\n",
    "  \"name\" : \"Linus\",\n",
    "  \"year\" : 2011\n",
    "}\n",
    "\n",
    "myfamily = {\n",
    "  \"child1\" : child1,\n",
    "  \"child2\" : child2,\n",
    "  \"child3\" : child3\n",
    "}"
   ]
  },
  {
   "cell_type": "code",
   "execution_count": 26,
   "id": "b2fb7a91-01b0-4c77-aeff-51179b4f5305",
   "metadata": {},
   "outputs": [
    {
     "name": "stdout",
     "output_type": "stream",
     "text": [
      "Emil\n"
     ]
    }
   ],
   "source": [
    "print(myfamily['child1']['name'])"
   ]
  },
  {
   "cell_type": "code",
   "execution_count": 36,
   "id": "b19457de-a3d1-4ade-8805-ce60050f66bd",
   "metadata": {},
   "outputs": [
    {
     "name": "stdout",
     "output_type": "stream",
     "text": [
      "child1\n",
      "('name', 'Emil')\n",
      "('year', 2004)\n",
      "child2\n",
      "('name', 'Tobias')\n",
      "('year', 2007)\n",
      "child3\n",
      "('name', 'Linus')\n",
      "('year', 2011)\n"
     ]
    }
   ],
   "source": [
    "for x, obj in myfamily.items():\n",
    "    print(x)\n",
    "    for y in obj.items():\n",
    "        print(y)"
   ]
  },
  {
   "cell_type": "code",
   "execution_count": null,
   "id": "e4b3a6b4-d38d-4259-8c55-1c16ce646903",
   "metadata": {},
   "outputs": [],
   "source": []
  }
 ],
 "metadata": {
  "kernelspec": {
   "display_name": "Python 3 (ipykernel)",
   "language": "python",
   "name": "python3"
  },
  "language_info": {
   "codemirror_mode": {
    "name": "ipython",
    "version": 3
   },
   "file_extension": ".py",
   "mimetype": "text/x-python",
   "name": "python",
   "nbconvert_exporter": "python",
   "pygments_lexer": "ipython3",
   "version": "3.12.4"
  }
 },
 "nbformat": 4,
 "nbformat_minor": 5
}
