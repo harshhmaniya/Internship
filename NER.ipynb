{
 "cells": [
  {
   "cell_type": "markdown",
   "id": "55592153-03b4-45af-8e9f-965d737b7da3",
   "metadata": {},
   "source": [
    "### NER using spaCy"
   ]
  },
  {
   "cell_type": "code",
   "execution_count": 39,
   "id": "e6daea9a-6326-4d00-acff-09464ac1e9b6",
   "metadata": {},
   "outputs": [],
   "source": [
    "import spacy\n",
    "from spacy import displacy\n",
    "import pandas as pd"
   ]
  },
  {
   "cell_type": "code",
   "execution_count": 40,
   "id": "c9c18fb2-2c57-41ea-b75b-4f84c9b95c7f",
   "metadata": {},
   "outputs": [],
   "source": [
    "paragraph = \" Hello! My name is Harsh Maniya. I am studying engineering in artificial intelligence and data science. I live in Surat. My college name is SCET. I have keen interesrt in data science, deep learning and AI agents. i am currently doing an internship at AppStoneLab Technologies LLP. Next Month we have an event at our college.\""
   ]
  },
  {
   "cell_type": "code",
   "execution_count": 41,
   "id": "4a16fe44-2658-420b-ab57-04cbb1e88707",
   "metadata": {},
   "outputs": [],
   "source": [
    "nlp = spacy.load('en_core_web_lg')\n",
    "doc = nlp(paragraph)"
   ]
  },
  {
   "cell_type": "code",
   "execution_count": 42,
   "id": "95b44092-bc29-49f2-8ccd-f7c2bb9b0fc6",
   "metadata": {},
   "outputs": [
    {
     "name": "stdout",
     "output_type": "stream",
     "text": [
      "Harsh Maniya --> PERSON\n",
      "Surat --> GPE\n",
      "SCET --> ORG\n",
      "AI --> ORG\n",
      "AppStoneLab Technologies LLP --> ORG\n",
      "Next Month --> DATE\n"
     ]
    }
   ],
   "source": [
    "for ent in doc.ents:\n",
    "    print(ent.text,'-->', ent.label_)"
   ]
  },
  {
   "cell_type": "code",
   "execution_count": 47,
   "id": "c8c2afd5-123c-424c-b702-812410110a91",
   "metadata": {},
   "outputs": [
    {
     "data": {
      "text/plain": [
       "(Harsh Maniya, Surat, SCET, AI, AppStoneLab Technologies LLP, Next Month)"
      ]
     },
     "execution_count": 47,
     "metadata": {},
     "output_type": "execute_result"
    }
   ],
   "source": [
    "doc.ents"
   ]
  },
  {
   "cell_type": "code",
   "execution_count": 43,
   "id": "49bdddd7-f887-4fd6-9881-3e739c7371c7",
   "metadata": {},
   "outputs": [
    {
     "data": {
      "text/html": [
       "<span class=\"tex2jax_ignore\"><div class=\"entities\" style=\"line-height: 2.5; direction: ltr\"> Hello! My name is \n",
       "<mark class=\"entity\" style=\"background: #aa9cfc; padding: 0.45em 0.6em; margin: 0 0.25em; line-height: 1; border-radius: 0.35em;\">\n",
       "    Harsh Maniya\n",
       "    <span style=\"font-size: 0.8em; font-weight: bold; line-height: 1; border-radius: 0.35em; vertical-align: middle; margin-left: 0.5rem\">PERSON</span>\n",
       "</mark>\n",
       ". I am studying engineering in artificial intelligence and data science. I live in \n",
       "<mark class=\"entity\" style=\"background: #feca74; padding: 0.45em 0.6em; margin: 0 0.25em; line-height: 1; border-radius: 0.35em;\">\n",
       "    Surat\n",
       "    <span style=\"font-size: 0.8em; font-weight: bold; line-height: 1; border-radius: 0.35em; vertical-align: middle; margin-left: 0.5rem\">GPE</span>\n",
       "</mark>\n",
       ". My college name is \n",
       "<mark class=\"entity\" style=\"background: #7aecec; padding: 0.45em 0.6em; margin: 0 0.25em; line-height: 1; border-radius: 0.35em;\">\n",
       "    SCET\n",
       "    <span style=\"font-size: 0.8em; font-weight: bold; line-height: 1; border-radius: 0.35em; vertical-align: middle; margin-left: 0.5rem\">ORG</span>\n",
       "</mark>\n",
       ". I have keen interesrt in data science, deep learning and \n",
       "<mark class=\"entity\" style=\"background: #7aecec; padding: 0.45em 0.6em; margin: 0 0.25em; line-height: 1; border-radius: 0.35em;\">\n",
       "    AI\n",
       "    <span style=\"font-size: 0.8em; font-weight: bold; line-height: 1; border-radius: 0.35em; vertical-align: middle; margin-left: 0.5rem\">ORG</span>\n",
       "</mark>\n",
       " agents. i am currently doing an internship at \n",
       "<mark class=\"entity\" style=\"background: #7aecec; padding: 0.45em 0.6em; margin: 0 0.25em; line-height: 1; border-radius: 0.35em;\">\n",
       "    AppStoneLab Technologies LLP\n",
       "    <span style=\"font-size: 0.8em; font-weight: bold; line-height: 1; border-radius: 0.35em; vertical-align: middle; margin-left: 0.5rem\">ORG</span>\n",
       "</mark>\n",
       ". \n",
       "<mark class=\"entity\" style=\"background: #bfe1d9; padding: 0.45em 0.6em; margin: 0 0.25em; line-height: 1; border-radius: 0.35em;\">\n",
       "    Next Month\n",
       "    <span style=\"font-size: 0.8em; font-weight: bold; line-height: 1; border-radius: 0.35em; vertical-align: middle; margin-left: 0.5rem\">DATE</span>\n",
       "</mark>\n",
       " we have an event at our college.</div></span>"
      ],
      "text/plain": [
       "<IPython.core.display.HTML object>"
      ]
     },
     "metadata": {},
     "output_type": "display_data"
    }
   ],
   "source": [
    "displacy.render(doc, style=\"ent\")"
   ]
  },
  {
   "cell_type": "markdown",
   "id": "34975a31-d48a-4db7-bb36-32218b678978",
   "metadata": {},
   "source": [
    "### NER using NLTK"
   ]
  },
  {
   "cell_type": "code",
   "execution_count": 44,
   "id": "0ba53231-45a7-444c-b9bc-1bf098629059",
   "metadata": {},
   "outputs": [],
   "source": [
    "import nltk\n",
    "from nltk.tokenize import word_tokenize\n",
    "from nltk.tag import pos_tag\n",
    "from nltk.chunk import ne_chunk"
   ]
  },
  {
   "cell_type": "code",
   "execution_count": 45,
   "id": "01c345bf-e614-450c-be20-5f674c457265",
   "metadata": {},
   "outputs": [],
   "source": [
    "tokenized = word_tokenize(paragraph)\n",
    "tagged = pos_tag(tokenized)\n",
    "entities = ne_chunk(tagged)"
   ]
  },
  {
   "cell_type": "code",
   "execution_count": 46,
   "id": "a99614bc-e875-4f57-ad8c-b3a986f88037",
   "metadata": {},
   "outputs": [
    {
     "name": "stdout",
     "output_type": "stream",
     "text": [
      "GPE --> Hello\n",
      "PERSON --> HarshManiya\n",
      "GPE --> Surat\n",
      "ORGANIZATION --> SCET\n",
      "ORGANIZATION --> AI\n",
      "ORGANIZATION --> AppStoneLabTechnologies\n"
     ]
    }
   ],
   "source": [
    "for entity in entities:\n",
    "    if hasattr(entity, 'label') and entity.label() == 'ORGANIZATION':\n",
    "        print(entity.label(),'-->', ''.join(c[0] for c in entity))\n",
    "    elif hasattr(entity, 'label') and entity.label() == 'GPE':\n",
    "        print(entity.label(), '-->',''.join(c[0] for c in entity))\n",
    "    elif hasattr(entity, 'label') and entity.label() == 'PERSON':\n",
    "        print(entity.label(), '-->',''.join(c[0] for c in entity))"
   ]
  },
  {
   "cell_type": "code",
   "execution_count": null,
   "id": "41802be5-6f68-4181-beef-ef4075fb7221",
   "metadata": {},
   "outputs": [],
   "source": []
  }
 ],
 "metadata": {
  "kernelspec": {
   "display_name": "Python 3 (ipykernel)",
   "language": "python",
   "name": "python3"
  },
  "language_info": {
   "codemirror_mode": {
    "name": "ipython",
    "version": 3
   },
   "file_extension": ".py",
   "mimetype": "text/x-python",
   "name": "python",
   "nbconvert_exporter": "python",
   "pygments_lexer": "ipython3",
   "version": "3.12.4"
  }
 },
 "nbformat": 4,
 "nbformat_minor": 5
}
